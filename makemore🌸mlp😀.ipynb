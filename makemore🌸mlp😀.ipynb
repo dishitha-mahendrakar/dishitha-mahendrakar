{
  "nbformat": 4,
  "nbformat_minor": 0,
  "metadata": {
    "colab": {
      "provenance": [],
      "authorship_tag": "ABX9TyNdqUUDO8o1iIRc+Hm73oH2",
      "include_colab_link": true
    },
    "kernelspec": {
      "name": "python3",
      "display_name": "Python 3"
    },
    "language_info": {
      "name": "python"
    }
  },
  "cells": [
    {
      "cell_type": "markdown",
      "metadata": {
        "id": "view-in-github",
        "colab_type": "text"
      },
      "source": [
        "<a href=\"https://colab.research.google.com/github/dishitha-mahendrakar/dishitha-mahendrakar/blob/main/makemore%F0%9F%8C%B8mlp%F0%9F%98%80.ipynb\" target=\"_parent\"><img src=\"https://colab.research.google.com/assets/colab-badge.svg\" alt=\"Open In Colab\"/></a>"
      ]
    },
    {
      "cell_type": "code",
      "execution_count": 185,
      "metadata": {
        "id": "bkw2RYFZ3caF"
      },
      "outputs": [],
      "source": [
        "# lets download the dataset\n",
        "# !wget https://raw.githubusercontent.com/karpathy/makemore/master/names.txt"
      ]
    },
    {
      "cell_type": "code",
      "source": [
        "import torch\n",
        "import torch.nn.functional as F\n",
        "import matplotlib.pyplot as plt # for making figures\n",
        "%matplotlib inline"
      ],
      "metadata": {
        "id": "00z5HC9H9c0m"
      },
      "execution_count": 186,
      "outputs": []
    },
    {
      "cell_type": "code",
      "source": [
        "# read in all the words\n",
        "words = open('names.txt','r').read().splitlines()\n",
        "words[:8]"
      ],
      "metadata": {
        "colab": {
          "base_uri": "https://localhost:8080/"
        },
        "id": "jeUtzhbK-bOV",
        "outputId": "4f9e06d2-38c8-4f0e-aa30-cd698b41f158"
      },
      "execution_count": 187,
      "outputs": [
        {
          "output_type": "execute_result",
          "data": {
            "text/plain": [
              "['emma', 'olivia', 'ava', 'isabella', 'sophia', 'charlotte', 'mia', 'amelia']"
            ]
          },
          "metadata": {},
          "execution_count": 187
        }
      ]
    },
    {
      "cell_type": "code",
      "source": [
        "len(words)"
      ],
      "metadata": {
        "colab": {
          "base_uri": "https://localhost:8080/"
        },
        "id": "d2YhUadX-1Sj",
        "outputId": "0263a669-91e1-4898-cb2e-77f983ac3008"
      },
      "execution_count": 188,
      "outputs": [
        {
          "output_type": "execute_result",
          "data": {
            "text/plain": [
              "32033"
            ]
          },
          "metadata": {},
          "execution_count": 188
        }
      ]
    },
    {
      "cell_type": "code",
      "source": [
        "# build the vocabulary of characters and mappings to/from integers\n",
        "chars = sorted(list(set(''.join(words))))\n",
        "stoi = {s:i+1 for i,s in enumerate(chars)}\n",
        "stoi['.'] = 0\n",
        "itos = {i:s for s,i in stoi.items()}\n",
        "print(itos)"
      ],
      "metadata": {
        "colab": {
          "base_uri": "https://localhost:8080/"
        },
        "id": "meMVcQ6W-47R",
        "outputId": "7aacd179-ad9d-4196-99a0-6e1bdc616051"
      },
      "execution_count": 189,
      "outputs": [
        {
          "output_type": "stream",
          "name": "stdout",
          "text": [
            "{1: 'a', 2: 'b', 3: 'c', 4: 'd', 5: 'e', 6: 'f', 7: 'g', 8: 'h', 9: 'i', 10: 'j', 11: 'k', 12: 'l', 13: 'm', 14: 'n', 15: 'o', 16: 'p', 17: 'q', 18: 'r', 19: 's', 20: 't', 21: 'u', 22: 'v', 23: 'w', 24: 'x', 25: 'y', 26: 'z', 0: '.'}\n"
          ]
        }
      ]
    },
    {
      "cell_type": "code",
      "source": [
        "# build the dataset\n",
        "block_size = 3 # context length : how many characters do we take to predict the next one?\n",
        "X, Y = [], []\n",
        "for w in words[:5]:\n",
        "  print(w)\n",
        "  context = [0] * block_size\n",
        "  for ch in w + '.':\n",
        "    ix = stoi[ch]\n",
        "    X.append(context)\n",
        "    Y.append(ix)\n",
        "    print(''.join(itos[i] for i in context), '--->', itos[ix])\n",
        "    context = context[1:] + [ix] # crop and append\n",
        "\n",
        "X = torch.tensor(X)\n",
        "Y = torch.tensor(Y)"
      ],
      "metadata": {
        "colab": {
          "base_uri": "https://localhost:8080/"
        },
        "id": "Iv3XwODF_SE3",
        "outputId": "c9b2df9c-c4d1-4de3-ee3a-bf50c4b0363f"
      },
      "execution_count": 190,
      "outputs": [
        {
          "output_type": "stream",
          "name": "stdout",
          "text": [
            "emma\n",
            "... ---> e\n",
            "..e ---> m\n",
            ".em ---> m\n",
            "emm ---> a\n",
            "mma ---> .\n",
            "olivia\n",
            "... ---> o\n",
            "..o ---> l\n",
            ".ol ---> i\n",
            "oli ---> v\n",
            "liv ---> i\n",
            "ivi ---> a\n",
            "via ---> .\n",
            "ava\n",
            "... ---> a\n",
            "..a ---> v\n",
            ".av ---> a\n",
            "ava ---> .\n",
            "isabella\n",
            "... ---> i\n",
            "..i ---> s\n",
            ".is ---> a\n",
            "isa ---> b\n",
            "sab ---> e\n",
            "abe ---> l\n",
            "bel ---> l\n",
            "ell ---> a\n",
            "lla ---> .\n",
            "sophia\n",
            "... ---> s\n",
            "..s ---> o\n",
            ".so ---> p\n",
            "sop ---> h\n",
            "oph ---> i\n",
            "phi ---> a\n",
            "hia ---> .\n"
          ]
        }
      ]
    },
    {
      "cell_type": "code",
      "source": [
        "# build the dataset\n",
        "block_size = 4 # context length : how many characters do we take to predict the next one?\n",
        "X, Y = [], []\n",
        "for w in words[:5]:\n",
        "  print(w)\n",
        "  context = [0] * block_size\n",
        "  for ch in w + '.':\n",
        "    ix = stoi[ch]\n",
        "    X.append(context)\n",
        "    Y.append(ix)\n",
        "    print(''.join(itos[i] for i in context), '--->', itos[ix])\n",
        "    context = context[1:] + [ix] # crop and append\n",
        "\n",
        "X = torch.tensor(X)\n",
        "Y = torch.tensor(Y)"
      ],
      "metadata": {
        "colab": {
          "base_uri": "https://localhost:8080/"
        },
        "outputId": "24f581ce-b6d9-47bd-e15d-c7632fa9a8ba",
        "id": "lKyROTh4WDVJ"
      },
      "execution_count": 191,
      "outputs": [
        {
          "output_type": "stream",
          "name": "stdout",
          "text": [
            "emma\n",
            ".... ---> e\n",
            "...e ---> m\n",
            "..em ---> m\n",
            ".emm ---> a\n",
            "emma ---> .\n",
            "olivia\n",
            ".... ---> o\n",
            "...o ---> l\n",
            "..ol ---> i\n",
            ".oli ---> v\n",
            "oliv ---> i\n",
            "livi ---> a\n",
            "ivia ---> .\n",
            "ava\n",
            ".... ---> a\n",
            "...a ---> v\n",
            "..av ---> a\n",
            ".ava ---> .\n",
            "isabella\n",
            ".... ---> i\n",
            "...i ---> s\n",
            "..is ---> a\n",
            ".isa ---> b\n",
            "isab ---> e\n",
            "sabe ---> l\n",
            "abel ---> l\n",
            "bell ---> a\n",
            "ella ---> .\n",
            "sophia\n",
            ".... ---> s\n",
            "...s ---> o\n",
            "..so ---> p\n",
            ".sop ---> h\n",
            "soph ---> i\n",
            "ophi ---> a\n",
            "phia ---> .\n"
          ]
        }
      ]
    },
    {
      "cell_type": "code",
      "source": [
        "# build the dataset\n",
        "block_size = 5 # context length : how many characters do we take to predict the next one?\n",
        "X, Y = [], []\n",
        "for w in words[:5]:\n",
        "  print(w)\n",
        "  context = [0] * block_size\n",
        "  for ch in w + '.':\n",
        "    ix = stoi[ch]\n",
        "    X.append(context)\n",
        "    Y.append(ix)\n",
        "    print(''.join(itos[i] for i in context), '--->', itos[ix])\n",
        "    context = context[1:] + [ix] # crop and append\n",
        "\n",
        "X = torch.tensor(X)\n",
        "Y = torch.tensor(Y)"
      ],
      "metadata": {
        "colab": {
          "base_uri": "https://localhost:8080/"
        },
        "outputId": "bc9c6319-d7e4-48e8-9e17-50c2cf303618",
        "id": "AIRic6z6WIs6"
      },
      "execution_count": 192,
      "outputs": [
        {
          "output_type": "stream",
          "name": "stdout",
          "text": [
            "emma\n",
            "..... ---> e\n",
            "....e ---> m\n",
            "...em ---> m\n",
            "..emm ---> a\n",
            ".emma ---> .\n",
            "olivia\n",
            "..... ---> o\n",
            "....o ---> l\n",
            "...ol ---> i\n",
            "..oli ---> v\n",
            ".oliv ---> i\n",
            "olivi ---> a\n",
            "livia ---> .\n",
            "ava\n",
            "..... ---> a\n",
            "....a ---> v\n",
            "...av ---> a\n",
            "..ava ---> .\n",
            "isabella\n",
            "..... ---> i\n",
            "....i ---> s\n",
            "...is ---> a\n",
            "..isa ---> b\n",
            ".isab ---> e\n",
            "isabe ---> l\n",
            "sabel ---> l\n",
            "abell ---> a\n",
            "bella ---> .\n",
            "sophia\n",
            "..... ---> s\n",
            "....s ---> o\n",
            "...so ---> p\n",
            "..sop ---> h\n",
            ".soph ---> i\n",
            "sophi ---> a\n",
            "ophia ---> .\n"
          ]
        }
      ]
    },
    {
      "cell_type": "code",
      "source": [
        "# build the dataset\n",
        "block_size = 10 # context length : how many characters do we take to predict the next one?\n",
        "X, Y = [], []\n",
        "for w in words[:5]:\n",
        "  print(w)\n",
        "  context = [0] * block_size\n",
        "  for ch in w + '.':\n",
        "    ix = stoi[ch]\n",
        "    X.append(context)\n",
        "    Y.append(ix)\n",
        "    print(''.join(itos[i] for i in context), '--->', itos[ix])\n",
        "    context = context[1:] + [ix] # crop and append\n",
        "\n",
        "X = torch.tensor(X)\n",
        "Y = torch.tensor(Y)"
      ],
      "metadata": {
        "colab": {
          "base_uri": "https://localhost:8080/"
        },
        "outputId": "5f1e5dd5-3db6-4c34-d06b-445629f641d3",
        "id": "-fPai84PWL_H"
      },
      "execution_count": 193,
      "outputs": [
        {
          "output_type": "stream",
          "name": "stdout",
          "text": [
            "emma\n",
            ".......... ---> e\n",
            ".........e ---> m\n",
            "........em ---> m\n",
            ".......emm ---> a\n",
            "......emma ---> .\n",
            "olivia\n",
            ".......... ---> o\n",
            ".........o ---> l\n",
            "........ol ---> i\n",
            ".......oli ---> v\n",
            "......oliv ---> i\n",
            ".....olivi ---> a\n",
            "....olivia ---> .\n",
            "ava\n",
            ".......... ---> a\n",
            ".........a ---> v\n",
            "........av ---> a\n",
            ".......ava ---> .\n",
            "isabella\n",
            ".......... ---> i\n",
            ".........i ---> s\n",
            "........is ---> a\n",
            ".......isa ---> b\n",
            "......isab ---> e\n",
            ".....isabe ---> l\n",
            "....isabel ---> l\n",
            "...isabell ---> a\n",
            "..isabella ---> .\n",
            "sophia\n",
            ".......... ---> s\n",
            ".........s ---> o\n",
            "........so ---> p\n",
            ".......sop ---> h\n",
            "......soph ---> i\n",
            ".....sophi ---> a\n",
            "....sophia ---> .\n"
          ]
        }
      ]
    },
    {
      "cell_type": "code",
      "source": [],
      "metadata": {
        "id": "RB5Mp0MbWQFC"
      },
      "execution_count": 193,
      "outputs": []
    },
    {
      "cell_type": "code",
      "source": [
        "# build the dataset\n",
        "block_size = 3 # context length : how many characters do we take to predict the next one?\n",
        "X, Y = [], []\n",
        "for w in words[:5]:\n",
        "  print(w)\n",
        "  context = [0] * block_size\n",
        "  for ch in w + '.':\n",
        "    ix = stoi[ch]\n",
        "    X.append(context)\n",
        "    Y.append(ix)\n",
        "    print(''.join(itos[i] for i in context), '--->', itos[ix])\n",
        "    context = context[1:] + [ix] # crop and append\n",
        "\n",
        "X = torch.tensor(X)\n",
        "Y = torch.tensor(Y)"
      ],
      "metadata": {
        "colab": {
          "base_uri": "https://localhost:8080/"
        },
        "outputId": "61d41ca5-7aff-4086-9683-71bfa2fb2d0c",
        "id": "4J2Z3oMKWQov"
      },
      "execution_count": 194,
      "outputs": [
        {
          "output_type": "stream",
          "name": "stdout",
          "text": [
            "emma\n",
            "... ---> e\n",
            "..e ---> m\n",
            ".em ---> m\n",
            "emm ---> a\n",
            "mma ---> .\n",
            "olivia\n",
            "... ---> o\n",
            "..o ---> l\n",
            ".ol ---> i\n",
            "oli ---> v\n",
            "liv ---> i\n",
            "ivi ---> a\n",
            "via ---> .\n",
            "ava\n",
            "... ---> a\n",
            "..a ---> v\n",
            ".av ---> a\n",
            "ava ---> .\n",
            "isabella\n",
            "... ---> i\n",
            "..i ---> s\n",
            ".is ---> a\n",
            "isa ---> b\n",
            "sab ---> e\n",
            "abe ---> l\n",
            "bel ---> l\n",
            "ell ---> a\n",
            "lla ---> .\n",
            "sophia\n",
            "... ---> s\n",
            "..s ---> o\n",
            ".so ---> p\n",
            "sop ---> h\n",
            "oph ---> i\n",
            "phi ---> a\n",
            "hia ---> .\n"
          ]
        }
      ]
    },
    {
      "cell_type": "code",
      "source": [
        "X.shape,X.dtype, Y.shape, Y.dtype"
      ],
      "metadata": {
        "colab": {
          "base_uri": "https://localhost:8080/"
        },
        "id": "Ss6aDirmWSFU",
        "outputId": "eec18e74-27db-4849-d7fa-eaf052c4e1e0"
      },
      "execution_count": 195,
      "outputs": [
        {
          "output_type": "execute_result",
          "data": {
            "text/plain": [
              "(torch.Size([32, 3]), torch.int64, torch.Size([32]), torch.int64)"
            ]
          },
          "metadata": {},
          "execution_count": 195
        }
      ]
    },
    {
      "cell_type": "code",
      "source": [
        "X"
      ],
      "metadata": {
        "colab": {
          "base_uri": "https://localhost:8080/"
        },
        "id": "D7WsJLgSWaPr",
        "outputId": "1d07dc7e-ccab-4dd7-992b-957f9d4c7062"
      },
      "execution_count": 196,
      "outputs": [
        {
          "output_type": "execute_result",
          "data": {
            "text/plain": [
              "tensor([[ 0,  0,  0],\n",
              "        [ 0,  0,  5],\n",
              "        [ 0,  5, 13],\n",
              "        [ 5, 13, 13],\n",
              "        [13, 13,  1],\n",
              "        [ 0,  0,  0],\n",
              "        [ 0,  0, 15],\n",
              "        [ 0, 15, 12],\n",
              "        [15, 12,  9],\n",
              "        [12,  9, 22],\n",
              "        [ 9, 22,  9],\n",
              "        [22,  9,  1],\n",
              "        [ 0,  0,  0],\n",
              "        [ 0,  0,  1],\n",
              "        [ 0,  1, 22],\n",
              "        [ 1, 22,  1],\n",
              "        [ 0,  0,  0],\n",
              "        [ 0,  0,  9],\n",
              "        [ 0,  9, 19],\n",
              "        [ 9, 19,  1],\n",
              "        [19,  1,  2],\n",
              "        [ 1,  2,  5],\n",
              "        [ 2,  5, 12],\n",
              "        [ 5, 12, 12],\n",
              "        [12, 12,  1],\n",
              "        [ 0,  0,  0],\n",
              "        [ 0,  0, 19],\n",
              "        [ 0, 19, 15],\n",
              "        [19, 15, 16],\n",
              "        [15, 16,  8],\n",
              "        [16,  8,  9],\n",
              "        [ 8,  9,  1]])"
            ]
          },
          "metadata": {},
          "execution_count": 196
        }
      ]
    },
    {
      "cell_type": "code",
      "source": [
        "Y"
      ],
      "metadata": {
        "colab": {
          "base_uri": "https://localhost:8080/"
        },
        "id": "do-pBd-jWdnv",
        "outputId": "dc085dc9-6765-4858-f124-85398968cda5"
      },
      "execution_count": 197,
      "outputs": [
        {
          "output_type": "execute_result",
          "data": {
            "text/plain": [
              "tensor([ 5, 13, 13,  1,  0, 15, 12,  9, 22,  9,  1,  0,  1, 22,  1,  0,  9, 19,\n",
              "         1,  2,  5, 12, 12,  1,  0, 19, 15, 16,  8,  9,  1,  0])"
            ]
          },
          "metadata": {},
          "execution_count": 197
        }
      ]
    },
    {
      "cell_type": "code",
      "source": [
        "C = torch.randn((27,2))"
      ],
      "metadata": {
        "id": "rNB5a4uOWfOt"
      },
      "execution_count": 198,
      "outputs": []
    },
    {
      "cell_type": "code",
      "source": [
        "C"
      ],
      "metadata": {
        "colab": {
          "base_uri": "https://localhost:8080/"
        },
        "id": "4kwK8x_mWrKF",
        "outputId": "374f51f2-7cef-4131-fafe-6c35e7395c0f"
      },
      "execution_count": 199,
      "outputs": [
        {
          "output_type": "execute_result",
          "data": {
            "text/plain": [
              "tensor([[-0.2003,  1.4353],\n",
              "        [ 0.9817, -0.6066],\n",
              "        [ 0.5586, -1.2193],\n",
              "        [ 0.4495, -1.1605],\n",
              "        [-0.5770, -0.3777],\n",
              "        [ 0.1426,  0.9666],\n",
              "        [ 0.3408, -1.3513],\n",
              "        [-0.5064,  0.0797],\n",
              "        [-1.6912,  0.7026],\n",
              "        [-0.3521,  3.5022],\n",
              "        [-0.5471, -0.5505],\n",
              "        [-0.4930,  0.3817],\n",
              "        [ 0.0089,  0.4102],\n",
              "        [-2.6900,  0.6981],\n",
              "        [ 0.5873,  1.4569],\n",
              "        [ 1.3109,  1.1043],\n",
              "        [ 1.4437, -0.0674],\n",
              "        [ 0.9421, -0.0147],\n",
              "        [ 0.4522, -0.5036],\n",
              "        [-0.7050, -1.8455],\n",
              "        [ 0.4037,  1.4506],\n",
              "        [-2.5669, -0.5177],\n",
              "        [-0.0800,  0.8231],\n",
              "        [-0.4662,  1.5747],\n",
              "        [-1.6272,  0.5379],\n",
              "        [-0.2434,  0.4555],\n",
              "        [ 0.2837, -1.1244]])"
            ]
          },
          "metadata": {},
          "execution_count": 199
        }
      ]
    },
    {
      "cell_type": "code",
      "source": [
        "C[5]"
      ],
      "metadata": {
        "colab": {
          "base_uri": "https://localhost:8080/"
        },
        "id": "RLNDJvxgWxRj",
        "outputId": "5a5a10b0-8e3d-475e-8cc3-d887999baa0c"
      },
      "execution_count": 200,
      "outputs": [
        {
          "output_type": "execute_result",
          "data": {
            "text/plain": [
              "tensor([0.1426, 0.9666])"
            ]
          },
          "metadata": {},
          "execution_count": 200
        }
      ]
    },
    {
      "cell_type": "code",
      "source": [
        "# F.one_hot(5, num_classes=27)\n",
        "# ---------------------------------------------------------------------------\n",
        "# TypeError                                 Traceback (most recent call last)\n",
        "# <ipython-input-28-9806a4d8547b> in <cell line: 1>()\n",
        "# ----> 1 F.one_hot(5, num_classes=27)\n",
        "#       2 # F.one_hot(torch.tensor(5), num_classes=27)\n",
        "\n",
        "# TypeError: one_hot(): argument 'input' (position 1) must be Tensor, not int\n"
      ],
      "metadata": {
        "id": "TwDPKNMiWyrC"
      },
      "execution_count": 201,
      "outputs": []
    },
    {
      "cell_type": "code",
      "source": [
        "F.one_hot(torch.tensor(5), num_classes=27)"
      ],
      "metadata": {
        "colab": {
          "base_uri": "https://localhost:8080/"
        },
        "id": "3ClIq-36WzY2",
        "outputId": "53b86e30-1c70-4532-ab34-dc58aae56f68"
      },
      "execution_count": 202,
      "outputs": [
        {
          "output_type": "execute_result",
          "data": {
            "text/plain": [
              "tensor([0, 0, 0, 0, 0, 1, 0, 0, 0, 0, 0, 0, 0, 0, 0, 0, 0, 0, 0, 0, 0, 0, 0, 0,\n",
              "        0, 0, 0])"
            ]
          },
          "metadata": {},
          "execution_count": 202
        }
      ]
    },
    {
      "cell_type": "code",
      "source": [
        "F.one_hot(torch.tensor(5), num_classes=27).shape"
      ],
      "metadata": {
        "colab": {
          "base_uri": "https://localhost:8080/"
        },
        "id": "GSb6aCEJWzbS",
        "outputId": "364dff93-5ff2-4fe3-bf37-2974cbd224ab"
      },
      "execution_count": 203,
      "outputs": [
        {
          "output_type": "execute_result",
          "data": {
            "text/plain": [
              "torch.Size([27])"
            ]
          },
          "metadata": {},
          "execution_count": 203
        }
      ]
    },
    {
      "cell_type": "code",
      "source": [
        "# F.one_hot(torch.tensor(5), num_classes=27) @ C\n",
        "\n",
        "# ---------------------------------------------------------------------------\n",
        "# RuntimeError                              Traceback (most recent call last)\n",
        "# <ipython-input-32-399fa32a588d> in <cell line: 1>()\n",
        "# ----> 1 F.one_hot(torch.tensor(5), num_classes=27) @ C\n",
        "\n",
        "# RuntimeError: expected scalar type Long but found Float"
      ],
      "metadata": {
        "id": "6JtHkeVhWzde"
      },
      "execution_count": 204,
      "outputs": []
    },
    {
      "cell_type": "code",
      "source": [
        "F.one_hot(torch.tensor(5), num_classes=27).dtype"
      ],
      "metadata": {
        "colab": {
          "base_uri": "https://localhost:8080/"
        },
        "id": "e6xUxun4Wzfs",
        "outputId": "b9c07dad-928d-4b69-f261-baa7a90d6015"
      },
      "execution_count": 205,
      "outputs": [
        {
          "output_type": "execute_result",
          "data": {
            "text/plain": [
              "torch.int64"
            ]
          },
          "metadata": {},
          "execution_count": 205
        }
      ]
    },
    {
      "cell_type": "code",
      "source": [
        "C.dtype"
      ],
      "metadata": {
        "colab": {
          "base_uri": "https://localhost:8080/"
        },
        "id": "R7vZMkR6X_hP",
        "outputId": "e7910ea9-3ebd-4d24-b4b3-b3e29db7a60c"
      },
      "execution_count": 206,
      "outputs": [
        {
          "output_type": "execute_result",
          "data": {
            "text/plain": [
              "torch.float32"
            ]
          },
          "metadata": {},
          "execution_count": 206
        }
      ]
    },
    {
      "cell_type": "code",
      "source": [
        "F.one_hot(torch.tensor(5), num_classes=27).float() @ C"
      ],
      "metadata": {
        "colab": {
          "base_uri": "https://localhost:8080/"
        },
        "id": "fzxpdO6AYCbD",
        "outputId": "0a3b804c-8c16-4fd8-8a87-dfaa77c910f0"
      },
      "execution_count": 207,
      "outputs": [
        {
          "output_type": "execute_result",
          "data": {
            "text/plain": [
              "tensor([0.1426, 0.9666])"
            ]
          },
          "metadata": {},
          "execution_count": 207
        }
      ]
    },
    {
      "cell_type": "code",
      "source": [
        "C[torch.tensor([5,6,7])]"
      ],
      "metadata": {
        "colab": {
          "base_uri": "https://localhost:8080/"
        },
        "id": "Uv4Oz4BtmYYg",
        "outputId": "aa28a1e2-b45c-4227-a62d-4bdb058f8be9"
      },
      "execution_count": 208,
      "outputs": [
        {
          "output_type": "execute_result",
          "data": {
            "text/plain": [
              "tensor([[ 0.1426,  0.9666],\n",
              "        [ 0.3408, -1.3513],\n",
              "        [-0.5064,  0.0797]])"
            ]
          },
          "metadata": {},
          "execution_count": 208
        }
      ]
    },
    {
      "cell_type": "code",
      "source": [
        "C[torch.tensor([5,6,7,7,7,7,7])]"
      ],
      "metadata": {
        "colab": {
          "base_uri": "https://localhost:8080/"
        },
        "id": "kxCedwVQmzyt",
        "outputId": "a8665119-e003-44f5-d903-777f8a676e24"
      },
      "execution_count": 209,
      "outputs": [
        {
          "output_type": "execute_result",
          "data": {
            "text/plain": [
              "tensor([[ 0.1426,  0.9666],\n",
              "        [ 0.3408, -1.3513],\n",
              "        [-0.5064,  0.0797],\n",
              "        [-0.5064,  0.0797],\n",
              "        [-0.5064,  0.0797],\n",
              "        [-0.5064,  0.0797],\n",
              "        [-0.5064,  0.0797]])"
            ]
          },
          "metadata": {},
          "execution_count": 209
        }
      ]
    },
    {
      "cell_type": "code",
      "source": [
        "C[X].shape"
      ],
      "metadata": {
        "colab": {
          "base_uri": "https://localhost:8080/"
        },
        "id": "6AmdlSOum5MQ",
        "outputId": "892ed598-c65b-41ef-819b-aae134bf5e07"
      },
      "execution_count": 210,
      "outputs": [
        {
          "output_type": "execute_result",
          "data": {
            "text/plain": [
              "torch.Size([32, 3, 2])"
            ]
          },
          "metadata": {},
          "execution_count": 210
        }
      ]
    },
    {
      "cell_type": "code",
      "source": [
        "X[13, 2]"
      ],
      "metadata": {
        "colab": {
          "base_uri": "https://localhost:8080/"
        },
        "id": "vnaDbNzno_u-",
        "outputId": "cdb4c652-3cf7-45ad-f4ff-0f33fe170384"
      },
      "execution_count": 211,
      "outputs": [
        {
          "output_type": "execute_result",
          "data": {
            "text/plain": [
              "tensor(1)"
            ]
          },
          "metadata": {},
          "execution_count": 211
        }
      ]
    },
    {
      "cell_type": "code",
      "source": [
        "C[X][13, 2]"
      ],
      "metadata": {
        "colab": {
          "base_uri": "https://localhost:8080/"
        },
        "id": "_enGaVZDpFrE",
        "outputId": "ed0ae197-7f5f-4384-a4ae-7d01580a8f71"
      },
      "execution_count": 212,
      "outputs": [
        {
          "output_type": "execute_result",
          "data": {
            "text/plain": [
              "tensor([ 0.9817, -0.6066])"
            ]
          },
          "metadata": {},
          "execution_count": 212
        }
      ]
    },
    {
      "cell_type": "code",
      "source": [
        "C[1]"
      ],
      "metadata": {
        "colab": {
          "base_uri": "https://localhost:8080/"
        },
        "id": "HvTo55QzpJ0S",
        "outputId": "5a998cd7-f3f9-4374-aa55-4a37fb8415fe"
      },
      "execution_count": 213,
      "outputs": [
        {
          "output_type": "execute_result",
          "data": {
            "text/plain": [
              "tensor([ 0.9817, -0.6066])"
            ]
          },
          "metadata": {},
          "execution_count": 213
        }
      ]
    },
    {
      "cell_type": "code",
      "source": [
        "emb = C[X]\n",
        "emb.shape"
      ],
      "metadata": {
        "colab": {
          "base_uri": "https://localhost:8080/"
        },
        "id": "nueSPZG7-NJ3",
        "outputId": "f6da9ea3-21ea-4ed4-e095-0ad8b4cec1dd"
      },
      "execution_count": 214,
      "outputs": [
        {
          "output_type": "execute_result",
          "data": {
            "text/plain": [
              "torch.Size([32, 3, 2])"
            ]
          },
          "metadata": {},
          "execution_count": 214
        }
      ]
    },
    {
      "cell_type": "code",
      "source": [
        "W1 = torch.randn((6,100))\n",
        "b1 = torch.randn(100)"
      ],
      "metadata": {
        "id": "u6s3tbn5-WvG"
      },
      "execution_count": 215,
      "outputs": []
    },
    {
      "cell_type": "code",
      "source": [
        "# emb @ W1 + b1\n",
        "\n",
        "# ---------------------------------------------------------------------------\n",
        "# RuntimeError                              Traceback (most recent call last)\n",
        "# <ipython-input-34-355728df8662> in <cell line: 1>()\n",
        "# ----> 1 emb @ W1 + b1\n",
        "\n",
        "# RuntimeError: mat1 and mat2 shapes cannot be multiplied (96x2 and 6x100)"
      ],
      "metadata": {
        "id": "Cxmdwa-s-sNS"
      },
      "execution_count": 216,
      "outputs": []
    },
    {
      "cell_type": "code",
      "source": [
        "torch.cat([emb[:, 0, :], emb[:, 1, :], emb[:, 2, :]])"
      ],
      "metadata": {
        "colab": {
          "base_uri": "https://localhost:8080/"
        },
        "id": "ZgVhDUhT_D3m",
        "outputId": "0b0bc214-f5ec-4a0e-ba5c-01b3ca57fa6d"
      },
      "execution_count": 217,
      "outputs": [
        {
          "output_type": "execute_result",
          "data": {
            "text/plain": [
              "tensor([[-0.2003,  1.4353],\n",
              "        [-0.2003,  1.4353],\n",
              "        [-0.2003,  1.4353],\n",
              "        [ 0.1426,  0.9666],\n",
              "        [-2.6900,  0.6981],\n",
              "        [-0.2003,  1.4353],\n",
              "        [-0.2003,  1.4353],\n",
              "        [-0.2003,  1.4353],\n",
              "        [ 1.3109,  1.1043],\n",
              "        [ 0.0089,  0.4102],\n",
              "        [-0.3521,  3.5022],\n",
              "        [-0.0800,  0.8231],\n",
              "        [-0.2003,  1.4353],\n",
              "        [-0.2003,  1.4353],\n",
              "        [-0.2003,  1.4353],\n",
              "        [ 0.9817, -0.6066],\n",
              "        [-0.2003,  1.4353],\n",
              "        [-0.2003,  1.4353],\n",
              "        [-0.2003,  1.4353],\n",
              "        [-0.3521,  3.5022],\n",
              "        [-0.7050, -1.8455],\n",
              "        [ 0.9817, -0.6066],\n",
              "        [ 0.5586, -1.2193],\n",
              "        [ 0.1426,  0.9666],\n",
              "        [ 0.0089,  0.4102],\n",
              "        [-0.2003,  1.4353],\n",
              "        [-0.2003,  1.4353],\n",
              "        [-0.2003,  1.4353],\n",
              "        [-0.7050, -1.8455],\n",
              "        [ 1.3109,  1.1043],\n",
              "        [ 1.4437, -0.0674],\n",
              "        [-1.6912,  0.7026],\n",
              "        [-0.2003,  1.4353],\n",
              "        [-0.2003,  1.4353],\n",
              "        [ 0.1426,  0.9666],\n",
              "        [-2.6900,  0.6981],\n",
              "        [-2.6900,  0.6981],\n",
              "        [-0.2003,  1.4353],\n",
              "        [-0.2003,  1.4353],\n",
              "        [ 1.3109,  1.1043],\n",
              "        [ 0.0089,  0.4102],\n",
              "        [-0.3521,  3.5022],\n",
              "        [-0.0800,  0.8231],\n",
              "        [-0.3521,  3.5022],\n",
              "        [-0.2003,  1.4353],\n",
              "        [-0.2003,  1.4353],\n",
              "        [ 0.9817, -0.6066],\n",
              "        [-0.0800,  0.8231],\n",
              "        [-0.2003,  1.4353],\n",
              "        [-0.2003,  1.4353],\n",
              "        [-0.3521,  3.5022],\n",
              "        [-0.7050, -1.8455],\n",
              "        [ 0.9817, -0.6066],\n",
              "        [ 0.5586, -1.2193],\n",
              "        [ 0.1426,  0.9666],\n",
              "        [ 0.0089,  0.4102],\n",
              "        [ 0.0089,  0.4102],\n",
              "        [-0.2003,  1.4353],\n",
              "        [-0.2003,  1.4353],\n",
              "        [-0.7050, -1.8455],\n",
              "        [ 1.3109,  1.1043],\n",
              "        [ 1.4437, -0.0674],\n",
              "        [-1.6912,  0.7026],\n",
              "        [-0.3521,  3.5022],\n",
              "        [-0.2003,  1.4353],\n",
              "        [ 0.1426,  0.9666],\n",
              "        [-2.6900,  0.6981],\n",
              "        [-2.6900,  0.6981],\n",
              "        [ 0.9817, -0.6066],\n",
              "        [-0.2003,  1.4353],\n",
              "        [ 1.3109,  1.1043],\n",
              "        [ 0.0089,  0.4102],\n",
              "        [-0.3521,  3.5022],\n",
              "        [-0.0800,  0.8231],\n",
              "        [-0.3521,  3.5022],\n",
              "        [ 0.9817, -0.6066],\n",
              "        [-0.2003,  1.4353],\n",
              "        [ 0.9817, -0.6066],\n",
              "        [-0.0800,  0.8231],\n",
              "        [ 0.9817, -0.6066],\n",
              "        [-0.2003,  1.4353],\n",
              "        [-0.3521,  3.5022],\n",
              "        [-0.7050, -1.8455],\n",
              "        [ 0.9817, -0.6066],\n",
              "        [ 0.5586, -1.2193],\n",
              "        [ 0.1426,  0.9666],\n",
              "        [ 0.0089,  0.4102],\n",
              "        [ 0.0089,  0.4102],\n",
              "        [ 0.9817, -0.6066],\n",
              "        [-0.2003,  1.4353],\n",
              "        [-0.7050, -1.8455],\n",
              "        [ 1.3109,  1.1043],\n",
              "        [ 1.4437, -0.0674],\n",
              "        [-1.6912,  0.7026],\n",
              "        [-0.3521,  3.5022],\n",
              "        [ 0.9817, -0.6066]])"
            ]
          },
          "metadata": {},
          "execution_count": 217
        }
      ]
    },
    {
      "cell_type": "code",
      "source": [
        "torch.cat([emb[:, 0, :], emb[:, 1, :], emb[:, 2, :]],1).shape"
      ],
      "metadata": {
        "colab": {
          "base_uri": "https://localhost:8080/"
        },
        "id": "CDFSMVkR_gCK",
        "outputId": "368c5d5f-11be-40cc-f8f7-373e713c02f2"
      },
      "execution_count": 218,
      "outputs": [
        {
          "output_type": "execute_result",
          "data": {
            "text/plain": [
              "torch.Size([32, 6])"
            ]
          },
          "metadata": {},
          "execution_count": 218
        }
      ]
    },
    {
      "cell_type": "code",
      "source": [
        "torch.unbind(emb, 1)"
      ],
      "metadata": {
        "colab": {
          "base_uri": "https://localhost:8080/"
        },
        "id": "cxgviWDU_5CE",
        "outputId": "6cbc31a9-ead0-4041-89bf-5ff488a9aba0"
      },
      "execution_count": 219,
      "outputs": [
        {
          "output_type": "execute_result",
          "data": {
            "text/plain": [
              "(tensor([[-0.2003,  1.4353],\n",
              "         [-0.2003,  1.4353],\n",
              "         [-0.2003,  1.4353],\n",
              "         [ 0.1426,  0.9666],\n",
              "         [-2.6900,  0.6981],\n",
              "         [-0.2003,  1.4353],\n",
              "         [-0.2003,  1.4353],\n",
              "         [-0.2003,  1.4353],\n",
              "         [ 1.3109,  1.1043],\n",
              "         [ 0.0089,  0.4102],\n",
              "         [-0.3521,  3.5022],\n",
              "         [-0.0800,  0.8231],\n",
              "         [-0.2003,  1.4353],\n",
              "         [-0.2003,  1.4353],\n",
              "         [-0.2003,  1.4353],\n",
              "         [ 0.9817, -0.6066],\n",
              "         [-0.2003,  1.4353],\n",
              "         [-0.2003,  1.4353],\n",
              "         [-0.2003,  1.4353],\n",
              "         [-0.3521,  3.5022],\n",
              "         [-0.7050, -1.8455],\n",
              "         [ 0.9817, -0.6066],\n",
              "         [ 0.5586, -1.2193],\n",
              "         [ 0.1426,  0.9666],\n",
              "         [ 0.0089,  0.4102],\n",
              "         [-0.2003,  1.4353],\n",
              "         [-0.2003,  1.4353],\n",
              "         [-0.2003,  1.4353],\n",
              "         [-0.7050, -1.8455],\n",
              "         [ 1.3109,  1.1043],\n",
              "         [ 1.4437, -0.0674],\n",
              "         [-1.6912,  0.7026]]),\n",
              " tensor([[-0.2003,  1.4353],\n",
              "         [-0.2003,  1.4353],\n",
              "         [ 0.1426,  0.9666],\n",
              "         [-2.6900,  0.6981],\n",
              "         [-2.6900,  0.6981],\n",
              "         [-0.2003,  1.4353],\n",
              "         [-0.2003,  1.4353],\n",
              "         [ 1.3109,  1.1043],\n",
              "         [ 0.0089,  0.4102],\n",
              "         [-0.3521,  3.5022],\n",
              "         [-0.0800,  0.8231],\n",
              "         [-0.3521,  3.5022],\n",
              "         [-0.2003,  1.4353],\n",
              "         [-0.2003,  1.4353],\n",
              "         [ 0.9817, -0.6066],\n",
              "         [-0.0800,  0.8231],\n",
              "         [-0.2003,  1.4353],\n",
              "         [-0.2003,  1.4353],\n",
              "         [-0.3521,  3.5022],\n",
              "         [-0.7050, -1.8455],\n",
              "         [ 0.9817, -0.6066],\n",
              "         [ 0.5586, -1.2193],\n",
              "         [ 0.1426,  0.9666],\n",
              "         [ 0.0089,  0.4102],\n",
              "         [ 0.0089,  0.4102],\n",
              "         [-0.2003,  1.4353],\n",
              "         [-0.2003,  1.4353],\n",
              "         [-0.7050, -1.8455],\n",
              "         [ 1.3109,  1.1043],\n",
              "         [ 1.4437, -0.0674],\n",
              "         [-1.6912,  0.7026],\n",
              "         [-0.3521,  3.5022]]),\n",
              " tensor([[-0.2003,  1.4353],\n",
              "         [ 0.1426,  0.9666],\n",
              "         [-2.6900,  0.6981],\n",
              "         [-2.6900,  0.6981],\n",
              "         [ 0.9817, -0.6066],\n",
              "         [-0.2003,  1.4353],\n",
              "         [ 1.3109,  1.1043],\n",
              "         [ 0.0089,  0.4102],\n",
              "         [-0.3521,  3.5022],\n",
              "         [-0.0800,  0.8231],\n",
              "         [-0.3521,  3.5022],\n",
              "         [ 0.9817, -0.6066],\n",
              "         [-0.2003,  1.4353],\n",
              "         [ 0.9817, -0.6066],\n",
              "         [-0.0800,  0.8231],\n",
              "         [ 0.9817, -0.6066],\n",
              "         [-0.2003,  1.4353],\n",
              "         [-0.3521,  3.5022],\n",
              "         [-0.7050, -1.8455],\n",
              "         [ 0.9817, -0.6066],\n",
              "         [ 0.5586, -1.2193],\n",
              "         [ 0.1426,  0.9666],\n",
              "         [ 0.0089,  0.4102],\n",
              "         [ 0.0089,  0.4102],\n",
              "         [ 0.9817, -0.6066],\n",
              "         [-0.2003,  1.4353],\n",
              "         [-0.7050, -1.8455],\n",
              "         [ 1.3109,  1.1043],\n",
              "         [ 1.4437, -0.0674],\n",
              "         [-1.6912,  0.7026],\n",
              "         [-0.3521,  3.5022],\n",
              "         [ 0.9817, -0.6066]]))"
            ]
          },
          "metadata": {},
          "execution_count": 219
        }
      ]
    },
    {
      "cell_type": "code",
      "source": [
        "len(torch.unbind(emb, 1))"
      ],
      "metadata": {
        "colab": {
          "base_uri": "https://localhost:8080/"
        },
        "id": "MsEK6mgEAK0x",
        "outputId": "48cd0f4c-9d4f-48b6-e359-f385181a1021"
      },
      "execution_count": 220,
      "outputs": [
        {
          "output_type": "execute_result",
          "data": {
            "text/plain": [
              "3"
            ]
          },
          "metadata": {},
          "execution_count": 220
        }
      ]
    },
    {
      "cell_type": "code",
      "source": [
        "torch.cat(torch.unbind(emb, 1), 1).shape"
      ],
      "metadata": {
        "colab": {
          "base_uri": "https://localhost:8080/"
        },
        "id": "Wl9H7WgVANxt",
        "outputId": "151ce009-11ed-48d8-f563-14a9f9bb733b"
      },
      "execution_count": 221,
      "outputs": [
        {
          "output_type": "execute_result",
          "data": {
            "text/plain": [
              "torch.Size([32, 6])"
            ]
          },
          "metadata": {},
          "execution_count": 221
        }
      ]
    },
    {
      "cell_type": "code",
      "source": [
        "a = torch.arange(18)\n",
        "a"
      ],
      "metadata": {
        "colab": {
          "base_uri": "https://localhost:8080/"
        },
        "id": "gLMDyIU0ATUY",
        "outputId": "c5f5b5f3-5f6c-4876-92c1-a176186b7a00"
      },
      "execution_count": 222,
      "outputs": [
        {
          "output_type": "execute_result",
          "data": {
            "text/plain": [
              "tensor([ 0,  1,  2,  3,  4,  5,  6,  7,  8,  9, 10, 11, 12, 13, 14, 15, 16, 17])"
            ]
          },
          "metadata": {},
          "execution_count": 222
        }
      ]
    },
    {
      "cell_type": "code",
      "source": [
        "a.shape"
      ],
      "metadata": {
        "colab": {
          "base_uri": "https://localhost:8080/"
        },
        "id": "-8z8BhM9AXUX",
        "outputId": "8b786d4e-9d04-4f2c-c0ae-68500881900b"
      },
      "execution_count": 223,
      "outputs": [
        {
          "output_type": "execute_result",
          "data": {
            "text/plain": [
              "torch.Size([18])"
            ]
          },
          "metadata": {},
          "execution_count": 223
        }
      ]
    },
    {
      "cell_type": "code",
      "source": [
        "a.view(2,9)"
      ],
      "metadata": {
        "colab": {
          "base_uri": "https://localhost:8080/"
        },
        "id": "MbNGh6JtAYZH",
        "outputId": "398feb54-bf0e-44ac-f369-206d8643312e"
      },
      "execution_count": 224,
      "outputs": [
        {
          "output_type": "execute_result",
          "data": {
            "text/plain": [
              "tensor([[ 0,  1,  2,  3,  4,  5,  6,  7,  8],\n",
              "        [ 9, 10, 11, 12, 13, 14, 15, 16, 17]])"
            ]
          },
          "metadata": {},
          "execution_count": 224
        }
      ]
    },
    {
      "cell_type": "code",
      "source": [
        "a.view(9,2)"
      ],
      "metadata": {
        "colab": {
          "base_uri": "https://localhost:8080/"
        },
        "id": "Pt1LpyfKAcJo",
        "outputId": "65ee441c-05d7-447d-c16f-b8f36495a1e6"
      },
      "execution_count": 225,
      "outputs": [
        {
          "output_type": "execute_result",
          "data": {
            "text/plain": [
              "tensor([[ 0,  1],\n",
              "        [ 2,  3],\n",
              "        [ 4,  5],\n",
              "        [ 6,  7],\n",
              "        [ 8,  9],\n",
              "        [10, 11],\n",
              "        [12, 13],\n",
              "        [14, 15],\n",
              "        [16, 17]])"
            ]
          },
          "metadata": {},
          "execution_count": 225
        }
      ]
    },
    {
      "cell_type": "code",
      "source": [
        "a.view(3,3,2)"
      ],
      "metadata": {
        "colab": {
          "base_uri": "https://localhost:8080/"
        },
        "id": "8zvZHmTbAleo",
        "outputId": "80aa7cd8-dc71-4f19-daf8-3bb2c6ae2152"
      },
      "execution_count": 226,
      "outputs": [
        {
          "output_type": "execute_result",
          "data": {
            "text/plain": [
              "tensor([[[ 0,  1],\n",
              "         [ 2,  3],\n",
              "         [ 4,  5]],\n",
              "\n",
              "        [[ 6,  7],\n",
              "         [ 8,  9],\n",
              "         [10, 11]],\n",
              "\n",
              "        [[12, 13],\n",
              "         [14, 15],\n",
              "         [16, 17]]])"
            ]
          },
          "metadata": {},
          "execution_count": 226
        }
      ]
    },
    {
      "cell_type": "code",
      "source": [
        "a.storage()"
      ],
      "metadata": {
        "colab": {
          "base_uri": "https://localhost:8080/"
        },
        "id": "EWwbcZrqAebU",
        "outputId": "6e7a0aa4-be56-467a-fc7d-857e98c2ce0c"
      },
      "execution_count": 227,
      "outputs": [
        {
          "output_type": "execute_result",
          "data": {
            "text/plain": [
              " 0\n",
              " 1\n",
              " 2\n",
              " 3\n",
              " 4\n",
              " 5\n",
              " 6\n",
              " 7\n",
              " 8\n",
              " 9\n",
              " 10\n",
              " 11\n",
              " 12\n",
              " 13\n",
              " 14\n",
              " 15\n",
              " 16\n",
              " 17\n",
              "[torch.storage.TypedStorage(dtype=torch.int64, device=cpu) of size 18]"
            ]
          },
          "metadata": {},
          "execution_count": 227
        }
      ]
    },
    {
      "cell_type": "code",
      "source": [
        "emb.shape"
      ],
      "metadata": {
        "colab": {
          "base_uri": "https://localhost:8080/"
        },
        "id": "54AhHbVRB21y",
        "outputId": "45acab7d-eb6d-49ed-83b0-8c894af6f0ee"
      },
      "execution_count": 228,
      "outputs": [
        {
          "output_type": "execute_result",
          "data": {
            "text/plain": [
              "torch.Size([32, 3, 2])"
            ]
          },
          "metadata": {},
          "execution_count": 228
        }
      ]
    },
    {
      "cell_type": "code",
      "source": [
        "emb.view(32,6)"
      ],
      "metadata": {
        "colab": {
          "base_uri": "https://localhost:8080/"
        },
        "id": "z6sMXwJGB4yZ",
        "outputId": "47a1f4ca-9292-4313-a113-d2b37d102ebf"
      },
      "execution_count": 229,
      "outputs": [
        {
          "output_type": "execute_result",
          "data": {
            "text/plain": [
              "tensor([[-0.2003,  1.4353, -0.2003,  1.4353, -0.2003,  1.4353],\n",
              "        [-0.2003,  1.4353, -0.2003,  1.4353,  0.1426,  0.9666],\n",
              "        [-0.2003,  1.4353,  0.1426,  0.9666, -2.6900,  0.6981],\n",
              "        [ 0.1426,  0.9666, -2.6900,  0.6981, -2.6900,  0.6981],\n",
              "        [-2.6900,  0.6981, -2.6900,  0.6981,  0.9817, -0.6066],\n",
              "        [-0.2003,  1.4353, -0.2003,  1.4353, -0.2003,  1.4353],\n",
              "        [-0.2003,  1.4353, -0.2003,  1.4353,  1.3109,  1.1043],\n",
              "        [-0.2003,  1.4353,  1.3109,  1.1043,  0.0089,  0.4102],\n",
              "        [ 1.3109,  1.1043,  0.0089,  0.4102, -0.3521,  3.5022],\n",
              "        [ 0.0089,  0.4102, -0.3521,  3.5022, -0.0800,  0.8231],\n",
              "        [-0.3521,  3.5022, -0.0800,  0.8231, -0.3521,  3.5022],\n",
              "        [-0.0800,  0.8231, -0.3521,  3.5022,  0.9817, -0.6066],\n",
              "        [-0.2003,  1.4353, -0.2003,  1.4353, -0.2003,  1.4353],\n",
              "        [-0.2003,  1.4353, -0.2003,  1.4353,  0.9817, -0.6066],\n",
              "        [-0.2003,  1.4353,  0.9817, -0.6066, -0.0800,  0.8231],\n",
              "        [ 0.9817, -0.6066, -0.0800,  0.8231,  0.9817, -0.6066],\n",
              "        [-0.2003,  1.4353, -0.2003,  1.4353, -0.2003,  1.4353],\n",
              "        [-0.2003,  1.4353, -0.2003,  1.4353, -0.3521,  3.5022],\n",
              "        [-0.2003,  1.4353, -0.3521,  3.5022, -0.7050, -1.8455],\n",
              "        [-0.3521,  3.5022, -0.7050, -1.8455,  0.9817, -0.6066],\n",
              "        [-0.7050, -1.8455,  0.9817, -0.6066,  0.5586, -1.2193],\n",
              "        [ 0.9817, -0.6066,  0.5586, -1.2193,  0.1426,  0.9666],\n",
              "        [ 0.5586, -1.2193,  0.1426,  0.9666,  0.0089,  0.4102],\n",
              "        [ 0.1426,  0.9666,  0.0089,  0.4102,  0.0089,  0.4102],\n",
              "        [ 0.0089,  0.4102,  0.0089,  0.4102,  0.9817, -0.6066],\n",
              "        [-0.2003,  1.4353, -0.2003,  1.4353, -0.2003,  1.4353],\n",
              "        [-0.2003,  1.4353, -0.2003,  1.4353, -0.7050, -1.8455],\n",
              "        [-0.2003,  1.4353, -0.7050, -1.8455,  1.3109,  1.1043],\n",
              "        [-0.7050, -1.8455,  1.3109,  1.1043,  1.4437, -0.0674],\n",
              "        [ 1.3109,  1.1043,  1.4437, -0.0674, -1.6912,  0.7026],\n",
              "        [ 1.4437, -0.0674, -1.6912,  0.7026, -0.3521,  3.5022],\n",
              "        [-1.6912,  0.7026, -0.3521,  3.5022,  0.9817, -0.6066]])"
            ]
          },
          "metadata": {},
          "execution_count": 229
        }
      ]
    },
    {
      "cell_type": "code",
      "source": [
        "emb.view(32,6) == torch.cat(torch.unbind(emb,1), 1)"
      ],
      "metadata": {
        "colab": {
          "base_uri": "https://localhost:8080/"
        },
        "id": "ek_Kp0T_B8XB",
        "outputId": "bc0b4432-b291-4e59-bb9e-270ec5d62e06"
      },
      "execution_count": 230,
      "outputs": [
        {
          "output_type": "execute_result",
          "data": {
            "text/plain": [
              "tensor([[True, True, True, True, True, True],\n",
              "        [True, True, True, True, True, True],\n",
              "        [True, True, True, True, True, True],\n",
              "        [True, True, True, True, True, True],\n",
              "        [True, True, True, True, True, True],\n",
              "        [True, True, True, True, True, True],\n",
              "        [True, True, True, True, True, True],\n",
              "        [True, True, True, True, True, True],\n",
              "        [True, True, True, True, True, True],\n",
              "        [True, True, True, True, True, True],\n",
              "        [True, True, True, True, True, True],\n",
              "        [True, True, True, True, True, True],\n",
              "        [True, True, True, True, True, True],\n",
              "        [True, True, True, True, True, True],\n",
              "        [True, True, True, True, True, True],\n",
              "        [True, True, True, True, True, True],\n",
              "        [True, True, True, True, True, True],\n",
              "        [True, True, True, True, True, True],\n",
              "        [True, True, True, True, True, True],\n",
              "        [True, True, True, True, True, True],\n",
              "        [True, True, True, True, True, True],\n",
              "        [True, True, True, True, True, True],\n",
              "        [True, True, True, True, True, True],\n",
              "        [True, True, True, True, True, True],\n",
              "        [True, True, True, True, True, True],\n",
              "        [True, True, True, True, True, True],\n",
              "        [True, True, True, True, True, True],\n",
              "        [True, True, True, True, True, True],\n",
              "        [True, True, True, True, True, True],\n",
              "        [True, True, True, True, True, True],\n",
              "        [True, True, True, True, True, True],\n",
              "        [True, True, True, True, True, True]])"
            ]
          },
          "metadata": {},
          "execution_count": 230
        }
      ]
    },
    {
      "cell_type": "code",
      "source": [
        "h = emb.view(32, 6) @ W1 + b1"
      ],
      "metadata": {
        "id": "Jd-EJ0PQCddN"
      },
      "execution_count": 231,
      "outputs": []
    },
    {
      "cell_type": "code",
      "source": [
        "h.shape"
      ],
      "metadata": {
        "colab": {
          "base_uri": "https://localhost:8080/"
        },
        "id": "8hQQRem9Cin8",
        "outputId": "6389ce5d-56dc-4607-8e72-82d924ef9d9c"
      },
      "execution_count": 232,
      "outputs": [
        {
          "output_type": "execute_result",
          "data": {
            "text/plain": [
              "torch.Size([32, 100])"
            ]
          },
          "metadata": {},
          "execution_count": 232
        }
      ]
    },
    {
      "cell_type": "code",
      "source": [
        "h"
      ],
      "metadata": {
        "colab": {
          "base_uri": "https://localhost:8080/"
        },
        "id": "ABnyImk-Cke0",
        "outputId": "988ddc47-4d2a-4ab3-ddd2-a0eb1075c0b6"
      },
      "execution_count": 233,
      "outputs": [
        {
          "output_type": "execute_result",
          "data": {
            "text/plain": [
              "tensor([[-0.2968,  2.8040, -0.4095,  ..., -0.4998,  1.1060,  2.3709],\n",
              "        [ 0.0965,  2.8039,  0.1539,  ...,  0.1347,  0.4678,  2.3464],\n",
              "        [-1.0105,  1.4265,  0.7367,  ..., -1.8488, -0.3088,  3.8391],\n",
              "        ...,\n",
              "        [-4.4868,  1.3230, -6.3340,  ..., -0.1786,  1.6890,  2.1354],\n",
              "        [-1.0796,  2.5969, -8.3475,  ..., -2.3118,  6.2917,  3.6955],\n",
              "        [ 1.5702,  5.1202,  6.5454,  ...,  0.1734, -4.1116,  1.4223]])"
            ]
          },
          "metadata": {},
          "execution_count": 233
        }
      ]
    },
    {
      "cell_type": "code",
      "source": [
        "h = torch.tanh(emb.view(-1,6) @ W1 + b1)"
      ],
      "metadata": {
        "id": "N9naMia3CvMu"
      },
      "execution_count": 234,
      "outputs": []
    },
    {
      "cell_type": "code",
      "source": [
        "h"
      ],
      "metadata": {
        "colab": {
          "base_uri": "https://localhost:8080/"
        },
        "id": "XhOVo2I3C0sO",
        "outputId": "8ef992aa-8ab9-40fc-bc24-8607d5c94e90"
      },
      "execution_count": 235,
      "outputs": [
        {
          "output_type": "execute_result",
          "data": {
            "text/plain": [
              "tensor([[-0.2883,  0.9927, -0.3880,  ..., -0.4619,  0.8026,  0.9827],\n",
              "        [ 0.0962,  0.9927,  0.1527,  ...,  0.1339,  0.4364,  0.9818],\n",
              "        [-0.7660,  0.8909,  0.6272,  ..., -0.9516, -0.2993,  0.9991],\n",
              "        ...,\n",
              "        [-0.9997,  0.8675, -1.0000,  ..., -0.1768,  0.9340,  0.9724],\n",
              "        [-0.7930,  0.9890, -1.0000,  ..., -0.9806,  1.0000,  0.9988],\n",
              "        [ 0.9171,  0.9999,  1.0000,  ...,  0.1716, -0.9995,  0.8901]])"
            ]
          },
          "metadata": {},
          "execution_count": 235
        }
      ]
    },
    {
      "cell_type": "code",
      "source": [
        "h.shape"
      ],
      "metadata": {
        "colab": {
          "base_uri": "https://localhost:8080/"
        },
        "id": "dC9qzkM6C2WT",
        "outputId": "b14ae02a-93ba-4239-bb8e-4ea3049da48a"
      },
      "execution_count": 236,
      "outputs": [
        {
          "output_type": "execute_result",
          "data": {
            "text/plain": [
              "torch.Size([32, 100])"
            ]
          },
          "metadata": {},
          "execution_count": 236
        }
      ]
    },
    {
      "cell_type": "code",
      "source": [
        "(emb.view(-1, 6) @ W1).shape"
      ],
      "metadata": {
        "colab": {
          "base_uri": "https://localhost:8080/"
        },
        "id": "8DAQAqyyC4WZ",
        "outputId": "a047dd09-ee31-4734-93cd-62eee00894c5"
      },
      "execution_count": 237,
      "outputs": [
        {
          "output_type": "execute_result",
          "data": {
            "text/plain": [
              "torch.Size([32, 100])"
            ]
          },
          "metadata": {},
          "execution_count": 237
        }
      ]
    },
    {
      "cell_type": "code",
      "source": [
        "b1.shape"
      ],
      "metadata": {
        "colab": {
          "base_uri": "https://localhost:8080/"
        },
        "id": "uOAPaH3zDDVq",
        "outputId": "11b676cc-77d5-4edb-b447-2601ee8b05f1"
      },
      "execution_count": 238,
      "outputs": [
        {
          "output_type": "execute_result",
          "data": {
            "text/plain": [
              "torch.Size([100])"
            ]
          },
          "metadata": {},
          "execution_count": 238
        }
      ]
    },
    {
      "cell_type": "code",
      "source": [
        "# 23, 100\n",
        "#  1, 100"
      ],
      "metadata": {
        "id": "uW0CeK5oDHLp"
      },
      "execution_count": 239,
      "outputs": []
    },
    {
      "cell_type": "code",
      "source": [
        "W2 = torch.randn((100, 27))\n",
        "b2 = torch.randn(27)"
      ],
      "metadata": {
        "id": "7zBFB_4HDJox"
      },
      "execution_count": 240,
      "outputs": []
    },
    {
      "cell_type": "code",
      "source": [
        "logits = h @ W2 + b2"
      ],
      "metadata": {
        "id": "jPPn1ylkDbgx"
      },
      "execution_count": 241,
      "outputs": []
    },
    {
      "cell_type": "code",
      "source": [
        "logits.shape"
      ],
      "metadata": {
        "colab": {
          "base_uri": "https://localhost:8080/"
        },
        "id": "TJ3-WUF0DfDL",
        "outputId": "d22e06a4-ae20-48d3-cb02-462a1c55730f"
      },
      "execution_count": 242,
      "outputs": [
        {
          "output_type": "execute_result",
          "data": {
            "text/plain": [
              "torch.Size([32, 27])"
            ]
          },
          "metadata": {},
          "execution_count": 242
        }
      ]
    },
    {
      "cell_type": "code",
      "source": [
        "counts = logits.exp()"
      ],
      "metadata": {
        "id": "CBF5GMjuDgcQ"
      },
      "execution_count": 243,
      "outputs": []
    },
    {
      "cell_type": "code",
      "source": [
        "prob = counts / counts.sum(1, keepdims = True)"
      ],
      "metadata": {
        "id": "ANAx2a17Dj0Q"
      },
      "execution_count": 244,
      "outputs": []
    },
    {
      "cell_type": "code",
      "source": [
        "prob.shape"
      ],
      "metadata": {
        "colab": {
          "base_uri": "https://localhost:8080/"
        },
        "id": "Yd6OYjzADpJE",
        "outputId": "bb825008-4d44-494c-bd48-ccf1da90b11d"
      },
      "execution_count": 245,
      "outputs": [
        {
          "output_type": "execute_result",
          "data": {
            "text/plain": [
              "torch.Size([32, 27])"
            ]
          },
          "metadata": {},
          "execution_count": 245
        }
      ]
    },
    {
      "cell_type": "code",
      "source": [
        "prob[0]"
      ],
      "metadata": {
        "colab": {
          "base_uri": "https://localhost:8080/"
        },
        "id": "7rEqR7G0DqMn",
        "outputId": "193b29e7-c287-4ec6-c1fe-027539d240bd"
      },
      "execution_count": 246,
      "outputs": [
        {
          "output_type": "execute_result",
          "data": {
            "text/plain": [
              "tensor([6.4811e-08, 5.3665e-06, 5.8566e-06, 2.7931e-04, 9.3593e-04, 1.4094e-14,\n",
              "        6.4105e-02, 5.5815e-11, 6.0499e-06, 1.7839e-03, 1.7302e-08, 4.4338e-01,\n",
              "        1.1342e-03, 1.1018e-12, 2.2372e-06, 2.9738e-07, 4.3278e-10, 1.5560e-04,\n",
              "        4.3817e-04, 2.7186e-11, 1.6751e-08, 1.9452e-05, 3.0536e-02, 6.4498e-06,\n",
              "        4.2899e-01, 1.8281e-10, 2.8223e-02])"
            ]
          },
          "metadata": {},
          "execution_count": 246
        }
      ]
    },
    {
      "cell_type": "code",
      "source": [
        "Y"
      ],
      "metadata": {
        "colab": {
          "base_uri": "https://localhost:8080/"
        },
        "id": "Dq2n7Vh0Ds4z",
        "outputId": "7f9a43e4-a945-4a0e-a6ae-7978142d1c6c"
      },
      "execution_count": 247,
      "outputs": [
        {
          "output_type": "execute_result",
          "data": {
            "text/plain": [
              "tensor([ 5, 13, 13,  1,  0, 15, 12,  9, 22,  9,  1,  0,  1, 22,  1,  0,  9, 19,\n",
              "         1,  2,  5, 12, 12,  1,  0, 19, 15, 16,  8,  9,  1,  0])"
            ]
          },
          "metadata": {},
          "execution_count": 247
        }
      ]
    },
    {
      "cell_type": "code",
      "source": [
        "torch.arange(32)"
      ],
      "metadata": {
        "colab": {
          "base_uri": "https://localhost:8080/"
        },
        "id": "cajBnwQ0Dwut",
        "outputId": "9c2e9498-9514-4851-ed0d-05db3f31ae01"
      },
      "execution_count": 248,
      "outputs": [
        {
          "output_type": "execute_result",
          "data": {
            "text/plain": [
              "tensor([ 0,  1,  2,  3,  4,  5,  6,  7,  8,  9, 10, 11, 12, 13, 14, 15, 16, 17,\n",
              "        18, 19, 20, 21, 22, 23, 24, 25, 26, 27, 28, 29, 30, 31])"
            ]
          },
          "metadata": {},
          "execution_count": 248
        }
      ]
    },
    {
      "cell_type": "code",
      "source": [
        "prob[torch.arange(32),Y]"
      ],
      "metadata": {
        "colab": {
          "base_uri": "https://localhost:8080/"
        },
        "id": "WqYcoKNWEFDc",
        "outputId": "dea19af0-d04b-4579-e622-63b8efd3d244"
      },
      "execution_count": 249,
      "outputs": [
        {
          "output_type": "execute_result",
          "data": {
            "text/plain": [
              "tensor([1.4094e-14, 1.0675e-13, 2.8680e-10, 2.0426e-10, 4.9280e-05, 2.9738e-07,\n",
              "        9.7652e-04, 1.7744e-10, 1.6294e-03, 5.0581e-12, 4.5651e-04, 4.4865e-15,\n",
              "        5.3665e-06, 9.2698e-10, 6.6790e-02, 1.6271e-15, 1.7839e-03, 6.6804e-11,\n",
              "        3.4159e-15, 1.7903e-08, 9.4623e-03, 2.8073e-11, 2.6857e-05, 7.9524e-06,\n",
              "        2.8963e-09, 2.7186e-11, 1.7325e-16, 1.0958e-11, 4.8444e-12, 4.6513e-05,\n",
              "        7.7666e-04, 4.5821e-16])"
            ]
          },
          "metadata": {},
          "execution_count": 249
        }
      ]
    },
    {
      "cell_type": "code",
      "source": [
        "loss = -prob[torch.arange(32),Y].log().mean()"
      ],
      "metadata": {
        "id": "lDQtOVCGDzcI"
      },
      "execution_count": 250,
      "outputs": []
    },
    {
      "cell_type": "code",
      "source": [
        "loss"
      ],
      "metadata": {
        "colab": {
          "base_uri": "https://localhost:8080/"
        },
        "id": "Oj2Fdf16EPcS",
        "outputId": "0b92f687-c858-4a69-89ae-501afbf445a6"
      },
      "execution_count": 251,
      "outputs": [
        {
          "output_type": "execute_result",
          "data": {
            "text/plain": [
              "tensor(19.3557)"
            ]
          },
          "metadata": {},
          "execution_count": 251
        }
      ]
    },
    {
      "cell_type": "code",
      "source": [
        "# ----------- now made respectable :) -----------"
      ],
      "metadata": {
        "id": "CrmsSX39EdaI"
      },
      "execution_count": 252,
      "outputs": []
    },
    {
      "cell_type": "code",
      "source": [
        "X.shape, Y.shape # dataset"
      ],
      "metadata": {
        "colab": {
          "base_uri": "https://localhost:8080/"
        },
        "id": "JJzxEUPoEinE",
        "outputId": "1dcd1ac5-8bb2-4fde-ad75-d343b45c04f1"
      },
      "execution_count": 253,
      "outputs": [
        {
          "output_type": "execute_result",
          "data": {
            "text/plain": [
              "(torch.Size([32, 3]), torch.Size([32]))"
            ]
          },
          "metadata": {},
          "execution_count": 253
        }
      ]
    },
    {
      "cell_type": "code",
      "source": [
        "g = torch.Generator().manual_seed(2147484767) # for reproducability\n",
        "C = torch.randn((27,2), generator=g)\n",
        "W1 = torch.randn((6,100), generator=g)\n",
        "b1 = torch.randn(100, generator=g)\n",
        "W2 = torch.randn((100,27),generator=g)\n",
        "b2 = torch.randn(27,generator=g)\n",
        "parameters = [C, W1, b1, W2, b2]"
      ],
      "metadata": {
        "id": "TbZHcNzTElB4"
      },
      "execution_count": 254,
      "outputs": []
    },
    {
      "cell_type": "code",
      "source": [
        "sum(p.nelement() for p in parameters) # number of parameters in total"
      ],
      "metadata": {
        "colab": {
          "base_uri": "https://localhost:8080/"
        },
        "id": "JcugTBI3FSoL",
        "outputId": "916204c2-2a4e-4bac-9895-922af1fb49e2"
      },
      "execution_count": 255,
      "outputs": [
        {
          "output_type": "execute_result",
          "data": {
            "text/plain": [
              "3481"
            ]
          },
          "metadata": {},
          "execution_count": 255
        }
      ]
    },
    {
      "cell_type": "code",
      "source": [
        "emb = C[X] # (32,3,2)\n",
        "h = torch.tanh(emb.view(-1,6)@ W1 + b1) # (32, 100)\n",
        "logits = h @ W2 + b2 # (32, 27)\n",
        "counts = logits.exp()\n",
        "prob = counts / counts.sum(1, keepdims = True)\n",
        "loss = -prob[torch.arange(32), Y].log().mean()\n",
        "loss"
      ],
      "metadata": {
        "colab": {
          "base_uri": "https://localhost:8080/"
        },
        "id": "4L2QnogCFXv6",
        "outputId": "cad5ece5-bbda-44bc-eead-c3ac4fbe8adc"
      },
      "execution_count": 256,
      "outputs": [
        {
          "output_type": "execute_result",
          "data": {
            "text/plain": [
              "tensor(17.1954)"
            ]
          },
          "metadata": {},
          "execution_count": 256
        }
      ]
    },
    {
      "cell_type": "code",
      "source": [
        "F.cross_entropy(logits, Y)"
      ],
      "metadata": {
        "colab": {
          "base_uri": "https://localhost:8080/"
        },
        "id": "VENRhb-ROM5v",
        "outputId": "c4ec9593-44b0-4b6c-d858-1f26ccaf6203"
      },
      "execution_count": 257,
      "outputs": [
        {
          "output_type": "execute_result",
          "data": {
            "text/plain": [
              "tensor(17.1954)"
            ]
          },
          "metadata": {},
          "execution_count": 257
        }
      ]
    },
    {
      "cell_type": "code",
      "source": [
        "emb = C[X] # (32,3,2)\n",
        "h = torch.tanh(emb.view(-1,6)@ W1 + b1) # (32, 100)\n",
        "logits = h @ W2 + b2 # (32, 27)\n",
        "# counts = logits.exp()\n",
        "# prob = counts / counts.sum(1, keepdims = True)\n",
        "loss = -prob[torch.arange(32), Y].log().mean()\n",
        "F.cross_entropy(logits, Y)\n",
        "loss"
      ],
      "metadata": {
        "colab": {
          "base_uri": "https://localhost:8080/"
        },
        "id": "sCE_2f8KOaCg",
        "outputId": "2a36d61a-72ea-4b08-fb99-fb2a1c390bca"
      },
      "execution_count": 258,
      "outputs": [
        {
          "output_type": "execute_result",
          "data": {
            "text/plain": [
              "tensor(17.1954)"
            ]
          },
          "metadata": {},
          "execution_count": 258
        }
      ]
    },
    {
      "cell_type": "code",
      "source": [
        "emb = C[X] # (32,3,2)\n",
        "h = torch.tanh(emb.view(-1,6)@ W1 + b1) # (32, 100)\n",
        "logits = h @ W2 + b2 # (32, 27)\n",
        "# counts = logits.exp()\n",
        "# prob = counts / counts.sum(1, keepdims = True)\n",
        "# loss = -prob[torch.arange(32), Y].log().mean()\n",
        "loss = F.cross_entropy(logits, Y)\n",
        "loss"
      ],
      "metadata": {
        "colab": {
          "base_uri": "https://localhost:8080/"
        },
        "id": "YNvej5YATrjX",
        "outputId": "48afa980-f793-41c6-83a7-a4fc4e87d911"
      },
      "execution_count": 259,
      "outputs": [
        {
          "output_type": "execute_result",
          "data": {
            "text/plain": [
              "tensor(17.1954)"
            ]
          },
          "metadata": {},
          "execution_count": 259
        }
      ]
    },
    {
      "cell_type": "code",
      "source": [
        "logits = torch.tensor([-2, -3, 0, 5])\n",
        "counts = logits.exp()\n",
        "probs = counts / counts.sum()\n",
        "probs"
      ],
      "metadata": {
        "colab": {
          "base_uri": "https://localhost:8080/"
        },
        "id": "U5CZ_UE_S7AZ",
        "outputId": "36666df2-8ed0-4b57-91e7-eefd42dc1568"
      },
      "execution_count": 260,
      "outputs": [
        {
          "output_type": "execute_result",
          "data": {
            "text/plain": [
              "tensor([9.0466e-04, 3.3281e-04, 6.6846e-03, 9.9208e-01])"
            ]
          },
          "metadata": {},
          "execution_count": 260
        }
      ]
    },
    {
      "cell_type": "code",
      "source": [
        "logits = torch.tensor([-100, -3, 0, 5])\n",
        "counts = logits.exp()\n",
        "probs = counts / counts.sum()\n",
        "probs"
      ],
      "metadata": {
        "colab": {
          "base_uri": "https://localhost:8080/"
        },
        "id": "t9kzNPbTTK5u",
        "outputId": "63b70b90-b850-46f8-ee09-bb25500e8076"
      },
      "execution_count": 261,
      "outputs": [
        {
          "output_type": "execute_result",
          "data": {
            "text/plain": [
              "tensor([0.0000e+00, 3.3311e-04, 6.6906e-03, 9.9298e-01])"
            ]
          },
          "metadata": {},
          "execution_count": 261
        }
      ]
    },
    {
      "cell_type": "code",
      "source": [
        "counts"
      ],
      "metadata": {
        "colab": {
          "base_uri": "https://localhost:8080/"
        },
        "id": "RytHZJVvTPVz",
        "outputId": "eb619dc0-93df-404b-d19f-c97eccf83970"
      },
      "execution_count": 262,
      "outputs": [
        {
          "output_type": "execute_result",
          "data": {
            "text/plain": [
              "tensor([3.7835e-44, 4.9787e-02, 1.0000e+00, 1.4841e+02])"
            ]
          },
          "metadata": {},
          "execution_count": 262
        }
      ]
    },
    {
      "cell_type": "code",
      "source": [
        "logits = torch.tensor([-5, -3, 0, 5])\n",
        "counts = logits.exp()\n",
        "probs = counts / counts.sum()\n",
        "probs"
      ],
      "metadata": {
        "colab": {
          "base_uri": "https://localhost:8080/"
        },
        "id": "36Fqnv3xTVgy",
        "outputId": "47c81120-af43-4a1a-ad81-4fe51aa5587c"
      },
      "execution_count": 263,
      "outputs": [
        {
          "output_type": "execute_result",
          "data": {
            "text/plain": [
              "tensor([4.5079e-05, 3.3309e-04, 6.6903e-03, 9.9293e-01])"
            ]
          },
          "metadata": {},
          "execution_count": 263
        }
      ]
    },
    {
      "cell_type": "code",
      "source": [
        "logits = torch.tensor([-5, -3, 0, 100])\n",
        "counts = logits.exp()\n",
        "probs = counts / counts.sum()\n",
        "probs"
      ],
      "metadata": {
        "colab": {
          "base_uri": "https://localhost:8080/"
        },
        "id": "mo5lTA3OTb_C",
        "outputId": "ca7a4d87-7d08-4205-a770-97125df2c924"
      },
      "execution_count": 264,
      "outputs": [
        {
          "output_type": "execute_result",
          "data": {
            "text/plain": [
              "tensor([0., 0., 0., nan])"
            ]
          },
          "metadata": {},
          "execution_count": 264
        }
      ]
    },
    {
      "cell_type": "code",
      "source": [
        "for p in parameters:\n",
        "  p.requires_grad = True\n",
        ""
      ],
      "metadata": {
        "id": "NmCYbXvAUSAs"
      },
      "execution_count": 265,
      "outputs": []
    },
    {
      "cell_type": "code",
      "source": [
        "for _ in range(1000):\n",
        "  # forward pass\n",
        "  emb = C[X] # (32,3,2)\n",
        "  h = torch.tanh(emb.view(-1,6)@ W1 + b1) # (32, 100)\n",
        "  logits = h @ W2 + b2 # (32, 27)\n",
        "  loss = F.cross_entropy(logits, Y)\n",
        "\n",
        "  # backward pass\n",
        "  for p in parameters:\n",
        "    p.grad = None\n",
        "  loss.backward()\n",
        "\n",
        "  # update\n",
        "  for p in parameters:\n",
        "    p.data += -0.1 * p.grad\n",
        "\n",
        "print(loss.item())\n"
      ],
      "metadata": {
        "colab": {
          "base_uri": "https://localhost:8080/"
        },
        "id": "hjEJ1zLETeNW",
        "outputId": "54b2adce-f992-4d9d-d250-33ba37deb322"
      },
      "execution_count": 266,
      "outputs": [
        {
          "output_type": "stream",
          "name": "stdout",
          "text": [
            "0.25716733932495117\n"
          ]
        }
      ]
    },
    {
      "cell_type": "code",
      "source": [
        "logits.max(1)"
      ],
      "metadata": {
        "colab": {
          "base_uri": "https://localhost:8080/"
        },
        "id": "wEFSYwxiU7Hq",
        "outputId": "7f657166-8f1b-4137-f5df-d50bc0373d5c"
      },
      "execution_count": 267,
      "outputs": [
        {
          "output_type": "execute_result",
          "data": {
            "text/plain": [
              "torch.return_types.max(\n",
              "values=tensor([10.5619, 18.2605, 14.1086, 15.6583, 16.4829, 10.5619, 14.9888, 16.1836,\n",
              "        15.5150, 12.4873, 12.3325, 15.2746, 10.5619, 14.7331, 13.1925, 15.6202,\n",
              "        10.5619, 11.7374, 11.4912, 14.4042, 18.5130, 12.6035, 14.2753, 19.7102,\n",
              "        14.4547, 10.5619, 15.1336, 14.3199, 15.9459, 14.7630, 15.2991, 17.2535],\n",
              "       grad_fn=<MaxBackward0>),\n",
              "indices=tensor([15, 13, 13,  1,  0, 15, 12,  9, 22,  9,  1,  0, 15, 22,  1,  0, 15, 19,\n",
              "         1,  2,  5, 12, 12,  1,  0, 15, 15, 16,  8,  9,  1,  0]))"
            ]
          },
          "metadata": {},
          "execution_count": 267
        }
      ]
    },
    {
      "cell_type": "code",
      "source": [
        "Y"
      ],
      "metadata": {
        "colab": {
          "base_uri": "https://localhost:8080/"
        },
        "id": "QIgzcZhXVBYO",
        "outputId": "614e56e4-935d-424a-d5a2-e82f114c3a39"
      },
      "execution_count": 268,
      "outputs": [
        {
          "output_type": "execute_result",
          "data": {
            "text/plain": [
              "tensor([ 5, 13, 13,  1,  0, 15, 12,  9, 22,  9,  1,  0,  1, 22,  1,  0,  9, 19,\n",
              "         1,  2,  5, 12, 12,  1,  0, 19, 15, 16,  8,  9,  1,  0])"
            ]
          },
          "metadata": {},
          "execution_count": 268
        }
      ]
    },
    {
      "cell_type": "code",
      "source": [
        "# build the dataset\n",
        "block_size = 3 # context length : how many characters do we take to predict the next one?\n",
        "X, Y = [], []\n",
        "for w in words:\n",
        "  # print(w)\n",
        "  context = [0] * block_size\n",
        "  for ch in w + '.':\n",
        "    ix = stoi[ch]\n",
        "    X.append(context)\n",
        "    Y.append(ix)\n",
        "    # print(''.join(itos[i] for i in context), '--->', itos[ix])\n",
        "    context = context[1:] + [ix] # crop and append\n",
        "\n",
        "X = torch.tensor(X)\n",
        "Y = torch.tensor(Y)"
      ],
      "metadata": {
        "id": "17JNVIPgVPAN"
      },
      "execution_count": 269,
      "outputs": []
    },
    {
      "cell_type": "code",
      "source": [
        "X.shape, X.dtype, Y.shape, Y.dtype"
      ],
      "metadata": {
        "colab": {
          "base_uri": "https://localhost:8080/"
        },
        "id": "kUNclOQnVY_Z",
        "outputId": "b87c0203-b790-4a73-885e-1cd4b8c64ec6"
      },
      "execution_count": 270,
      "outputs": [
        {
          "output_type": "execute_result",
          "data": {
            "text/plain": [
              "(torch.Size([228146, 3]), torch.int64, torch.Size([228146]), torch.int64)"
            ]
          },
          "metadata": {},
          "execution_count": 270
        }
      ]
    },
    {
      "cell_type": "code",
      "source": [
        "X.shape, Y.shape # dataset"
      ],
      "metadata": {
        "colab": {
          "base_uri": "https://localhost:8080/"
        },
        "id": "VoBRu-kVVdap",
        "outputId": "1bab2a19-ab70-4920-8322-088d4e8b5e9f"
      },
      "execution_count": 271,
      "outputs": [
        {
          "output_type": "execute_result",
          "data": {
            "text/plain": [
              "(torch.Size([228146, 3]), torch.Size([228146]))"
            ]
          },
          "metadata": {},
          "execution_count": 271
        }
      ]
    },
    {
      "cell_type": "code",
      "source": [
        "sum(p.nelement() for p in parameters) # number of parameters in total"
      ],
      "metadata": {
        "colab": {
          "base_uri": "https://localhost:8080/"
        },
        "id": "3ImPxTASVkxq",
        "outputId": "568126b5-4024-4cf3-af6d-d2a9a965234a"
      },
      "execution_count": 272,
      "outputs": [
        {
          "output_type": "execute_result",
          "data": {
            "text/plain": [
              "3481"
            ]
          },
          "metadata": {},
          "execution_count": 272
        }
      ]
    },
    {
      "cell_type": "code",
      "source": [
        "for p in parameters:\n",
        "  p.requires_grad = True"
      ],
      "metadata": {
        "id": "UQNGWCC1Vren"
      },
      "execution_count": 273,
      "outputs": []
    },
    {
      "cell_type": "code",
      "source": [
        "for _ in range(10):\n",
        "  # forward pass\n",
        "  emb = C[X] # (32, 3, 2)\n",
        "  h = torch.tanh(emb.view(-1,6) @ W1 + b1) # (32, 100)\n",
        "  logits = h @ W2 + b2 # (32, 27)\n",
        "  loss = F.cross_entropy(logits, Y)\n",
        "  print(loss.item())\n",
        "  # backward pass\n",
        "  for p in parameters:\n",
        "    p.grad = None\n",
        "  loss.backward()\n",
        "  # update\n",
        "  for p in parameters:\n",
        "    p.data += -0.1 * p.grad"
      ],
      "metadata": {
        "colab": {
          "base_uri": "https://localhost:8080/"
        },
        "id": "bSH2DPTFVzRP",
        "outputId": "7946e4db-a517-4a7c-dd05-fd9878bf0687"
      },
      "execution_count": 274,
      "outputs": [
        {
          "output_type": "stream",
          "name": "stdout",
          "text": [
            "10.774582862854004\n",
            "10.183908462524414\n",
            "9.704809188842773\n",
            "9.272878646850586\n",
            "8.881112098693848\n",
            "8.528128623962402\n",
            "8.210748672485352\n",
            "7.921436309814453\n",
            "7.654129981994629\n",
            "7.407318115234375\n"
          ]
        }
      ]
    },
    {
      "cell_type": "code",
      "source": [
        "torch.randint(0,X.shape[0],(32,))"
      ],
      "metadata": {
        "colab": {
          "base_uri": "https://localhost:8080/"
        },
        "id": "mPoOJXl3WunA",
        "outputId": "7ad0bc4a-cbf9-468a-e8e1-42a1d88eef6d"
      },
      "execution_count": 275,
      "outputs": [
        {
          "output_type": "execute_result",
          "data": {
            "text/plain": [
              "tensor([173700, 142820,  19919,  32218, 136320,  34124,  96546,  22690,  73598,\n",
              "         17417, 194254, 126175, 143513, 219872, 134388, 157164, 225169,  91462,\n",
              "         60210, 100239, 170140,  70109, 223339,  67324,  41689,  56964, 210726,\n",
              "         31341,  31539, 211871,   9317,  57973])"
            ]
          },
          "metadata": {},
          "execution_count": 275
        }
      ]
    },
    {
      "cell_type": "code",
      "source": [
        "for _ in range(1000):\n",
        "  # minibatch construct\n",
        "  ix = torch.randint(0, X.shape[0], (32,))\n",
        "  # forward pass\n",
        "  emb = C[X[ix]] # (32, 3, 2)\n",
        "  h = torch.tanh(emb.view(-1,6) @ W1 + b1) # (32, 100)\n",
        "  logits = h @ W2 + b2 # (32, 27)\n",
        "  loss = F.cross_entropy(logits, Y[ix])\n",
        "  # backward pass\n",
        "  for p in parameters:\n",
        "    p.grad = None\n",
        "  loss.backward()\n",
        "  # update\n",
        "  for p in parameters:\n",
        "    p.data += -0.1 * p.grad\n",
        "\n",
        "print(loss.item())\n"
      ],
      "metadata": {
        "colab": {
          "base_uri": "https://localhost:8080/"
        },
        "id": "oCQRxWjEW5l2",
        "outputId": "72014b7a-b0af-42fd-9002-3428433e391f"
      },
      "execution_count": 276,
      "outputs": [
        {
          "output_type": "stream",
          "name": "stdout",
          "text": [
            "2.7448859214782715\n"
          ]
        }
      ]
    },
    {
      "cell_type": "code",
      "source": [
        "emb = C[X] # (32, 3, 2)\n",
        "h = torch.tanh(emb.view(-1,6) @ W1 + b1) # (32, 100)\n",
        "logits = h @ W2 + b2 # (32, 27)\n",
        "loss = F.cross_entropy(logits, Y)\n",
        "loss"
      ],
      "metadata": {
        "colab": {
          "base_uri": "https://localhost:8080/"
        },
        "id": "3gF9pjAAZcp-",
        "outputId": "2ade6551-d7f5-4360-cdc8-89245788fb5a"
      },
      "execution_count": 277,
      "outputs": [
        {
          "output_type": "execute_result",
          "data": {
            "text/plain": [
              "tensor(2.5794, grad_fn=<NllLossBackward0>)"
            ]
          },
          "metadata": {},
          "execution_count": 277
        }
      ]
    },
    {
      "cell_type": "code",
      "source": [
        "g = torch.Generator().manual_seed(2147484767) # for reproducability\n",
        "C = torch.randn((27,2), generator=g)\n",
        "W1 = torch.randn((6,100), generator=g)\n",
        "b1 = torch.randn(100, generator=g)\n",
        "W2 = torch.randn((100,27),generator=g)\n",
        "b2 = torch.randn(27,generator=g)\n",
        "parameters = [C, W1, b1, W2, b2]"
      ],
      "metadata": {
        "id": "iXAUpG0MFdUD"
      },
      "execution_count": 278,
      "outputs": []
    },
    {
      "cell_type": "code",
      "source": [
        "sum(p.nelement() for p in parameters) # number of parameters in total"
      ],
      "metadata": {
        "colab": {
          "base_uri": "https://localhost:8080/"
        },
        "id": "GjDB5bYoF4vP",
        "outputId": "7424641d-7bc8-4e65-d1bd-5900defa3e19"
      },
      "execution_count": 279,
      "outputs": [
        {
          "output_type": "execute_result",
          "data": {
            "text/plain": [
              "3481"
            ]
          },
          "metadata": {},
          "execution_count": 279
        }
      ]
    },
    {
      "cell_type": "markdown",
      "source": [],
      "metadata": {
        "id": "VIVCLuZyHPZf"
      }
    },
    {
      "cell_type": "code",
      "source": [
        "for p in parameters:\n",
        "  p.requires_grad = True"
      ],
      "metadata": {
        "id": "Z699Tc2hF66K"
      },
      "execution_count": 280,
      "outputs": []
    },
    {
      "cell_type": "code",
      "source": [
        "for _ in range(100):\n",
        "  # minibatch construct\n",
        "  ix = torch.randint(0, X.shape[0], (32,))\n",
        "  # forward pass\n",
        "  emb = C[X[ix]] # (32, 3, 2)\n",
        "  h = torch.tanh(emb.view(-1,6) @ W1 + b1) # (32, 100)\n",
        "  logits = h @ W2 + b2 # (32, 27)\n",
        "  loss = F.cross_entropy(logits, Y[ix])\n",
        "  print(loss.item())\n",
        "\n",
        "  # backward pass\n",
        "  for p in parameters:\n",
        "    p.grad = None\n",
        "  loss.backward()\n",
        "  # update\n",
        "  for p in parameters:\n",
        "    p.data += -0.0001 * p.grad"
      ],
      "metadata": {
        "colab": {
          "base_uri": "https://localhost:8080/"
        },
        "id": "VvPGL-HxGA8q",
        "outputId": "49fc7186-54a3-4ec3-e294-a23f81fe9d8c"
      },
      "execution_count": 281,
      "outputs": [
        {
          "output_type": "stream",
          "name": "stdout",
          "text": [
            "14.997377395629883\n",
            "16.21068000793457\n",
            "15.696922302246094\n",
            "12.979949951171875\n",
            "15.54840087890625\n",
            "13.434808731079102\n",
            "15.520953178405762\n",
            "16.415637969970703\n",
            "18.469491958618164\n",
            "13.987732887268066\n",
            "15.850933074951172\n",
            "13.121248245239258\n",
            "18.098861694335938\n",
            "17.832002639770508\n",
            "16.463886260986328\n",
            "14.934577941894531\n",
            "16.942901611328125\n",
            "16.054182052612305\n",
            "13.98169994354248\n",
            "18.02461814880371\n",
            "16.7567081451416\n",
            "14.949583053588867\n",
            "17.344141006469727\n",
            "16.987873077392578\n",
            "17.710126876831055\n",
            "17.13772964477539\n",
            "14.364163398742676\n",
            "19.499774932861328\n",
            "16.759004592895508\n",
            "15.949048042297363\n",
            "16.218372344970703\n",
            "16.365127563476562\n",
            "16.66436004638672\n",
            "16.114797592163086\n",
            "18.79494285583496\n",
            "18.62222671508789\n",
            "12.468947410583496\n",
            "15.803288459777832\n",
            "14.75218391418457\n",
            "18.671907424926758\n",
            "17.17235565185547\n",
            "18.554853439331055\n",
            "16.499401092529297\n",
            "15.989068031311035\n",
            "16.195085525512695\n",
            "18.541128158569336\n",
            "12.359395027160645\n",
            "15.468988418579102\n",
            "20.39019012451172\n",
            "16.329856872558594\n",
            "15.038814544677734\n",
            "15.150623321533203\n",
            "17.968242645263672\n",
            "17.97318458557129\n",
            "16.534011840820312\n",
            "14.60399055480957\n",
            "15.360812187194824\n",
            "15.244537353515625\n",
            "14.733400344848633\n",
            "16.1181697845459\n",
            "16.56952667236328\n",
            "16.22393798828125\n",
            "18.527591705322266\n",
            "15.654829978942871\n",
            "17.281055450439453\n",
            "16.0834903717041\n",
            "16.748186111450195\n",
            "18.470304489135742\n",
            "12.958078384399414\n",
            "13.220208168029785\n",
            "17.109169006347656\n",
            "16.569589614868164\n",
            "15.024866104125977\n",
            "15.423664093017578\n",
            "17.362119674682617\n",
            "15.841702461242676\n",
            "17.319272994995117\n",
            "20.21379852294922\n",
            "18.474451065063477\n",
            "14.140695571899414\n",
            "17.592592239379883\n",
            "14.961405754089355\n",
            "15.653364181518555\n",
            "13.606575012207031\n",
            "15.946144104003906\n",
            "16.630558013916016\n",
            "15.078554153442383\n",
            "18.06084632873535\n",
            "16.615894317626953\n",
            "18.382694244384766\n",
            "14.321035385131836\n",
            "20.1051082611084\n",
            "15.871562004089355\n",
            "15.316198348999023\n",
            "15.743541717529297\n",
            "16.431987762451172\n",
            "16.714069366455078\n",
            "17.04043197631836\n",
            "17.458925247192383\n",
            "14.490998268127441\n"
          ]
        }
      ]
    },
    {
      "cell_type": "code",
      "source": [
        "for _ in range(100):\n",
        "  # minibatch construct\n",
        "  ix = torch.randint(0, X.shape[0], (32,))\n",
        "  # forward pass\n",
        "  emb = C[X[ix]] # (32, 3, 2)\n",
        "  h = torch.tanh(emb.view(-1,6) @ W1 + b1) # (32, 100)\n",
        "  logits = h @ W2 + b2 # (32, 27)\n",
        "  loss = F.cross_entropy(logits, Y[ix])\n",
        "  print(loss.item())\n",
        "\n",
        "  # backward pass\n",
        "  for p in parameters:\n",
        "    p.grad = None\n",
        "  loss.backward()\n",
        "  # update\n",
        "  for p in parameters:\n",
        "    p.data += -0.001 * p.grad"
      ],
      "metadata": {
        "colab": {
          "base_uri": "https://localhost:8080/"
        },
        "id": "AP_BK2W2G8Kx",
        "outputId": "0a2f29b8-b5c9-45c7-bfa6-21b4d26dcfe7"
      },
      "execution_count": 282,
      "outputs": [
        {
          "output_type": "stream",
          "name": "stdout",
          "text": [
            "17.40644073486328\n",
            "16.581933975219727\n",
            "16.704936981201172\n",
            "17.301713943481445\n",
            "20.009653091430664\n",
            "13.656049728393555\n",
            "15.772424697875977\n",
            "15.072943687438965\n",
            "16.343660354614258\n",
            "16.063220977783203\n",
            "17.44941520690918\n",
            "16.848974227905273\n",
            "18.642078399658203\n",
            "15.58322525024414\n",
            "14.047916412353516\n",
            "17.906421661376953\n",
            "15.684799194335938\n",
            "17.49288558959961\n",
            "15.5504789352417\n",
            "17.168668746948242\n",
            "16.63799285888672\n",
            "18.068592071533203\n",
            "15.868171691894531\n",
            "16.65591049194336\n",
            "16.740859985351562\n",
            "13.249397277832031\n",
            "17.804237365722656\n",
            "14.550641059875488\n",
            "15.855925559997559\n",
            "14.386832237243652\n",
            "17.281890869140625\n",
            "14.006190299987793\n",
            "15.820780754089355\n",
            "16.0087833404541\n",
            "15.72542667388916\n",
            "18.45969009399414\n",
            "16.10437774658203\n",
            "19.604145050048828\n",
            "18.69734764099121\n",
            "14.56588077545166\n",
            "14.521283149719238\n",
            "16.511951446533203\n",
            "14.728374481201172\n",
            "15.121983528137207\n",
            "15.262250900268555\n",
            "14.931893348693848\n",
            "12.959787368774414\n",
            "15.53111743927002\n",
            "14.918021202087402\n",
            "14.143035888671875\n",
            "14.665407180786133\n",
            "14.718818664550781\n",
            "17.184009552001953\n",
            "16.32879638671875\n",
            "16.903329849243164\n",
            "16.587005615234375\n",
            "17.713014602661133\n",
            "17.814462661743164\n",
            "13.479976654052734\n",
            "15.058104515075684\n",
            "15.797927856445312\n",
            "12.852538108825684\n",
            "15.988286972045898\n",
            "14.803287506103516\n",
            "14.283821105957031\n",
            "16.975378036499023\n",
            "15.366660118103027\n",
            "14.770715713500977\n",
            "15.783464431762695\n",
            "15.25307559967041\n",
            "14.494913101196289\n",
            "17.429195404052734\n",
            "11.35755729675293\n",
            "15.491458892822266\n",
            "14.989765167236328\n",
            "16.694629669189453\n",
            "13.6773681640625\n",
            "14.230436325073242\n",
            "13.657245635986328\n",
            "15.469625473022461\n",
            "13.469796180725098\n",
            "13.280978202819824\n",
            "15.971436500549316\n",
            "14.131237983703613\n",
            "16.4774227142334\n",
            "15.324024200439453\n",
            "16.13211441040039\n",
            "16.18818473815918\n",
            "16.79717254638672\n",
            "12.825197219848633\n",
            "15.03368091583252\n",
            "13.014131546020508\n",
            "15.407279968261719\n",
            "15.244071960449219\n",
            "13.259443283081055\n",
            "14.922382354736328\n",
            "15.753246307373047\n",
            "14.81972599029541\n",
            "15.374390602111816\n",
            "14.886001586914062\n"
          ]
        }
      ]
    },
    {
      "cell_type": "code",
      "source": [
        "g = torch.Generator().manual_seed(2147484767) # for reproducability\n",
        "C = torch.randn((27,2), generator=g)\n",
        "W1 = torch.randn((6,100), generator=g)\n",
        "b1 = torch.randn(100, generator=g)\n",
        "W2 = torch.randn((100,27),generator=g)\n",
        "b2 = torch.randn(27,generator=g)\n",
        "parameters = [C, W1, b1, W2, b2]\n",
        "\n",
        "sum(p.nelement() for p in parameters) # number of parameters in total\n",
        "\n",
        "for p in parameters:\n",
        "  p.requires_grad = True"
      ],
      "metadata": {
        "id": "kGJieFY_HJcZ"
      },
      "execution_count": 283,
      "outputs": []
    },
    {
      "cell_type": "code",
      "source": [
        "for _ in range(100):\n",
        "  # minibatch construct\n",
        "  ix = torch.randint(0, X.shape[0], (32,))\n",
        "  # forward pass\n",
        "  emb = C[X[ix]] # (32, 3, 2)\n",
        "  h = torch.tanh(emb.view(-1,6) @ W1 + b1) # (32, 100)\n",
        "  logits = h @ W2 + b2 # (32, 27)\n",
        "  loss = F.cross_entropy(logits, Y[ix])\n",
        "  print(loss.item())\n",
        "\n",
        "  # backward pass\n",
        "  for p in parameters:\n",
        "    p.grad = None\n",
        "  loss.backward()\n",
        "  # update\n",
        "  for p in parameters:\n",
        "    p.data += -1 * p.grad"
      ],
      "metadata": {
        "colab": {
          "base_uri": "https://localhost:8080/"
        },
        "id": "LPS0MLRlHVI0",
        "outputId": "f59c26b0-a79b-476a-b9ff-aa21908fdbad"
      },
      "execution_count": 284,
      "outputs": [
        {
          "output_type": "stream",
          "name": "stdout",
          "text": [
            "17.587465286254883\n",
            "13.140552520751953\n",
            "8.911924362182617\n",
            "14.327072143554688\n",
            "13.276288986206055\n",
            "12.728935241699219\n",
            "11.782482147216797\n",
            "9.277727127075195\n",
            "12.963190078735352\n",
            "10.447203636169434\n",
            "9.860833168029785\n",
            "6.956441402435303\n",
            "10.844033241271973\n",
            "8.964221954345703\n",
            "8.318912506103516\n",
            "14.197369575500488\n",
            "9.340306282043457\n",
            "9.383813858032227\n",
            "9.73121166229248\n",
            "14.338300704956055\n",
            "8.558235168457031\n",
            "9.3104829788208\n",
            "10.936467170715332\n",
            "6.386285781860352\n",
            "11.648948669433594\n",
            "8.894325256347656\n",
            "7.423068046569824\n",
            "8.309367179870605\n",
            "11.628705024719238\n",
            "7.100929260253906\n",
            "8.991196632385254\n",
            "7.213946342468262\n",
            "8.232465744018555\n",
            "8.51993465423584\n",
            "8.663345336914062\n",
            "7.480852127075195\n",
            "7.086985111236572\n",
            "7.335773468017578\n",
            "7.235729694366455\n",
            "7.9110236167907715\n",
            "7.151099681854248\n",
            "7.455477237701416\n",
            "6.491115570068359\n",
            "6.245202541351318\n",
            "9.254670143127441\n",
            "6.552253723144531\n",
            "6.433926582336426\n",
            "8.482234954833984\n",
            "6.611621856689453\n",
            "5.573718070983887\n",
            "7.97747802734375\n",
            "6.8679070472717285\n",
            "6.562402248382568\n",
            "5.213774681091309\n",
            "7.850923538208008\n",
            "7.297563076019287\n",
            "6.46799898147583\n",
            "6.400243282318115\n",
            "5.702708721160889\n",
            "8.855286598205566\n",
            "8.712573051452637\n",
            "8.201224327087402\n",
            "5.709578037261963\n",
            "8.980998039245605\n",
            "7.886396884918213\n",
            "7.549886226654053\n",
            "6.089585781097412\n",
            "7.210075378417969\n",
            "9.56714153289795\n",
            "6.663706302642822\n",
            "9.057690620422363\n",
            "6.3248419761657715\n",
            "8.183314323425293\n",
            "6.248493671417236\n",
            "6.313974857330322\n",
            "8.264090538024902\n",
            "7.024252414703369\n",
            "6.551723957061768\n",
            "5.8414483070373535\n",
            "7.498659133911133\n",
            "7.665084362030029\n",
            "8.33825397491455\n",
            "10.31738567352295\n",
            "8.267969131469727\n",
            "5.472310543060303\n",
            "6.083661079406738\n",
            "7.303592681884766\n",
            "9.691917419433594\n",
            "4.924575328826904\n",
            "7.243893146514893\n",
            "5.6245622634887695\n",
            "7.543610572814941\n",
            "6.835928440093994\n",
            "6.986093997955322\n",
            "7.624334335327148\n",
            "5.091197490692139\n",
            "5.925800323486328\n",
            "9.557367324829102\n",
            "7.295611381530762\n",
            "5.732884883880615\n"
          ]
        }
      ]
    },
    {
      "cell_type": "code",
      "source": [
        "g = torch.Generator().manual_seed(2147484767) # for reproducability\n",
        "C = torch.randn((27,2), generator=g)\n",
        "W1 = torch.randn((6,100), generator=g)\n",
        "b1 = torch.randn(100, generator=g)\n",
        "W2 = torch.randn((100,27),generator=g)\n",
        "b2 = torch.randn(27,generator=g)\n",
        "parameters = [C, W1, b1, W2, b2]\n",
        "\n",
        "sum(p.nelement() for p in parameters) # number of parameters in total\n",
        "\n",
        "for p in parameters:\n",
        "  p.requires_grad = True"
      ],
      "metadata": {
        "id": "4HnF1eEgHgWP"
      },
      "execution_count": 285,
      "outputs": []
    },
    {
      "cell_type": "code",
      "source": [
        "for _ in range(100):\n",
        "  # minibatch construct\n",
        "  ix = torch.randint(0, X.shape[0], (32,))\n",
        "  # forward pass\n",
        "  emb = C[X[ix]] # (32, 3, 2)\n",
        "  h = torch.tanh(emb.view(-1,6) @ W1 + b1) # (32, 100)\n",
        "  logits = h @ W2 + b2 # (32, 27)\n",
        "  loss = F.cross_entropy(logits, Y[ix])\n",
        "  print(loss.item())\n",
        "\n",
        "  # backward pass\n",
        "  for p in parameters:\n",
        "    p.grad = None\n",
        "  loss.backward()\n",
        "  # update\n",
        "  for p in parameters:\n",
        "    p.data += -10 * p.grad"
      ],
      "metadata": {
        "colab": {
          "base_uri": "https://localhost:8080/"
        },
        "id": "ttclfKc7Hi8r",
        "outputId": "215be7ee-44bd-4493-add8-da4733a56e47"
      },
      "execution_count": 286,
      "outputs": [
        {
          "output_type": "stream",
          "name": "stdout",
          "text": [
            "15.239903450012207\n",
            "60.376678466796875\n",
            "48.952701568603516\n",
            "44.03909683227539\n",
            "32.279701232910156\n",
            "75.85865783691406\n",
            "64.78687286376953\n",
            "76.80577850341797\n",
            "72.86477661132812\n",
            "82.60331726074219\n",
            "58.849491119384766\n",
            "76.76349639892578\n",
            "100.03971862792969\n",
            "112.5082015991211\n",
            "129.51075744628906\n",
            "117.78897857666016\n",
            "95.73504638671875\n",
            "92.14991760253906\n",
            "95.24547576904297\n",
            "132.5435791015625\n",
            "128.15628051757812\n",
            "97.89569854736328\n",
            "93.91386413574219\n",
            "74.78316497802734\n",
            "106.64950561523438\n",
            "91.62806701660156\n",
            "81.5693130493164\n",
            "114.69017028808594\n",
            "85.70527648925781\n",
            "89.01229858398438\n",
            "106.05902099609375\n",
            "69.45834350585938\n",
            "88.82080841064453\n",
            "81.74813842773438\n",
            "67.04415130615234\n",
            "75.96145629882812\n",
            "69.36727142333984\n",
            "73.55685424804688\n",
            "72.17838287353516\n",
            "74.3465576171875\n",
            "78.26026153564453\n",
            "68.92207336425781\n",
            "53.83309555053711\n",
            "68.58545684814453\n",
            "56.44586181640625\n",
            "44.79613494873047\n",
            "73.2553482055664\n",
            "80.38614654541016\n",
            "79.53878784179688\n",
            "76.02436065673828\n",
            "69.65573120117188\n",
            "74.99574279785156\n",
            "45.178497314453125\n",
            "40.08071517944336\n",
            "52.3805046081543\n",
            "50.7532958984375\n",
            "73.26807403564453\n",
            "67.29730987548828\n",
            "69.69981384277344\n",
            "57.553646087646484\n",
            "69.05400848388672\n",
            "97.91152954101562\n",
            "74.20903015136719\n",
            "81.28880310058594\n",
            "61.26087951660156\n",
            "47.208683013916016\n",
            "47.090824127197266\n",
            "57.868812561035156\n",
            "66.3671875\n",
            "74.03081512451172\n",
            "64.63752746582031\n",
            "77.06071472167969\n",
            "66.0343246459961\n",
            "59.057838439941406\n",
            "90.28250885009766\n",
            "74.94477081298828\n",
            "54.866050720214844\n",
            "62.59629440307617\n",
            "77.1780776977539\n",
            "57.36521911621094\n",
            "74.60437774658203\n",
            "45.198150634765625\n",
            "47.046119689941406\n",
            "66.79810333251953\n",
            "78.8082046508789\n",
            "38.306678771972656\n",
            "47.39285659790039\n",
            "89.19435119628906\n",
            "73.65667724609375\n",
            "69.88929748535156\n",
            "71.73175048828125\n",
            "66.5574951171875\n",
            "50.35423278808594\n",
            "59.79240798950195\n",
            "69.99398803710938\n",
            "81.31925964355469\n",
            "75.49894714355469\n",
            "86.68340301513672\n",
            "92.43990325927734\n",
            "84.52182006835938\n"
          ]
        }
      ]
    },
    {
      "cell_type": "code",
      "source": [
        "# learning rate exponent\n",
        "lre = torch.linspace(-3, 0, 1000)\n",
        "lrs = 10 **lre\n",
        "lrs"
      ],
      "metadata": {
        "colab": {
          "base_uri": "https://localhost:8080/"
        },
        "id": "Ceq6vfDgHqxl",
        "outputId": "00823786-f640-4941-d353-232e27a9b626"
      },
      "execution_count": 287,
      "outputs": [
        {
          "output_type": "execute_result",
          "data": {
            "text/plain": [
              "tensor([0.0010, 0.0010, 0.0010, 0.0010, 0.0010, 0.0010, 0.0010, 0.0010, 0.0011,\n",
              "        0.0011, 0.0011, 0.0011, 0.0011, 0.0011, 0.0011, 0.0011, 0.0011, 0.0011,\n",
              "        0.0011, 0.0011, 0.0011, 0.0012, 0.0012, 0.0012, 0.0012, 0.0012, 0.0012,\n",
              "        0.0012, 0.0012, 0.0012, 0.0012, 0.0012, 0.0012, 0.0013, 0.0013, 0.0013,\n",
              "        0.0013, 0.0013, 0.0013, 0.0013, 0.0013, 0.0013, 0.0013, 0.0013, 0.0014,\n",
              "        0.0014, 0.0014, 0.0014, 0.0014, 0.0014, 0.0014, 0.0014, 0.0014, 0.0014,\n",
              "        0.0015, 0.0015, 0.0015, 0.0015, 0.0015, 0.0015, 0.0015, 0.0015, 0.0015,\n",
              "        0.0015, 0.0016, 0.0016, 0.0016, 0.0016, 0.0016, 0.0016, 0.0016, 0.0016,\n",
              "        0.0016, 0.0017, 0.0017, 0.0017, 0.0017, 0.0017, 0.0017, 0.0017, 0.0017,\n",
              "        0.0018, 0.0018, 0.0018, 0.0018, 0.0018, 0.0018, 0.0018, 0.0018, 0.0019,\n",
              "        0.0019, 0.0019, 0.0019, 0.0019, 0.0019, 0.0019, 0.0019, 0.0020, 0.0020,\n",
              "        0.0020, 0.0020, 0.0020, 0.0020, 0.0020, 0.0021, 0.0021, 0.0021, 0.0021,\n",
              "        0.0021, 0.0021, 0.0021, 0.0022, 0.0022, 0.0022, 0.0022, 0.0022, 0.0022,\n",
              "        0.0022, 0.0023, 0.0023, 0.0023, 0.0023, 0.0023, 0.0023, 0.0024, 0.0024,\n",
              "        0.0024, 0.0024, 0.0024, 0.0024, 0.0025, 0.0025, 0.0025, 0.0025, 0.0025,\n",
              "        0.0025, 0.0026, 0.0026, 0.0026, 0.0026, 0.0026, 0.0027, 0.0027, 0.0027,\n",
              "        0.0027, 0.0027, 0.0027, 0.0028, 0.0028, 0.0028, 0.0028, 0.0028, 0.0029,\n",
              "        0.0029, 0.0029, 0.0029, 0.0029, 0.0030, 0.0030, 0.0030, 0.0030, 0.0030,\n",
              "        0.0031, 0.0031, 0.0031, 0.0031, 0.0032, 0.0032, 0.0032, 0.0032, 0.0032,\n",
              "        0.0033, 0.0033, 0.0033, 0.0033, 0.0034, 0.0034, 0.0034, 0.0034, 0.0034,\n",
              "        0.0035, 0.0035, 0.0035, 0.0035, 0.0036, 0.0036, 0.0036, 0.0036, 0.0037,\n",
              "        0.0037, 0.0037, 0.0037, 0.0038, 0.0038, 0.0038, 0.0039, 0.0039, 0.0039,\n",
              "        0.0039, 0.0040, 0.0040, 0.0040, 0.0040, 0.0041, 0.0041, 0.0041, 0.0042,\n",
              "        0.0042, 0.0042, 0.0042, 0.0043, 0.0043, 0.0043, 0.0044, 0.0044, 0.0044,\n",
              "        0.0045, 0.0045, 0.0045, 0.0045, 0.0046, 0.0046, 0.0046, 0.0047, 0.0047,\n",
              "        0.0047, 0.0048, 0.0048, 0.0048, 0.0049, 0.0049, 0.0049, 0.0050, 0.0050,\n",
              "        0.0050, 0.0051, 0.0051, 0.0051, 0.0052, 0.0052, 0.0053, 0.0053, 0.0053,\n",
              "        0.0054, 0.0054, 0.0054, 0.0055, 0.0055, 0.0056, 0.0056, 0.0056, 0.0057,\n",
              "        0.0057, 0.0058, 0.0058, 0.0058, 0.0059, 0.0059, 0.0060, 0.0060, 0.0060,\n",
              "        0.0061, 0.0061, 0.0062, 0.0062, 0.0062, 0.0063, 0.0063, 0.0064, 0.0064,\n",
              "        0.0065, 0.0065, 0.0066, 0.0066, 0.0067, 0.0067, 0.0067, 0.0068, 0.0068,\n",
              "        0.0069, 0.0069, 0.0070, 0.0070, 0.0071, 0.0071, 0.0072, 0.0072, 0.0073,\n",
              "        0.0073, 0.0074, 0.0074, 0.0075, 0.0075, 0.0076, 0.0076, 0.0077, 0.0077,\n",
              "        0.0078, 0.0079, 0.0079, 0.0080, 0.0080, 0.0081, 0.0081, 0.0082, 0.0082,\n",
              "        0.0083, 0.0084, 0.0084, 0.0085, 0.0085, 0.0086, 0.0086, 0.0087, 0.0088,\n",
              "        0.0088, 0.0089, 0.0090, 0.0090, 0.0091, 0.0091, 0.0092, 0.0093, 0.0093,\n",
              "        0.0094, 0.0095, 0.0095, 0.0096, 0.0097, 0.0097, 0.0098, 0.0099, 0.0099,\n",
              "        0.0100, 0.0101, 0.0101, 0.0102, 0.0103, 0.0104, 0.0104, 0.0105, 0.0106,\n",
              "        0.0106, 0.0107, 0.0108, 0.0109, 0.0109, 0.0110, 0.0111, 0.0112, 0.0112,\n",
              "        0.0113, 0.0114, 0.0115, 0.0116, 0.0116, 0.0117, 0.0118, 0.0119, 0.0120,\n",
              "        0.0121, 0.0121, 0.0122, 0.0123, 0.0124, 0.0125, 0.0126, 0.0127, 0.0127,\n",
              "        0.0128, 0.0129, 0.0130, 0.0131, 0.0132, 0.0133, 0.0134, 0.0135, 0.0136,\n",
              "        0.0137, 0.0137, 0.0138, 0.0139, 0.0140, 0.0141, 0.0142, 0.0143, 0.0144,\n",
              "        0.0145, 0.0146, 0.0147, 0.0148, 0.0149, 0.0150, 0.0151, 0.0152, 0.0154,\n",
              "        0.0155, 0.0156, 0.0157, 0.0158, 0.0159, 0.0160, 0.0161, 0.0162, 0.0163,\n",
              "        0.0165, 0.0166, 0.0167, 0.0168, 0.0169, 0.0170, 0.0171, 0.0173, 0.0174,\n",
              "        0.0175, 0.0176, 0.0178, 0.0179, 0.0180, 0.0181, 0.0182, 0.0184, 0.0185,\n",
              "        0.0186, 0.0188, 0.0189, 0.0190, 0.0192, 0.0193, 0.0194, 0.0196, 0.0197,\n",
              "        0.0198, 0.0200, 0.0201, 0.0202, 0.0204, 0.0205, 0.0207, 0.0208, 0.0210,\n",
              "        0.0211, 0.0212, 0.0214, 0.0215, 0.0217, 0.0218, 0.0220, 0.0221, 0.0223,\n",
              "        0.0225, 0.0226, 0.0228, 0.0229, 0.0231, 0.0232, 0.0234, 0.0236, 0.0237,\n",
              "        0.0239, 0.0241, 0.0242, 0.0244, 0.0246, 0.0247, 0.0249, 0.0251, 0.0253,\n",
              "        0.0254, 0.0256, 0.0258, 0.0260, 0.0261, 0.0263, 0.0265, 0.0267, 0.0269,\n",
              "        0.0271, 0.0273, 0.0274, 0.0276, 0.0278, 0.0280, 0.0282, 0.0284, 0.0286,\n",
              "        0.0288, 0.0290, 0.0292, 0.0294, 0.0296, 0.0298, 0.0300, 0.0302, 0.0304,\n",
              "        0.0307, 0.0309, 0.0311, 0.0313, 0.0315, 0.0317, 0.0320, 0.0322, 0.0324,\n",
              "        0.0326, 0.0328, 0.0331, 0.0333, 0.0335, 0.0338, 0.0340, 0.0342, 0.0345,\n",
              "        0.0347, 0.0350, 0.0352, 0.0354, 0.0357, 0.0359, 0.0362, 0.0364, 0.0367,\n",
              "        0.0369, 0.0372, 0.0375, 0.0377, 0.0380, 0.0382, 0.0385, 0.0388, 0.0390,\n",
              "        0.0393, 0.0396, 0.0399, 0.0401, 0.0404, 0.0407, 0.0410, 0.0413, 0.0416,\n",
              "        0.0418, 0.0421, 0.0424, 0.0427, 0.0430, 0.0433, 0.0436, 0.0439, 0.0442,\n",
              "        0.0445, 0.0448, 0.0451, 0.0455, 0.0458, 0.0461, 0.0464, 0.0467, 0.0471,\n",
              "        0.0474, 0.0477, 0.0480, 0.0484, 0.0487, 0.0491, 0.0494, 0.0497, 0.0501,\n",
              "        0.0504, 0.0508, 0.0511, 0.0515, 0.0518, 0.0522, 0.0526, 0.0529, 0.0533,\n",
              "        0.0537, 0.0540, 0.0544, 0.0548, 0.0552, 0.0556, 0.0559, 0.0563, 0.0567,\n",
              "        0.0571, 0.0575, 0.0579, 0.0583, 0.0587, 0.0591, 0.0595, 0.0599, 0.0604,\n",
              "        0.0608, 0.0612, 0.0616, 0.0621, 0.0625, 0.0629, 0.0634, 0.0638, 0.0642,\n",
              "        0.0647, 0.0651, 0.0656, 0.0660, 0.0665, 0.0670, 0.0674, 0.0679, 0.0684,\n",
              "        0.0688, 0.0693, 0.0698, 0.0703, 0.0708, 0.0713, 0.0718, 0.0723, 0.0728,\n",
              "        0.0733, 0.0738, 0.0743, 0.0748, 0.0753, 0.0758, 0.0764, 0.0769, 0.0774,\n",
              "        0.0780, 0.0785, 0.0790, 0.0796, 0.0802, 0.0807, 0.0813, 0.0818, 0.0824,\n",
              "        0.0830, 0.0835, 0.0841, 0.0847, 0.0853, 0.0859, 0.0865, 0.0871, 0.0877,\n",
              "        0.0883, 0.0889, 0.0895, 0.0901, 0.0908, 0.0914, 0.0920, 0.0927, 0.0933,\n",
              "        0.0940, 0.0946, 0.0953, 0.0959, 0.0966, 0.0973, 0.0979, 0.0986, 0.0993,\n",
              "        0.1000, 0.1007, 0.1014, 0.1021, 0.1028, 0.1035, 0.1042, 0.1050, 0.1057,\n",
              "        0.1064, 0.1072, 0.1079, 0.1087, 0.1094, 0.1102, 0.1109, 0.1117, 0.1125,\n",
              "        0.1133, 0.1140, 0.1148, 0.1156, 0.1164, 0.1172, 0.1181, 0.1189, 0.1197,\n",
              "        0.1205, 0.1214, 0.1222, 0.1231, 0.1239, 0.1248, 0.1256, 0.1265, 0.1274,\n",
              "        0.1283, 0.1292, 0.1301, 0.1310, 0.1319, 0.1328, 0.1337, 0.1346, 0.1356,\n",
              "        0.1365, 0.1374, 0.1384, 0.1394, 0.1403, 0.1413, 0.1423, 0.1433, 0.1443,\n",
              "        0.1453, 0.1463, 0.1473, 0.1483, 0.1493, 0.1504, 0.1514, 0.1525, 0.1535,\n",
              "        0.1546, 0.1557, 0.1567, 0.1578, 0.1589, 0.1600, 0.1611, 0.1623, 0.1634,\n",
              "        0.1645, 0.1657, 0.1668, 0.1680, 0.1691, 0.1703, 0.1715, 0.1727, 0.1739,\n",
              "        0.1751, 0.1763, 0.1775, 0.1788, 0.1800, 0.1812, 0.1825, 0.1838, 0.1850,\n",
              "        0.1863, 0.1876, 0.1889, 0.1902, 0.1916, 0.1929, 0.1942, 0.1956, 0.1969,\n",
              "        0.1983, 0.1997, 0.2010, 0.2024, 0.2038, 0.2053, 0.2067, 0.2081, 0.2096,\n",
              "        0.2110, 0.2125, 0.2140, 0.2154, 0.2169, 0.2184, 0.2200, 0.2215, 0.2230,\n",
              "        0.2246, 0.2261, 0.2277, 0.2293, 0.2309, 0.2325, 0.2341, 0.2357, 0.2373,\n",
              "        0.2390, 0.2406, 0.2423, 0.2440, 0.2457, 0.2474, 0.2491, 0.2508, 0.2526,\n",
              "        0.2543, 0.2561, 0.2579, 0.2597, 0.2615, 0.2633, 0.2651, 0.2669, 0.2688,\n",
              "        0.2707, 0.2725, 0.2744, 0.2763, 0.2783, 0.2802, 0.2821, 0.2841, 0.2861,\n",
              "        0.2880, 0.2900, 0.2921, 0.2941, 0.2961, 0.2982, 0.3002, 0.3023, 0.3044,\n",
              "        0.3065, 0.3087, 0.3108, 0.3130, 0.3151, 0.3173, 0.3195, 0.3217, 0.3240,\n",
              "        0.3262, 0.3285, 0.3308, 0.3331, 0.3354, 0.3377, 0.3400, 0.3424, 0.3448,\n",
              "        0.3472, 0.3496, 0.3520, 0.3544, 0.3569, 0.3594, 0.3619, 0.3644, 0.3669,\n",
              "        0.3695, 0.3720, 0.3746, 0.3772, 0.3798, 0.3825, 0.3851, 0.3878, 0.3905,\n",
              "        0.3932, 0.3959, 0.3987, 0.4014, 0.4042, 0.4070, 0.4098, 0.4127, 0.4155,\n",
              "        0.4184, 0.4213, 0.4243, 0.4272, 0.4302, 0.4331, 0.4362, 0.4392, 0.4422,\n",
              "        0.4453, 0.4484, 0.4515, 0.4546, 0.4578, 0.4610, 0.4642, 0.4674, 0.4706,\n",
              "        0.4739, 0.4772, 0.4805, 0.4838, 0.4872, 0.4906, 0.4940, 0.4974, 0.5008,\n",
              "        0.5043, 0.5078, 0.5113, 0.5149, 0.5185, 0.5221, 0.5257, 0.5293, 0.5330,\n",
              "        0.5367, 0.5404, 0.5442, 0.5479, 0.5517, 0.5556, 0.5594, 0.5633, 0.5672,\n",
              "        0.5712, 0.5751, 0.5791, 0.5831, 0.5872, 0.5913, 0.5954, 0.5995, 0.6036,\n",
              "        0.6078, 0.6120, 0.6163, 0.6206, 0.6249, 0.6292, 0.6336, 0.6380, 0.6424,\n",
              "        0.6469, 0.6513, 0.6559, 0.6604, 0.6650, 0.6696, 0.6743, 0.6789, 0.6837,\n",
              "        0.6884, 0.6932, 0.6980, 0.7028, 0.7077, 0.7126, 0.7176, 0.7225, 0.7275,\n",
              "        0.7326, 0.7377, 0.7428, 0.7480, 0.7531, 0.7584, 0.7636, 0.7689, 0.7743,\n",
              "        0.7796, 0.7850, 0.7905, 0.7960, 0.8015, 0.8071, 0.8127, 0.8183, 0.8240,\n",
              "        0.8297, 0.8355, 0.8412, 0.8471, 0.8530, 0.8589, 0.8648, 0.8708, 0.8769,\n",
              "        0.8830, 0.8891, 0.8953, 0.9015, 0.9077, 0.9140, 0.9204, 0.9268, 0.9332,\n",
              "        0.9397, 0.9462, 0.9528, 0.9594, 0.9660, 0.9727, 0.9795, 0.9863, 0.9931,\n",
              "        1.0000])"
            ]
          },
          "metadata": {},
          "execution_count": 287
        }
      ]
    },
    {
      "cell_type": "markdown",
      "source": [
        "\n",
        "\n",
        "```\n",
        "so now what we're doing is we're stepping linearly between the exponents of these learning rates\n",
        "this is 0.001 and this is 1\n",
        "because 10 to the power of 0 is 1\n",
        "and therefore we are spaced exponentially in this interval\n",
        "so these are the candidate learning rates that we want to sort of like search over roughly\n",
        "so now what we're going to do is\n",
        "here\n",
        "we are going to run the optimization for 1000 steps\n",
        "and instead of using a fixed number\n",
        "we are going to use learning rate indexing into here lrs[i] and make this i\n",
        "```\n",
        "\n"
      ],
      "metadata": {
        "id": "-JegPGfLIAuA"
      }
    },
    {
      "cell_type": "code",
      "source": [
        "for i in range(1000):\n",
        "  # minibatch construct\n",
        "  ix = torch.randint(0, X.shape[0], (32,))\n",
        "  # forward pass\n",
        "  emb = C[X[ix]] # (32, 3, 2)\n",
        "  h = torch.tanh(emb.view(-1,6) @ W1 + b1) # (32, 100)\n",
        "  logits = h @ W2 + b2 # (32, 27)\n",
        "  loss = F.cross_entropy(logits, Y[ix])\n",
        "  print(loss.item())\n",
        "\n",
        "  # backward pass\n",
        "  for p in parameters:\n",
        "    p.grad = None\n",
        "  loss.backward()\n",
        "  # update\n",
        "  lr = lrs[i]\n",
        "  for p in parameters:\n",
        "    p.data += -10 * p.grad"
      ],
      "metadata": {
        "colab": {
          "base_uri": "https://localhost:8080/"
        },
        "id": "tyGpLo5eIAD8",
        "outputId": "9c54beb7-80f7-41d9-80ca-9f0cb5154ba3"
      },
      "execution_count": 288,
      "outputs": [
        {
          "output_type": "stream",
          "name": "stdout",
          "text": [
            "89.55757904052734\n",
            "56.014381408691406\n",
            "84.59490966796875\n",
            "85.09823608398438\n",
            "89.084716796875\n",
            "88.92105865478516\n",
            "151.17189025878906\n",
            "86.69950866699219\n",
            "77.12872314453125\n",
            "89.93009185791016\n",
            "130.23794555664062\n",
            "119.12036895751953\n",
            "79.57099151611328\n",
            "98.36083221435547\n",
            "109.6575927734375\n",
            "73.92991638183594\n",
            "86.33348846435547\n",
            "96.99336242675781\n",
            "98.40413665771484\n",
            "58.255619049072266\n",
            "63.9551887512207\n",
            "95.89204406738281\n",
            "90.43685150146484\n",
            "59.551422119140625\n",
            "66.53174591064453\n",
            "77.31544494628906\n",
            "84.63345336914062\n",
            "68.69499206542969\n",
            "72.79120635986328\n",
            "85.71089935302734\n",
            "79.11043548583984\n",
            "57.65470886230469\n",
            "67.6478500366211\n",
            "52.86865234375\n",
            "65.1870346069336\n",
            "56.20089340209961\n",
            "66.74880981445312\n",
            "63.97393798828125\n",
            "61.96580123901367\n",
            "69.04270935058594\n",
            "86.42560577392578\n",
            "68.53750610351562\n",
            "44.13744354248047\n",
            "60.894073486328125\n",
            "42.82250213623047\n",
            "85.60076904296875\n",
            "81.964599609375\n",
            "52.49494552612305\n",
            "70.6773452758789\n",
            "63.72026062011719\n",
            "78.04463958740234\n",
            "73.57765197753906\n",
            "65.6247329711914\n",
            "73.1513442993164\n",
            "53.18355178833008\n",
            "53.00993347167969\n",
            "76.71867370605469\n",
            "51.27256774902344\n",
            "76.76294708251953\n",
            "101.46337890625\n",
            "62.80001449584961\n",
            "53.64832305908203\n",
            "77.92322540283203\n",
            "75.54048156738281\n",
            "55.08038330078125\n",
            "66.96086120605469\n",
            "77.21141052246094\n",
            "76.15545654296875\n",
            "57.92448043823242\n",
            "63.22020721435547\n",
            "56.20954513549805\n",
            "49.74287414550781\n",
            "72.87993621826172\n",
            "59.76545715332031\n",
            "46.75365447998047\n",
            "61.94044494628906\n",
            "85.03771209716797\n",
            "57.70484161376953\n",
            "56.65663528442383\n",
            "76.03018188476562\n",
            "47.301692962646484\n",
            "68.7132339477539\n",
            "63.412193298339844\n",
            "64.16255950927734\n",
            "65.1728744506836\n",
            "77.21733856201172\n",
            "84.1709213256836\n",
            "69.92803192138672\n",
            "73.02586364746094\n",
            "82.92422485351562\n",
            "79.37406921386719\n",
            "68.52127075195312\n",
            "61.09284591674805\n",
            "45.4638786315918\n",
            "53.36515808105469\n",
            "91.51980590820312\n",
            "67.10281372070312\n",
            "60.089744567871094\n",
            "54.234291076660156\n",
            "64.50877380371094\n",
            "50.977943420410156\n",
            "67.16905975341797\n",
            "74.86446380615234\n",
            "50.95096206665039\n",
            "47.5356330871582\n",
            "51.7075309753418\n",
            "82.94029235839844\n",
            "87.79569244384766\n",
            "69.06924438476562\n",
            "94.34227752685547\n",
            "84.72003173828125\n",
            "48.787864685058594\n",
            "61.41994857788086\n",
            "49.617706298828125\n",
            "64.46995544433594\n",
            "68.11599731445312\n",
            "75.65083312988281\n",
            "54.668006896972656\n",
            "45.52549362182617\n",
            "60.324012756347656\n",
            "54.65843200683594\n",
            "54.005767822265625\n",
            "46.748592376708984\n",
            "41.23114013671875\n",
            "68.62510681152344\n",
            "48.019866943359375\n",
            "65.5325698852539\n",
            "62.37122344970703\n",
            "47.0339241027832\n",
            "47.05691909790039\n",
            "49.08305358886719\n",
            "49.86679458618164\n",
            "78.51455688476562\n",
            "44.32306671142578\n",
            "59.25491714477539\n",
            "51.114830017089844\n",
            "47.77931594848633\n",
            "70.85236358642578\n",
            "81.7823715209961\n",
            "81.52936553955078\n",
            "79.50667572021484\n",
            "76.9292221069336\n",
            "53.353580474853516\n",
            "54.98155212402344\n",
            "57.991050720214844\n",
            "52.11063766479492\n",
            "54.82810974121094\n",
            "67.3763427734375\n",
            "96.41990661621094\n",
            "75.75975036621094\n",
            "42.35379409790039\n",
            "70.11030578613281\n",
            "41.87532043457031\n",
            "43.6111946105957\n",
            "64.00318908691406\n",
            "64.62215423583984\n",
            "116.65878295898438\n",
            "73.38152313232422\n",
            "85.0740966796875\n",
            "96.75475311279297\n",
            "74.96694946289062\n",
            "71.30426025390625\n",
            "66.1635513305664\n",
            "58.356101989746094\n",
            "99.28900909423828\n",
            "83.124755859375\n",
            "76.13766479492188\n",
            "50.270381927490234\n",
            "53.78539276123047\n",
            "60.199161529541016\n",
            "65.08299255371094\n",
            "89.34833526611328\n",
            "85.9559097290039\n",
            "83.66181945800781\n",
            "53.88910675048828\n",
            "69.74903869628906\n",
            "75.17721557617188\n",
            "74.07596588134766\n",
            "74.7927017211914\n",
            "55.40056228637695\n",
            "57.16017150878906\n",
            "55.194297790527344\n",
            "89.280029296875\n",
            "72.9210433959961\n",
            "92.26932525634766\n",
            "88.88494110107422\n",
            "53.821449279785156\n",
            "60.16237258911133\n",
            "48.42725372314453\n",
            "88.69314575195312\n",
            "67.74407958984375\n",
            "50.797218322753906\n",
            "56.7113037109375\n",
            "41.383296966552734\n",
            "49.425437927246094\n",
            "43.2735595703125\n",
            "46.238685607910156\n",
            "64.74798583984375\n",
            "52.16376495361328\n",
            "53.09251022338867\n",
            "59.9271354675293\n",
            "58.769264221191406\n",
            "53.638614654541016\n",
            "48.197303771972656\n",
            "77.47569274902344\n",
            "79.24298095703125\n",
            "66.10565185546875\n",
            "81.88158416748047\n",
            "69.60680389404297\n",
            "63.9954833984375\n",
            "81.8125\n",
            "64.94744110107422\n",
            "76.31385803222656\n",
            "59.35718536376953\n",
            "71.89482879638672\n",
            "67.07877349853516\n",
            "75.23066711425781\n",
            "64.10404205322266\n",
            "53.836265563964844\n",
            "64.53759002685547\n",
            "63.55229949951172\n",
            "48.03886413574219\n",
            "62.38968276977539\n",
            "64.70504760742188\n",
            "50.29281997680664\n",
            "95.37107849121094\n",
            "94.82444763183594\n",
            "62.28901672363281\n",
            "63.19892501831055\n",
            "80.84729766845703\n",
            "74.10738372802734\n",
            "62.7304573059082\n",
            "60.774070739746094\n",
            "65.88665771484375\n",
            "69.37690734863281\n",
            "55.77066421508789\n",
            "72.24187469482422\n",
            "60.05284118652344\n",
            "60.66416549682617\n",
            "57.145843505859375\n",
            "79.66545104980469\n",
            "51.15162658691406\n",
            "105.38121032714844\n",
            "52.46012496948242\n",
            "89.3935775756836\n",
            "80.32526397705078\n",
            "61.37807083129883\n",
            "124.65809631347656\n",
            "70.22270202636719\n",
            "84.9034652709961\n",
            "58.813812255859375\n",
            "63.95193862915039\n",
            "67.41011047363281\n",
            "70.87712860107422\n",
            "95.34720611572266\n",
            "71.96581268310547\n",
            "74.79717254638672\n",
            "92.63721466064453\n",
            "93.27099609375\n",
            "92.97679138183594\n",
            "101.07640838623047\n",
            "63.046531677246094\n",
            "59.450687408447266\n",
            "80.4609146118164\n",
            "91.29210662841797\n",
            "70.16548156738281\n",
            "102.22620391845703\n",
            "52.43138885498047\n",
            "73.92162322998047\n",
            "67.67337036132812\n",
            "77.77912902832031\n",
            "80.42041015625\n",
            "75.98480987548828\n",
            "101.29503631591797\n",
            "73.0440673828125\n",
            "106.03225708007812\n",
            "118.42774963378906\n",
            "88.04932403564453\n",
            "82.26659393310547\n",
            "77.23406219482422\n",
            "74.54444122314453\n",
            "97.6396484375\n",
            "106.04576110839844\n",
            "84.34237670898438\n",
            "91.5328140258789\n",
            "100.18110656738281\n",
            "69.87229919433594\n",
            "79.23326873779297\n",
            "85.64966583251953\n",
            "78.74288940429688\n",
            "104.67081451416016\n",
            "101.83772277832031\n",
            "36.13930892944336\n",
            "78.27540588378906\n",
            "63.07688903808594\n",
            "49.562660217285156\n",
            "80.7752456665039\n",
            "82.16139221191406\n",
            "126.93864440917969\n",
            "90.14452362060547\n",
            "56.69385528564453\n",
            "66.0387954711914\n",
            "78.09111022949219\n",
            "83.97899627685547\n",
            "60.052772521972656\n",
            "49.298377990722656\n",
            "94.9273681640625\n",
            "50.92121505737305\n",
            "84.75811004638672\n",
            "114.09098052978516\n",
            "53.583229064941406\n",
            "87.56610107421875\n",
            "84.22512817382812\n",
            "70.75348663330078\n",
            "89.4642105102539\n",
            "96.00999450683594\n",
            "61.20108413696289\n",
            "106.07890319824219\n",
            "75.69320678710938\n",
            "59.37906265258789\n",
            "65.00439453125\n",
            "61.03017044067383\n",
            "68.52970886230469\n",
            "48.893497467041016\n",
            "82.61457061767578\n",
            "68.20316314697266\n",
            "95.9904556274414\n",
            "85.73085021972656\n",
            "115.48499298095703\n",
            "66.07239532470703\n",
            "56.86558151245117\n",
            "57.58316421508789\n",
            "110.83479309082031\n",
            "125.47235107421875\n",
            "83.56978607177734\n",
            "45.65717315673828\n",
            "92.84093475341797\n",
            "79.39158630371094\n",
            "76.04536437988281\n",
            "82.76741027832031\n",
            "86.31446075439453\n",
            "134.6379852294922\n",
            "125.43489074707031\n",
            "101.07090759277344\n",
            "89.66730499267578\n",
            "77.84648895263672\n",
            "64.30113220214844\n",
            "71.30623626708984\n",
            "83.41285705566406\n",
            "81.64871215820312\n",
            "66.64852905273438\n",
            "71.60231018066406\n",
            "66.17366027832031\n",
            "67.6859359741211\n",
            "63.07490158081055\n",
            "46.77045440673828\n",
            "74.00271606445312\n",
            "74.65089416503906\n",
            "79.26095581054688\n",
            "59.91896438598633\n",
            "97.18333435058594\n",
            "79.02289581298828\n",
            "63.45956039428711\n",
            "69.38025665283203\n",
            "69.68325805664062\n",
            "68.37892150878906\n",
            "79.53214263916016\n",
            "59.83161163330078\n",
            "58.22056579589844\n",
            "69.90901184082031\n",
            "51.52860641479492\n",
            "54.80913162231445\n",
            "48.61935043334961\n",
            "72.95234680175781\n",
            "73.03728485107422\n",
            "73.96480560302734\n",
            "57.00714874267578\n",
            "96.21045684814453\n",
            "69.4700698852539\n",
            "84.56556701660156\n",
            "61.50996017456055\n",
            "78.56007385253906\n",
            "46.071598052978516\n",
            "62.5237922668457\n",
            "74.48809814453125\n",
            "61.412139892578125\n",
            "63.7132682800293\n",
            "61.06423568725586\n",
            "72.08858489990234\n",
            "49.60311508178711\n",
            "44.833282470703125\n",
            "54.717430114746094\n",
            "48.46784973144531\n",
            "53.9190673828125\n",
            "57.090354919433594\n",
            "72.38165283203125\n",
            "59.63257598876953\n",
            "85.90103149414062\n",
            "65.42032623291016\n",
            "51.75159454345703\n",
            "54.89176559448242\n",
            "51.59300994873047\n",
            "53.761444091796875\n",
            "47.52724075317383\n",
            "65.43341064453125\n",
            "39.70400619506836\n",
            "46.50634002685547\n",
            "65.73652648925781\n",
            "58.783145904541016\n",
            "93.27977752685547\n",
            "90.83988952636719\n",
            "71.32372283935547\n",
            "64.18782806396484\n",
            "51.3846435546875\n",
            "72.35028839111328\n",
            "51.099342346191406\n",
            "63.39436340332031\n",
            "68.61767578125\n",
            "59.797908782958984\n",
            "72.59281921386719\n",
            "56.03763961791992\n",
            "85.1766357421875\n",
            "61.78226852416992\n",
            "76.8635025024414\n",
            "76.73585510253906\n",
            "90.18718719482422\n",
            "54.23847198486328\n",
            "83.47763061523438\n",
            "91.23583984375\n",
            "100.16304779052734\n",
            "64.97566223144531\n",
            "73.06009674072266\n",
            "74.37655639648438\n",
            "76.64921569824219\n",
            "74.67923736572266\n",
            "70.78233337402344\n",
            "82.32914733886719\n",
            "86.81275939941406\n",
            "59.419219970703125\n",
            "67.41206359863281\n",
            "56.27821350097656\n",
            "59.488433837890625\n",
            "46.23811340332031\n",
            "51.6258430480957\n",
            "59.165828704833984\n",
            "77.2978744506836\n",
            "50.08968734741211\n",
            "53.339759826660156\n",
            "57.229248046875\n",
            "60.191715240478516\n",
            "51.05821990966797\n",
            "79.48367309570312\n",
            "83.79431915283203\n",
            "60.16279983520508\n",
            "56.480472564697266\n",
            "59.511566162109375\n",
            "53.23295974731445\n",
            "53.062286376953125\n",
            "74.33467102050781\n",
            "48.841278076171875\n",
            "57.55681228637695\n",
            "39.74483871459961\n",
            "42.978572845458984\n",
            "47.516029357910156\n",
            "56.38580322265625\n",
            "53.2509651184082\n",
            "47.512325286865234\n",
            "53.86112976074219\n",
            "35.667999267578125\n",
            "66.38172912597656\n",
            "54.19133758544922\n",
            "56.84720230102539\n",
            "55.499610900878906\n",
            "54.423702239990234\n",
            "52.041015625\n",
            "41.133583068847656\n",
            "61.21110916137695\n",
            "48.51687240600586\n",
            "44.7980842590332\n",
            "88.87554168701172\n",
            "40.73129653930664\n",
            "83.49031829833984\n",
            "49.35264587402344\n",
            "44.17643737792969\n",
            "53.07728576660156\n",
            "69.92444610595703\n",
            "68.79259490966797\n",
            "54.50669479370117\n",
            "53.57502365112305\n",
            "60.66587829589844\n",
            "58.26647186279297\n",
            "58.37886428833008\n",
            "48.382450103759766\n",
            "99.50658416748047\n",
            "54.546241760253906\n",
            "54.29841995239258\n",
            "40.396034240722656\n",
            "45.87480545043945\n",
            "48.2352409362793\n",
            "36.641563415527344\n",
            "55.7728271484375\n",
            "65.0255126953125\n",
            "40.48799133300781\n",
            "67.51480102539062\n",
            "55.254337310791016\n",
            "62.715362548828125\n",
            "68.69054412841797\n",
            "35.819297790527344\n",
            "54.867862701416016\n",
            "58.21617126464844\n",
            "78.41621398925781\n",
            "37.43915939331055\n",
            "61.788414001464844\n",
            "64.5352783203125\n",
            "51.75309753417969\n",
            "78.36012268066406\n",
            "60.62019348144531\n",
            "65.76716613769531\n",
            "66.46434783935547\n",
            "46.65317916870117\n",
            "51.02835464477539\n",
            "51.36188507080078\n",
            "58.298614501953125\n",
            "61.75962448120117\n",
            "52.172950744628906\n",
            "33.03995132446289\n",
            "42.507537841796875\n",
            "58.59339141845703\n",
            "67.97677612304688\n",
            "50.399566650390625\n",
            "44.096923828125\n",
            "60.40180206298828\n",
            "53.62447738647461\n",
            "75.99488830566406\n",
            "105.89602661132812\n",
            "82.36061096191406\n",
            "76.80960845947266\n",
            "72.22057342529297\n",
            "58.011573791503906\n",
            "58.10124588012695\n",
            "48.0383186340332\n",
            "67.15509796142578\n",
            "71.12614440917969\n",
            "59.70949935913086\n",
            "56.38300323486328\n",
            "45.63480758666992\n",
            "59.9634895324707\n",
            "56.379146575927734\n",
            "32.79071044921875\n",
            "58.174861907958984\n",
            "69.50689697265625\n",
            "67.21142578125\n",
            "54.49847412109375\n",
            "90.63329315185547\n",
            "68.74383544921875\n",
            "58.41240692138672\n",
            "60.17017364501953\n",
            "58.00102233886719\n",
            "53.35580062866211\n",
            "48.544803619384766\n",
            "38.379051208496094\n",
            "39.935523986816406\n",
            "83.04023742675781\n",
            "71.3370590209961\n",
            "56.64618682861328\n",
            "83.47410583496094\n",
            "44.3548469543457\n",
            "81.00807189941406\n",
            "59.33268737792969\n",
            "75.83207702636719\n",
            "54.05879592895508\n",
            "51.22077560424805\n",
            "63.57984924316406\n",
            "70.69232177734375\n",
            "90.98657989501953\n",
            "69.0572509765625\n",
            "54.1538200378418\n",
            "57.3163948059082\n",
            "69.04756164550781\n",
            "64.82861328125\n",
            "57.349212646484375\n",
            "67.67892456054688\n",
            "50.359405517578125\n",
            "53.56065368652344\n",
            "50.927032470703125\n",
            "59.40473175048828\n",
            "49.90748977661133\n",
            "33.54429626464844\n",
            "46.64459228515625\n",
            "73.01481628417969\n",
            "85.40789031982422\n",
            "70.18125915527344\n",
            "71.69407653808594\n",
            "45.28792190551758\n",
            "76.125244140625\n",
            "57.32108688354492\n",
            "74.1622543334961\n",
            "72.2313003540039\n",
            "71.06320190429688\n",
            "66.24637603759766\n",
            "58.84281539916992\n",
            "51.31434631347656\n",
            "48.70967483520508\n",
            "50.265846252441406\n",
            "42.579505920410156\n",
            "76.37358856201172\n",
            "68.8764877319336\n",
            "47.7036018371582\n",
            "65.56834411621094\n",
            "49.88069152832031\n",
            "58.55403518676758\n",
            "42.52751922607422\n",
            "52.65541076660156\n",
            "90.33264923095703\n",
            "97.10102081298828\n",
            "60.84572982788086\n",
            "75.65177154541016\n",
            "52.378143310546875\n",
            "62.45677947998047\n",
            "87.56324768066406\n",
            "70.57508087158203\n",
            "53.73128890991211\n",
            "51.642425537109375\n",
            "44.87645721435547\n",
            "40.11648941040039\n",
            "77.39334869384766\n",
            "59.451454162597656\n",
            "69.73878479003906\n",
            "49.40558624267578\n",
            "65.03205871582031\n",
            "53.52018737792969\n",
            "74.33786010742188\n",
            "77.19470977783203\n",
            "57.02663040161133\n",
            "90.54568481445312\n",
            "75.64584350585938\n",
            "110.0135498046875\n",
            "60.34166717529297\n",
            "65.31378173828125\n",
            "49.06414794921875\n",
            "73.75811767578125\n",
            "66.3124771118164\n",
            "72.91715240478516\n",
            "53.992347717285156\n",
            "45.47642517089844\n",
            "50.748897552490234\n",
            "46.66840744018555\n",
            "60.71598434448242\n",
            "67.99358367919922\n",
            "101.8476333618164\n",
            "91.00393676757812\n",
            "67.35498046875\n",
            "63.079734802246094\n",
            "54.113502502441406\n",
            "47.52940368652344\n",
            "74.61665344238281\n",
            "70.72127532958984\n",
            "69.83142852783203\n",
            "61.15925598144531\n",
            "55.56021499633789\n",
            "69.20890808105469\n",
            "53.92390823364258\n",
            "47.063350677490234\n",
            "50.47461700439453\n",
            "64.96293640136719\n",
            "38.20429611206055\n",
            "70.00131225585938\n",
            "54.0530891418457\n",
            "65.8936538696289\n",
            "52.09614562988281\n",
            "55.018375396728516\n",
            "45.453067779541016\n",
            "56.76237106323242\n",
            "70.41607666015625\n",
            "75.74382781982422\n",
            "75.20865631103516\n",
            "57.809226989746094\n",
            "58.068111419677734\n",
            "80.03084564208984\n",
            "72.85039520263672\n",
            "67.35074615478516\n",
            "43.1395263671875\n",
            "70.8921890258789\n",
            "69.90312957763672\n",
            "84.57612609863281\n",
            "68.5135269165039\n",
            "46.15332794189453\n",
            "81.77066040039062\n",
            "100.5690689086914\n",
            "86.28781127929688\n",
            "70.38014221191406\n",
            "49.1365852355957\n",
            "63.07078170776367\n",
            "63.81919479370117\n",
            "85.16415405273438\n",
            "72.82918548583984\n",
            "69.47917938232422\n",
            "62.96976852416992\n",
            "77.8409194946289\n",
            "54.81209945678711\n",
            "76.93693542480469\n",
            "53.01559829711914\n",
            "87.01445007324219\n",
            "64.89312744140625\n",
            "52.63795471191406\n",
            "59.432655334472656\n",
            "54.01112365722656\n",
            "50.79617691040039\n",
            "49.82410430908203\n",
            "49.9017219543457\n",
            "55.55373001098633\n",
            "55.75301742553711\n",
            "66.72962188720703\n",
            "60.48414611816406\n",
            "61.80487823486328\n",
            "68.53926849365234\n",
            "64.30687713623047\n",
            "82.87911224365234\n",
            "62.237972259521484\n",
            "76.93006134033203\n",
            "75.26531219482422\n",
            "68.18754577636719\n",
            "51.928321838378906\n",
            "45.04615783691406\n",
            "66.42428588867188\n",
            "66.69116973876953\n",
            "92.5362319946289\n",
            "76.86896514892578\n",
            "52.99214553833008\n",
            "61.2633171081543\n",
            "73.97525024414062\n",
            "79.14151000976562\n",
            "48.37363052368164\n",
            "58.934364318847656\n",
            "76.09030151367188\n",
            "73.90702056884766\n",
            "78.5069808959961\n",
            "88.65190124511719\n",
            "51.496910095214844\n",
            "59.0207405090332\n",
            "80.0876235961914\n",
            "64.19274139404297\n",
            "81.6159439086914\n",
            "62.1656608581543\n",
            "92.70349884033203\n",
            "99.19070434570312\n",
            "65.77146911621094\n",
            "61.11366271972656\n",
            "78.83873748779297\n",
            "53.97611999511719\n",
            "54.29180908203125\n",
            "54.67486572265625\n",
            "57.80641174316406\n",
            "60.747074127197266\n",
            "84.85919952392578\n",
            "76.94465637207031\n",
            "111.12380981445312\n",
            "93.84265899658203\n",
            "95.01832580566406\n",
            "73.65178680419922\n",
            "41.04496765136719\n",
            "72.51242065429688\n",
            "63.9560546875\n",
            "76.72804260253906\n",
            "51.2567024230957\n",
            "123.41411590576172\n",
            "77.99397277832031\n",
            "104.64319610595703\n",
            "79.48049926757812\n",
            "71.52561950683594\n",
            "65.45640563964844\n",
            "60.25505828857422\n",
            "48.651641845703125\n",
            "68.839599609375\n",
            "53.09369659423828\n",
            "88.13959503173828\n",
            "70.09779357910156\n",
            "91.30276489257812\n",
            "106.22666931152344\n",
            "74.97954559326172\n",
            "84.2616195678711\n",
            "103.54414367675781\n",
            "111.18763732910156\n",
            "81.71263122558594\n",
            "89.15499114990234\n",
            "83.96086883544922\n",
            "75.57703399658203\n",
            "64.64911651611328\n",
            "54.631675720214844\n",
            "49.295536041259766\n",
            "87.60812377929688\n",
            "73.0854721069336\n",
            "58.448211669921875\n",
            "80.00311279296875\n",
            "84.00690460205078\n",
            "74.85438537597656\n",
            "70.70132446289062\n",
            "81.52581787109375\n",
            "83.57788848876953\n",
            "50.60113525390625\n",
            "65.5473861694336\n",
            "61.306575775146484\n",
            "75.18946075439453\n",
            "41.70319747924805\n",
            "92.70958709716797\n",
            "69.94567108154297\n",
            "54.727352142333984\n",
            "86.96800231933594\n",
            "63.13361740112305\n",
            "76.04296875\n",
            "82.21576690673828\n",
            "74.21449279785156\n",
            "110.29178619384766\n",
            "66.78291320800781\n",
            "61.6666145324707\n",
            "89.44334411621094\n",
            "48.41891860961914\n",
            "52.380271911621094\n",
            "76.091796875\n",
            "81.58230590820312\n",
            "79.75041198730469\n",
            "50.86540222167969\n",
            "65.68386840820312\n",
            "97.83289337158203\n",
            "63.4890251159668\n",
            "76.99232482910156\n",
            "41.11271286010742\n",
            "79.17537689208984\n",
            "79.52764129638672\n",
            "80.2257080078125\n",
            "91.11167907714844\n",
            "60.651546478271484\n",
            "51.00659942626953\n",
            "60.7420768737793\n",
            "81.83361053466797\n",
            "60.96323776245117\n",
            "52.32773208618164\n",
            "89.07892608642578\n",
            "46.56758499145508\n",
            "84.46048736572266\n",
            "92.28517150878906\n",
            "100.6969223022461\n",
            "85.95256805419922\n",
            "79.23654174804688\n",
            "94.17642974853516\n",
            "78.3587875366211\n",
            "76.00202941894531\n",
            "55.82099151611328\n",
            "74.44952392578125\n",
            "81.51986694335938\n",
            "65.87083435058594\n",
            "88.46243286132812\n",
            "75.55966186523438\n",
            "78.53069305419922\n",
            "132.97935485839844\n",
            "112.72330474853516\n",
            "93.45768737792969\n",
            "58.612247467041016\n",
            "101.61612701416016\n",
            "66.05795288085938\n",
            "68.83690643310547\n",
            "53.75704574584961\n",
            "78.2817611694336\n",
            "58.9800910949707\n",
            "53.434696197509766\n",
            "56.598819732666016\n",
            "44.79397964477539\n",
            "54.07177734375\n",
            "85.80125427246094\n",
            "57.88682174682617\n",
            "59.2208251953125\n",
            "96.80731964111328\n",
            "85.39767456054688\n",
            "72.99211120605469\n",
            "67.26473236083984\n",
            "44.63154983520508\n",
            "69.87354278564453\n",
            "75.29391479492188\n",
            "57.40388488769531\n",
            "70.49017333984375\n",
            "79.57808685302734\n",
            "53.162010192871094\n",
            "73.36514282226562\n",
            "45.462249755859375\n",
            "97.38108825683594\n",
            "80.339599609375\n",
            "58.16511535644531\n",
            "64.13216400146484\n",
            "66.34503173828125\n",
            "58.61444854736328\n",
            "45.028987884521484\n",
            "75.84280395507812\n",
            "57.514102935791016\n",
            "68.36954498291016\n",
            "98.48402404785156\n",
            "51.01755142211914\n",
            "61.617332458496094\n",
            "62.97947311401367\n",
            "65.29582977294922\n",
            "52.81392288208008\n",
            "55.01032638549805\n",
            "82.80525207519531\n",
            "82.31503295898438\n",
            "57.28988265991211\n",
            "50.53655242919922\n",
            "65.88230895996094\n",
            "57.97077941894531\n",
            "58.40216064453125\n",
            "49.20846176147461\n",
            "71.4947280883789\n",
            "77.8598861694336\n",
            "60.014129638671875\n",
            "61.740028381347656\n",
            "83.53426361083984\n",
            "44.53831481933594\n",
            "61.29987716674805\n",
            "53.732154846191406\n",
            "52.4671745300293\n",
            "54.75053405761719\n",
            "53.81262969970703\n",
            "65.69349670410156\n",
            "73.50232696533203\n",
            "57.99287414550781\n",
            "73.7057113647461\n",
            "48.45122146606445\n",
            "77.84484100341797\n",
            "50.015220642089844\n",
            "66.22563934326172\n",
            "33.6506233215332\n",
            "48.4312629699707\n",
            "57.74274444580078\n",
            "55.65193557739258\n",
            "64.09371948242188\n",
            "84.86747741699219\n",
            "63.86924743652344\n",
            "69.91156005859375\n",
            "79.93022918701172\n",
            "69.99637603759766\n",
            "63.07947540283203\n",
            "70.7815170288086\n",
            "67.746826171875\n",
            "51.308387756347656\n",
            "60.5985107421875\n",
            "60.69886779785156\n",
            "46.396995544433594\n",
            "57.11285400390625\n",
            "63.06774139404297\n",
            "49.73194885253906\n",
            "52.87482452392578\n",
            "69.42633056640625\n",
            "67.53534698486328\n",
            "52.78351974487305\n",
            "69.5640869140625\n",
            "74.32905578613281\n",
            "64.94583892822266\n",
            "79.6906509399414\n",
            "84.87972259521484\n",
            "110.35942077636719\n",
            "62.34089279174805\n",
            "64.07454681396484\n",
            "95.8738021850586\n",
            "66.72149658203125\n",
            "60.906898498535156\n",
            "62.28772735595703\n",
            "89.34002685546875\n",
            "54.639549255371094\n",
            "54.34190368652344\n",
            "61.599586486816406\n",
            "71.02034759521484\n",
            "69.07575225830078\n",
            "66.11609649658203\n",
            "54.714263916015625\n",
            "62.01523971557617\n",
            "69.46195220947266\n",
            "59.62437057495117\n",
            "78.47887420654297\n",
            "39.86109161376953\n",
            "46.0899658203125\n",
            "41.139060974121094\n",
            "52.558128356933594\n",
            "54.43506622314453\n",
            "67.27525329589844\n",
            "44.3441276550293\n",
            "71.43333435058594\n",
            "50.87415313720703\n",
            "68.88837432861328\n",
            "99.68833923339844\n",
            "70.80590057373047\n",
            "59.129600524902344\n",
            "63.759239196777344\n",
            "43.97175216674805\n",
            "74.58598327636719\n",
            "95.8863525390625\n",
            "62.64440155029297\n",
            "83.43595123291016\n",
            "57.55487823486328\n",
            "50.59797286987305\n",
            "70.9915542602539\n",
            "88.60371398925781\n",
            "62.501556396484375\n"
          ]
        }
      ]
    },
    {
      "cell_type": "markdown",
      "source": [
        "\n",
        "\n",
        "```\n",
        "so basically let me reset this to be again starting from random\n",
        "creating these learning rates between 0.001 and 1 but exponentially stepped\n",
        "and here what we're doing is\n",
        "we're iterating a thousand times\n",
        "we're going to use the learning rate\n",
        "that's in the beginning very very low\n",
        "in the beginnning is going to be 0.001\n",
        "but by the end it's going to be 1\n",
        "and then we are going to step with that learning rate\n",
        "and now what we want to do\n",
        "is we want to keep track of the learning rates that we used\n",
        "and we want to look at the losses that resulted\n",
        "and so here let me track that\n",
        "so lri.append(i)\n",
        "lossi.append(loss.item())\n",
        "```\n",
        "\n"
      ],
      "metadata": {
        "id": "VjH_uWzkJQgu"
      }
    },
    {
      "cell_type": "code",
      "source": [
        "g = torch.Generator().manual_seed(2147484767) # for reproducability\n",
        "C = torch.randn((27,2), generator=g)\n",
        "W1 = torch.randn((6,100), generator=g)\n",
        "b1 = torch.randn(100, generator=g)\n",
        "W2 = torch.randn((100,27),generator=g)\n",
        "b2 = torch.randn(27,generator=g)\n",
        "parameters = [C, W1, b1, W2, b2]\n",
        "\n",
        "sum(p.nelement() for p in parameters) # number of parameters in total\n",
        "\n",
        "for p in parameters:\n",
        "  p.requires_grad = True\n",
        "\n",
        "lre = torch.linspace(-3,0,1000)\n",
        "lrs = 10**lre"
      ],
      "metadata": {
        "id": "2RAumEWFKVWO"
      },
      "execution_count": 289,
      "outputs": []
    },
    {
      "cell_type": "code",
      "source": [
        "lri = []\n",
        "lossi = []\n",
        "\n",
        "for i in range(1000):\n",
        "  # minibatch construct\n",
        "  ix = torch.randint(0, X.shape[0], (32,))\n",
        "  # forward pass\n",
        "  emb = C[X[ix]] # (32, 3, 2)\n",
        "  h = torch.tanh(emb.view(-1,6) @ W1 + b1) # (32, 100)\n",
        "  logits = h @ W2 + b2 # (32, 27)\n",
        "  loss = F.cross_entropy(logits, Y[ix])\n",
        "  print(loss.item())\n",
        "\n",
        "  # backward pass\n",
        "  for p in parameters:\n",
        "    p.grad = None\n",
        "  loss.backward()\n",
        "\n",
        "  # update\n",
        "  lr = lrs[i]\n",
        "  for p in parameters:\n",
        "    p.data += -lr * p.grad\n",
        "\n",
        "  # track stats\n",
        "  lri.append(lr)\n",
        "  lossi.append(loss.item())"
      ],
      "metadata": {
        "colab": {
          "base_uri": "https://localhost:8080/"
        },
        "id": "kjVLfRC-JPUG",
        "outputId": "cbf0c8f0-f810-4f9f-e697-63796aa0801b"
      },
      "execution_count": 290,
      "outputs": [
        {
          "output_type": "stream",
          "name": "stdout",
          "text": [
            "16.55557632446289\n",
            "17.295164108276367\n",
            "16.624279022216797\n",
            "15.263615608215332\n",
            "18.291149139404297\n",
            "18.444225311279297\n",
            "13.46794319152832\n",
            "16.050630569458008\n",
            "17.1691951751709\n",
            "18.086854934692383\n",
            "18.569774627685547\n",
            "18.142915725708008\n",
            "14.29269790649414\n",
            "14.025483131408691\n",
            "17.606386184692383\n",
            "14.999067306518555\n",
            "18.635059356689453\n",
            "15.584386825561523\n",
            "13.255993843078613\n",
            "14.558335304260254\n",
            "14.760538101196289\n",
            "18.07546043395996\n",
            "19.080923080444336\n",
            "13.856868743896484\n",
            "14.665324211120605\n",
            "18.68344497680664\n",
            "14.668941497802734\n",
            "14.244550704956055\n",
            "14.035018920898438\n",
            "16.58503532409668\n",
            "15.0166654586792\n",
            "15.131577491760254\n",
            "14.678653717041016\n",
            "15.7213134765625\n",
            "16.64773178100586\n",
            "16.314434051513672\n",
            "15.820428848266602\n",
            "15.076993942260742\n",
            "16.989336013793945\n",
            "16.041603088378906\n",
            "15.236464500427246\n",
            "15.807601928710938\n",
            "19.47970962524414\n",
            "14.834478378295898\n",
            "15.39082145690918\n",
            "15.340774536132812\n",
            "15.733842849731445\n",
            "18.355504989624023\n",
            "17.009166717529297\n",
            "15.144153594970703\n",
            "17.856184005737305\n",
            "15.161333084106445\n",
            "14.907917022705078\n",
            "13.329477310180664\n",
            "14.686653137207031\n",
            "13.68899917602539\n",
            "14.068416595458984\n",
            "16.87903594970703\n",
            "13.300047874450684\n",
            "14.217305183410645\n",
            "16.200803756713867\n",
            "11.943727493286133\n",
            "14.596366882324219\n",
            "16.63084602355957\n",
            "16.375850677490234\n",
            "14.229896545410156\n",
            "13.64160442352295\n",
            "15.48171329498291\n",
            "15.50851058959961\n",
            "13.416495323181152\n",
            "13.447453498840332\n",
            "13.37891674041748\n",
            "15.541458129882812\n",
            "13.958542823791504\n",
            "12.710694313049316\n",
            "13.423942565917969\n",
            "13.079480171203613\n",
            "14.499218940734863\n",
            "14.968091011047363\n",
            "14.582594871520996\n",
            "16.345203399658203\n",
            "14.680265426635742\n",
            "12.38210391998291\n",
            "16.73476791381836\n",
            "14.312973976135254\n",
            "13.90475082397461\n",
            "14.837876319885254\n",
            "17.891511917114258\n",
            "12.480896949768066\n",
            "18.583772659301758\n",
            "13.061819076538086\n",
            "14.466997146606445\n",
            "15.400760650634766\n",
            "15.531055450439453\n",
            "15.103330612182617\n",
            "14.884864807128906\n",
            "13.444820404052734\n",
            "13.514131546020508\n",
            "12.85531234741211\n",
            "14.167730331420898\n",
            "11.797351837158203\n",
            "13.218827247619629\n",
            "13.790763854980469\n",
            "15.962584495544434\n",
            "14.976593017578125\n",
            "15.701581954956055\n",
            "10.598447799682617\n",
            "14.02757453918457\n",
            "13.361598014831543\n",
            "14.915426254272461\n",
            "16.336946487426758\n",
            "15.600532531738281\n",
            "10.963513374328613\n",
            "15.232489585876465\n",
            "11.324579238891602\n",
            "13.495820999145508\n",
            "15.020111083984375\n",
            "13.6328125\n",
            "12.000222206115723\n",
            "11.808895111083984\n",
            "13.604480743408203\n",
            "14.03289794921875\n",
            "14.765036582946777\n",
            "12.490657806396484\n",
            "13.27009105682373\n",
            "14.49238395690918\n",
            "14.439709663391113\n",
            "12.70962905883789\n",
            "11.881691932678223\n",
            "12.830667495727539\n",
            "12.074307441711426\n",
            "11.109037399291992\n",
            "12.675368309020996\n",
            "15.411470413208008\n",
            "12.808976173400879\n",
            "12.588982582092285\n",
            "14.065032958984375\n",
            "14.979186058044434\n",
            "11.07411003112793\n",
            "12.891376495361328\n",
            "13.314912796020508\n",
            "12.234114646911621\n",
            "13.20944881439209\n",
            "13.551063537597656\n",
            "13.498831748962402\n",
            "11.866134643554688\n",
            "11.783224105834961\n",
            "11.957984924316406\n",
            "15.844648361206055\n",
            "15.125306129455566\n",
            "13.444147109985352\n",
            "10.574079513549805\n",
            "11.521614074707031\n",
            "11.71944808959961\n",
            "11.896653175354004\n",
            "13.620781898498535\n",
            "14.16313648223877\n",
            "10.674434661865234\n",
            "11.955229759216309\n",
            "10.13012981414795\n",
            "13.132144927978516\n",
            "11.403347969055176\n",
            "13.09703540802002\n",
            "13.462910652160645\n",
            "13.826135635375977\n",
            "11.48564338684082\n",
            "8.284708023071289\n",
            "13.256526947021484\n",
            "12.762588500976562\n",
            "12.805657386779785\n",
            "11.664929389953613\n",
            "12.270230293273926\n",
            "11.17225170135498\n",
            "12.086785316467285\n",
            "12.388664245605469\n",
            "13.45943832397461\n",
            "13.664093017578125\n",
            "10.826324462890625\n",
            "10.457724571228027\n",
            "10.664542198181152\n",
            "9.98418140411377\n",
            "13.288477897644043\n",
            "11.476747512817383\n",
            "11.818235397338867\n",
            "11.82175064086914\n",
            "8.54037857055664\n",
            "10.726211547851562\n",
            "10.268977165222168\n",
            "10.533087730407715\n",
            "11.395750999450684\n",
            "11.648703575134277\n",
            "12.36607837677002\n",
            "12.109527587890625\n",
            "11.045248985290527\n",
            "14.25794506072998\n",
            "13.387643814086914\n",
            "11.226451873779297\n",
            "12.77639389038086\n",
            "10.32022762298584\n",
            "12.330489158630371\n",
            "12.13223648071289\n",
            "10.472444534301758\n",
            "11.357134819030762\n",
            "11.577262878417969\n",
            "12.732200622558594\n",
            "11.348002433776855\n",
            "10.529804229736328\n",
            "11.571268081665039\n",
            "10.151439666748047\n",
            "9.575520515441895\n",
            "12.947665214538574\n",
            "10.718718528747559\n",
            "12.928827285766602\n",
            "9.452064514160156\n",
            "9.933165550231934\n",
            "10.204301834106445\n",
            "11.635348320007324\n",
            "9.505125999450684\n",
            "12.18313217163086\n",
            "10.157234191894531\n",
            "11.02818489074707\n",
            "10.413995742797852\n",
            "9.145476341247559\n",
            "9.184549331665039\n",
            "9.90942668914795\n",
            "11.998064041137695\n",
            "12.620834350585938\n",
            "10.561949729919434\n",
            "10.89989185333252\n",
            "12.54721450805664\n",
            "9.201153755187988\n",
            "12.155102729797363\n",
            "9.407357215881348\n",
            "10.132736206054688\n",
            "8.809218406677246\n",
            "12.310242652893066\n",
            "10.938356399536133\n",
            "8.175911903381348\n",
            "9.761957168579102\n",
            "10.480067253112793\n",
            "10.534332275390625\n",
            "9.35536003112793\n",
            "10.191478729248047\n",
            "11.642670631408691\n",
            "9.594574928283691\n",
            "9.261439323425293\n",
            "9.364184379577637\n",
            "9.851161003112793\n",
            "8.832507133483887\n",
            "6.7884650230407715\n",
            "10.65392017364502\n",
            "10.496891021728516\n",
            "9.81486988067627\n",
            "10.666418075561523\n",
            "8.600911140441895\n",
            "10.258296966552734\n",
            "10.43237590789795\n",
            "10.392354011535645\n",
            "10.409592628479004\n",
            "10.355453491210938\n",
            "11.166972160339355\n",
            "10.715070724487305\n",
            "9.42785930633545\n",
            "10.566370964050293\n",
            "10.397068977355957\n",
            "10.080620765686035\n",
            "7.777719497680664\n",
            "9.76059627532959\n",
            "12.04699420928955\n",
            "10.41104507446289\n",
            "9.205500602722168\n",
            "10.270513534545898\n",
            "9.614238739013672\n",
            "9.828970909118652\n",
            "9.125275611877441\n",
            "7.797491073608398\n",
            "8.838224411010742\n",
            "8.481136322021484\n",
            "7.9799909591674805\n",
            "9.194424629211426\n",
            "9.731661796569824\n",
            "7.754921913146973\n",
            "9.437850952148438\n",
            "9.70605754852295\n",
            "10.552980422973633\n",
            "10.107306480407715\n",
            "9.058976173400879\n",
            "9.823362350463867\n",
            "11.767399787902832\n",
            "11.114530563354492\n",
            "8.988651275634766\n",
            "8.17196273803711\n",
            "8.94196891784668\n",
            "8.99195671081543\n",
            "8.393216133117676\n",
            "9.362144470214844\n",
            "8.218032836914062\n",
            "10.210076332092285\n",
            "6.95385217666626\n",
            "8.358434677124023\n",
            "6.742328643798828\n",
            "7.357585906982422\n",
            "7.1543684005737305\n",
            "9.174539566040039\n",
            "9.903361320495605\n",
            "7.427457809448242\n",
            "9.059816360473633\n",
            "8.290282249450684\n",
            "7.29246711730957\n",
            "9.149919509887695\n",
            "7.953004837036133\n",
            "9.575814247131348\n",
            "6.841701984405518\n",
            "8.459545135498047\n",
            "8.973400115966797\n",
            "7.301487922668457\n",
            "9.276019096374512\n",
            "6.722594738006592\n",
            "7.7956061363220215\n",
            "7.987437725067139\n",
            "9.333727836608887\n",
            "9.652822494506836\n",
            "7.429419040679932\n",
            "7.432053565979004\n",
            "9.148825645446777\n",
            "8.003305435180664\n",
            "7.494118690490723\n",
            "10.000137329101562\n",
            "7.400759220123291\n",
            "9.206086158752441\n",
            "7.309318542480469\n",
            "7.189363956451416\n",
            "7.655542373657227\n",
            "9.514674186706543\n",
            "7.3421101570129395\n",
            "7.705559730529785\n",
            "9.107791900634766\n",
            "8.215662956237793\n",
            "7.949951171875\n",
            "7.80281400680542\n",
            "9.225325584411621\n",
            "6.909620761871338\n",
            "7.565861701965332\n",
            "8.075456619262695\n",
            "6.856041431427002\n",
            "9.594592094421387\n",
            "9.06667423248291\n",
            "8.101781845092773\n",
            "7.003475189208984\n",
            "7.0903215408325195\n",
            "7.389039516448975\n",
            "6.601691246032715\n",
            "5.751161098480225\n",
            "7.268283367156982\n",
            "7.826807498931885\n",
            "8.700129508972168\n",
            "8.91348934173584\n",
            "7.163081169128418\n",
            "8.181142807006836\n",
            "5.891430854797363\n",
            "6.8175458908081055\n",
            "8.758795738220215\n",
            "6.465923309326172\n",
            "6.709764003753662\n",
            "8.864492416381836\n",
            "6.322569370269775\n",
            "7.730152130126953\n",
            "7.360103130340576\n",
            "5.755077838897705\n",
            "6.767378807067871\n",
            "6.570700645446777\n",
            "6.923332691192627\n",
            "6.843808174133301\n",
            "6.866896152496338\n",
            "6.829511642456055\n",
            "6.695618629455566\n",
            "5.304197788238525\n",
            "6.512845993041992\n",
            "6.261616230010986\n",
            "7.380298614501953\n",
            "6.615486145019531\n",
            "5.798322677612305\n",
            "6.478128433227539\n",
            "5.146036148071289\n",
            "7.4170966148376465\n",
            "6.436403751373291\n",
            "6.644647121429443\n",
            "6.215116500854492\n",
            "6.727458477020264\n",
            "6.1313934326171875\n",
            "6.922801971435547\n",
            "6.265972137451172\n",
            "6.224282264709473\n",
            "7.8042192459106445\n",
            "6.055883884429932\n",
            "6.319066524505615\n",
            "5.972524642944336\n",
            "6.298523902893066\n",
            "6.134428024291992\n",
            "6.617379188537598\n",
            "6.410451889038086\n",
            "5.2581963539123535\n",
            "5.454378604888916\n",
            "6.098214626312256\n",
            "4.919286727905273\n",
            "4.3873796463012695\n",
            "6.576972007751465\n",
            "4.464764595031738\n",
            "5.275382995605469\n",
            "6.37418794631958\n",
            "5.285449504852295\n",
            "6.163114547729492\n",
            "6.396270275115967\n",
            "5.021213531494141\n",
            "4.809981346130371\n",
            "5.081248760223389\n",
            "6.930466651916504\n",
            "4.245543479919434\n",
            "5.006659507751465\n",
            "5.154564380645752\n",
            "5.193751811981201\n",
            "4.888481140136719\n",
            "5.660006999969482\n",
            "5.255367279052734\n",
            "5.114110469818115\n",
            "5.968232154846191\n",
            "4.973823547363281\n",
            "5.235421657562256\n",
            "5.73777961730957\n",
            "3.9345622062683105\n",
            "4.743320941925049\n",
            "5.0149312019348145\n",
            "5.3821845054626465\n",
            "4.0216965675354\n",
            "5.3377275466918945\n",
            "4.831752777099609\n",
            "3.9096550941467285\n",
            "4.054656982421875\n",
            "5.188408374786377\n",
            "5.228593826293945\n",
            "5.870552062988281\n",
            "4.356634140014648\n",
            "4.381187438964844\n",
            "4.257073402404785\n",
            "5.629798889160156\n",
            "3.5661871433258057\n",
            "5.644211292266846\n",
            "4.44490385055542\n",
            "4.577656269073486\n",
            "4.513636112213135\n",
            "3.93410587310791\n",
            "4.090141773223877\n",
            "4.9444899559021\n",
            "6.178656101226807\n",
            "3.6321537494659424\n",
            "4.839564800262451\n",
            "4.436891078948975\n",
            "3.824984550476074\n",
            "4.650496006011963\n",
            "4.037083625793457\n",
            "4.372864246368408\n",
            "4.4857330322265625\n",
            "4.491783618927002\n",
            "3.856266736984253\n",
            "3.929708957672119\n",
            "4.592501640319824\n",
            "4.138744831085205\n",
            "4.436700820922852\n",
            "4.626381874084473\n",
            "3.794813632965088\n",
            "4.215104579925537\n",
            "5.34067964553833\n",
            "4.626065254211426\n",
            "4.073410511016846\n",
            "3.620622158050537\n",
            "4.153979301452637\n",
            "5.026469707489014\n",
            "3.877166986465454\n",
            "4.060420513153076\n",
            "4.269826412200928\n",
            "3.820054054260254\n",
            "4.622124195098877\n",
            "3.1571619510650635\n",
            "5.026497840881348\n",
            "3.2160420417785645\n",
            "4.187675476074219\n",
            "3.9197957515716553\n",
            "3.7394213676452637\n",
            "3.42561936378479\n",
            "4.494960784912109\n",
            "4.4750823974609375\n",
            "3.8872182369232178\n",
            "3.6364479064941406\n",
            "3.3388512134552\n",
            "3.4822943210601807\n",
            "3.5520620346069336\n",
            "4.374791622161865\n",
            "3.4102964401245117\n",
            "4.678596019744873\n",
            "4.379186630249023\n",
            "3.7300591468811035\n",
            "3.0323381423950195\n",
            "2.8912513256073\n",
            "5.393290042877197\n",
            "4.111416339874268\n",
            "2.7371397018432617\n",
            "4.733598232269287\n",
            "4.981818199157715\n",
            "5.037967681884766\n",
            "4.0261921882629395\n",
            "3.62760853767395\n",
            "3.5919315814971924\n",
            "3.8086535930633545\n",
            "3.589646577835083\n",
            "3.5168981552124023\n",
            "4.272355079650879\n",
            "3.6230509281158447\n",
            "3.369027853012085\n",
            "3.966420888900757\n",
            "3.9016263484954834\n",
            "3.4544999599456787\n",
            "4.0366716384887695\n",
            "3.7889678478240967\n",
            "3.260251522064209\n",
            "3.7766830921173096\n",
            "3.5282340049743652\n",
            "4.258546352386475\n",
            "3.329216957092285\n",
            "3.879943370819092\n",
            "3.999723196029663\n",
            "3.9368295669555664\n",
            "3.3481342792510986\n",
            "3.2380738258361816\n",
            "3.589934825897217\n",
            "3.574774980545044\n",
            "2.994551181793213\n",
            "3.1815524101257324\n",
            "3.5140905380249023\n",
            "3.70763897895813\n",
            "3.6572272777557373\n",
            "2.8303189277648926\n",
            "3.615588426589966\n",
            "2.9861066341400146\n",
            "3.0715041160583496\n",
            "3.336390256881714\n",
            "3.1675782203674316\n",
            "3.397735357284546\n",
            "3.4054272174835205\n",
            "3.42192006111145\n",
            "3.6152923107147217\n",
            "3.100602626800537\n",
            "2.8151283264160156\n",
            "3.964580774307251\n",
            "3.739116668701172\n",
            "3.526918411254883\n",
            "3.2014667987823486\n",
            "2.871487855911255\n",
            "3.5810835361480713\n",
            "2.8373372554779053\n",
            "3.602994918823242\n",
            "3.3525192737579346\n",
            "3.3395698070526123\n",
            "3.080894947052002\n",
            "3.589327812194824\n",
            "4.6195573806762695\n",
            "2.959289789199829\n",
            "3.1174521446228027\n",
            "3.6075546741485596\n",
            "3.1452929973602295\n",
            "4.123444080352783\n",
            "2.581233501434326\n",
            "3.0363564491271973\n",
            "3.737799644470215\n",
            "2.9645376205444336\n",
            "3.062227249145508\n",
            "3.4105451107025146\n",
            "3.867288112640381\n",
            "2.6623408794403076\n",
            "2.7066028118133545\n",
            "3.0727438926696777\n",
            "2.892896890640259\n",
            "2.9791884422302246\n",
            "3.6203696727752686\n",
            "3.134028673171997\n",
            "3.8317832946777344\n",
            "2.9119956493377686\n",
            "3.4196808338165283\n",
            "3.743657350540161\n",
            "3.015876054763794\n",
            "3.421616315841675\n",
            "2.9689395427703857\n",
            "3.2360217571258545\n",
            "2.6151490211486816\n",
            "3.3297533988952637\n",
            "2.7906575202941895\n",
            "3.0608818531036377\n",
            "2.6760013103485107\n",
            "3.1813812255859375\n",
            "3.894984245300293\n",
            "2.9547109603881836\n",
            "2.983018398284912\n",
            "3.7594447135925293\n",
            "3.543358325958252\n",
            "3.308241605758667\n",
            "3.0353851318359375\n",
            "3.444063186645508\n",
            "2.563112258911133\n",
            "3.1846795082092285\n",
            "3.5347683429718018\n",
            "2.778663158416748\n",
            "3.1261415481567383\n",
            "2.821661949157715\n",
            "2.774076461791992\n",
            "2.8003997802734375\n",
            "3.573368549346924\n",
            "3.169759511947632\n",
            "2.960352897644043\n",
            "3.988680601119995\n",
            "2.7605791091918945\n",
            "2.744619846343994\n",
            "2.6273136138916016\n",
            "2.8745992183685303\n",
            "3.7576913833618164\n",
            "3.4972269535064697\n",
            "3.1083106994628906\n",
            "3.1215157508850098\n",
            "3.0632731914520264\n",
            "3.443706750869751\n",
            "2.516289710998535\n",
            "3.375351905822754\n",
            "3.427156925201416\n",
            "2.61623215675354\n",
            "2.6856424808502197\n",
            "3.007849931716919\n",
            "2.522080421447754\n",
            "3.4327070713043213\n",
            "2.881474256515503\n",
            "2.9367690086364746\n",
            "2.581892490386963\n",
            "3.0113956928253174\n",
            "3.0044312477111816\n",
            "2.629617691040039\n",
            "3.2565653324127197\n",
            "2.6317479610443115\n",
            "2.4636175632476807\n",
            "2.8960318565368652\n",
            "3.1429603099823\n",
            "3.0285589694976807\n",
            "2.782264232635498\n",
            "3.3239786624908447\n",
            "2.68752384185791\n",
            "3.083796739578247\n",
            "2.7483601570129395\n",
            "3.192976713180542\n",
            "3.4700965881347656\n",
            "3.269131660461426\n",
            "2.993488073348999\n",
            "3.0269739627838135\n",
            "2.916750907897949\n",
            "2.8902950286865234\n",
            "3.1408915519714355\n",
            "2.512234926223755\n",
            "3.185373306274414\n",
            "3.2635393142700195\n",
            "2.9632761478424072\n",
            "2.693775177001953\n",
            "3.0579237937927246\n",
            "3.462456226348877\n",
            "3.0513110160827637\n",
            "2.984910249710083\n",
            "3.085845947265625\n",
            "3.4494030475616455\n",
            "3.252643346786499\n",
            "2.5822412967681885\n",
            "3.1093673706054688\n",
            "2.8435702323913574\n",
            "3.0964243412017822\n",
            "2.906618356704712\n",
            "3.519929885864258\n",
            "2.8456027507781982\n",
            "2.5751709938049316\n",
            "2.7007577419281006\n",
            "2.652592420578003\n",
            "2.6439685821533203\n",
            "2.680640459060669\n",
            "2.9939463138580322\n",
            "3.265845775604248\n",
            "3.263976573944092\n",
            "2.654876470565796\n",
            "2.481992244720459\n",
            "2.604461908340454\n",
            "3.144788980484009\n",
            "3.263925790786743\n",
            "3.0031049251556396\n",
            "3.3527703285217285\n",
            "3.1319191455841064\n",
            "3.1640079021453857\n",
            "2.789583444595337\n",
            "2.9629833698272705\n",
            "3.175570487976074\n",
            "2.8379836082458496\n",
            "2.7714102268218994\n",
            "2.7351152896881104\n",
            "3.1438283920288086\n",
            "3.319767475128174\n",
            "3.007310390472412\n",
            "3.277506113052368\n",
            "3.084923028945923\n",
            "2.628632068634033\n",
            "3.0636658668518066\n",
            "3.294309139251709\n",
            "2.673952579498291\n",
            "3.134636163711548\n",
            "2.851773738861084\n",
            "2.889533042907715\n",
            "3.1787352561950684\n",
            "2.858060836791992\n",
            "3.286916494369507\n",
            "3.1005496978759766\n",
            "3.0462663173675537\n",
            "3.0202550888061523\n",
            "3.0771665573120117\n",
            "3.091169595718384\n",
            "2.8805911540985107\n",
            "2.3075356483459473\n",
            "3.2099132537841797\n",
            "2.7594003677368164\n",
            "3.639854669570923\n",
            "3.2438111305236816\n",
            "3.439373731613159\n",
            "3.1825459003448486\n",
            "2.861288547515869\n",
            "3.0861921310424805\n",
            "2.9339592456817627\n",
            "2.541386604309082\n",
            "3.4918031692504883\n",
            "3.04921555519104\n",
            "3.788527011871338\n",
            "3.430175304412842\n",
            "3.1458966732025146\n",
            "3.147883176803589\n",
            "3.1617062091827393\n",
            "2.6060802936553955\n",
            "2.717935085296631\n",
            "2.869525909423828\n",
            "3.028273820877075\n",
            "2.764002561569214\n",
            "2.8573622703552246\n",
            "3.3242104053497314\n",
            "3.2771942615509033\n",
            "2.403418779373169\n",
            "3.105130672454834\n",
            "2.9717323780059814\n",
            "3.0852272510528564\n",
            "2.8065555095672607\n",
            "3.1395628452301025\n",
            "3.0211832523345947\n",
            "2.782316207885742\n",
            "3.232816219329834\n",
            "4.107968807220459\n",
            "3.5035593509674072\n",
            "2.860146999359131\n",
            "3.322270631790161\n",
            "3.5036656856536865\n",
            "3.336395502090454\n",
            "3.152031898498535\n",
            "3.234161376953125\n",
            "2.8124513626098633\n",
            "3.6242573261260986\n",
            "3.165248155593872\n",
            "3.1001501083374023\n",
            "2.8365976810455322\n",
            "2.743642568588257\n",
            "3.891855239868164\n",
            "3.7289645671844482\n",
            "3.6153860092163086\n",
            "3.386847972869873\n",
            "3.1489720344543457\n",
            "2.663046360015869\n",
            "4.699645042419434\n",
            "4.250650405883789\n",
            "3.7612030506134033\n",
            "4.00199031829834\n",
            "3.611604928970337\n",
            "3.763949394226074\n",
            "3.847928047180176\n",
            "3.1940250396728516\n",
            "3.395972967147827\n",
            "3.452582597732544\n",
            "3.150630235671997\n",
            "3.015216827392578\n",
            "3.0185327529907227\n",
            "2.801981210708618\n",
            "3.4513401985168457\n",
            "3.0296335220336914\n",
            "3.733011245727539\n",
            "3.739312171936035\n",
            "3.6190943717956543\n",
            "3.819448471069336\n",
            "3.105656147003174\n",
            "5.921478271484375\n",
            "3.7490317821502686\n",
            "3.744230031967163\n",
            "3.6027677059173584\n",
            "2.623751163482666\n",
            "2.4558475017547607\n",
            "3.0313820838928223\n",
            "3.3206331729888916\n",
            "4.275919437408447\n",
            "3.8689537048339844\n",
            "4.881260395050049\n",
            "5.240390300750732\n",
            "4.839141368865967\n",
            "3.527832269668579\n",
            "3.944697856903076\n",
            "4.075237274169922\n",
            "3.3012568950653076\n",
            "3.7644336223602295\n",
            "3.853349447250366\n",
            "4.184510707855225\n",
            "3.336409568786621\n",
            "4.155057430267334\n",
            "4.076343059539795\n",
            "2.88906192779541\n",
            "3.167814254760742\n",
            "3.1024112701416016\n",
            "2.965728521347046\n",
            "4.047379493713379\n",
            "5.324537754058838\n",
            "5.671884536743164\n",
            "3.6170051097869873\n",
            "3.15673565864563\n",
            "4.927220344543457\n",
            "3.662468910217285\n",
            "4.805397987365723\n",
            "6.104465484619141\n",
            "4.214641571044922\n",
            "4.454869270324707\n",
            "6.299691200256348\n",
            "5.693136692047119\n",
            "4.1765265464782715\n",
            "3.1984241008758545\n",
            "4.00715446472168\n",
            "4.301170349121094\n",
            "4.099600315093994\n",
            "3.3124051094055176\n",
            "5.039970397949219\n",
            "4.64319372177124\n",
            "4.208975315093994\n",
            "3.5973587036132812\n",
            "3.969247579574585\n",
            "3.305516481399536\n",
            "4.408782005310059\n",
            "4.472019195556641\n",
            "3.5965359210968018\n",
            "3.294499397277832\n",
            "3.7098662853240967\n",
            "3.699612855911255\n",
            "4.566978931427002\n",
            "4.319165229797363\n",
            "5.3798346519470215\n",
            "3.63077712059021\n",
            "4.576173782348633\n",
            "4.357203006744385\n",
            "3.270150899887085\n",
            "3.8312339782714844\n",
            "4.447429656982422\n",
            "5.413870334625244\n",
            "6.178600311279297\n",
            "4.657808303833008\n",
            "6.810216426849365\n",
            "6.528273582458496\n",
            "6.577315807342529\n",
            "6.009591579437256\n",
            "4.875020503997803\n",
            "4.837316513061523\n",
            "3.870633840560913\n",
            "3.91972017288208\n",
            "4.3509321212768555\n",
            "5.495267391204834\n",
            "7.360825538635254\n",
            "6.424610614776611\n",
            "5.875348091125488\n",
            "5.1049580574035645\n",
            "5.622467041015625\n",
            "4.3911638259887695\n",
            "4.187897682189941\n",
            "3.2902495861053467\n",
            "7.576138973236084\n",
            "4.62141752243042\n",
            "4.3435516357421875\n",
            "4.874440670013428\n",
            "5.477236747741699\n",
            "4.398852825164795\n",
            "6.456128120422363\n",
            "4.786400318145752\n",
            "4.308158874511719\n",
            "5.483381748199463\n",
            "6.291335582733154\n",
            "5.034663200378418\n",
            "3.366269588470459\n",
            "7.807399272918701\n",
            "7.1404242515563965\n",
            "9.363184928894043\n",
            "6.614278316497803\n",
            "9.762343406677246\n",
            "8.096512794494629\n",
            "7.6910176277160645\n",
            "4.87973165512085\n",
            "6.682155609130859\n",
            "5.983451843261719\n",
            "4.665807723999023\n",
            "6.203754901885986\n",
            "7.287317752838135\n",
            "5.831332206726074\n",
            "6.401183605194092\n",
            "9.69868278503418\n",
            "9.15761661529541\n",
            "7.640476226806641\n",
            "4.931380748748779\n",
            "4.26577091217041\n",
            "6.628383636474609\n",
            "4.256477355957031\n",
            "5.927907466888428\n",
            "5.3055830001831055\n",
            "5.070274353027344\n",
            "4.521063804626465\n",
            "6.468292236328125\n",
            "6.4573869705200195\n",
            "6.389026641845703\n",
            "5.617048740386963\n",
            "5.441427707672119\n",
            "5.191623210906982\n",
            "4.683856964111328\n",
            "6.560916900634766\n",
            "6.143550872802734\n",
            "5.814457416534424\n",
            "8.440576553344727\n",
            "7.162283420562744\n",
            "5.515034198760986\n",
            "6.633053302764893\n",
            "5.359972953796387\n",
            "6.251484394073486\n",
            "6.112613201141357\n",
            "6.335900783538818\n",
            "3.9225425720214844\n",
            "4.234588146209717\n",
            "5.9448418617248535\n",
            "7.540019989013672\n",
            "6.93886661529541\n",
            "4.932021141052246\n",
            "7.683735370635986\n",
            "7.462996482849121\n",
            "6.952274799346924\n",
            "7.731244087219238\n",
            "5.30427360534668\n",
            "4.892963886260986\n",
            "5.536986827850342\n",
            "5.596875190734863\n",
            "7.024858474731445\n",
            "5.8221435546875\n",
            "4.635810852050781\n",
            "5.239271640777588\n",
            "7.065808296203613\n",
            "6.0340986251831055\n",
            "7.219036102294922\n",
            "8.809258460998535\n",
            "9.905031204223633\n",
            "8.460025787353516\n",
            "9.013364791870117\n",
            "9.282332420349121\n",
            "5.857870101928711\n",
            "7.142250061035156\n",
            "11.059757232666016\n",
            "9.439846992492676\n",
            "8.331226348876953\n",
            "6.361659526824951\n",
            "6.211178302764893\n",
            "7.721858978271484\n",
            "6.622474670410156\n",
            "8.133818626403809\n",
            "6.849700450897217\n",
            "6.047130584716797\n",
            "7.634879112243652\n",
            "7.142822742462158\n",
            "7.191720485687256\n",
            "4.778653144836426\n",
            "6.658178329467773\n",
            "7.006726264953613\n",
            "7.947514533996582\n",
            "8.532685279846191\n",
            "7.782572269439697\n",
            "5.692580699920654\n",
            "6.148405075073242\n",
            "5.4975266456604\n",
            "5.606569290161133\n",
            "6.441545486450195\n",
            "6.866036891937256\n",
            "6.885178089141846\n",
            "6.959991455078125\n"
          ]
        }
      ]
    },
    {
      "cell_type": "code",
      "source": [
        "plt.plot(lri, lossi)"
      ],
      "metadata": {
        "colab": {
          "base_uri": "https://localhost:8080/",
          "height": 447
        },
        "id": "HxwuTQORKzTa",
        "outputId": "155c4706-9e6d-437d-e64e-8b07976d6fe1"
      },
      "execution_count": 291,
      "outputs": [
        {
          "output_type": "execute_result",
          "data": {
            "text/plain": [
              "[<matplotlib.lines.Line2D at 0x7a80d8da47c0>]"
            ]
          },
          "metadata": {},
          "execution_count": 291
        },
        {
          "output_type": "display_data",
          "data": {
            "text/plain": [
              "<Figure size 640x480 with 1 Axes>"
            ],
            "image/png": "[encoded data removed]"
          },
          "metadata": {}
        }
      ]
    },
    {
      "cell_type": "code",
      "source": [
        "g = torch.Generator().manual_seed(2147484767) # for reproducability\n",
        "C = torch.randn((27,2), generator=g)\n",
        "W1 = torch.randn((6,100), generator=g)\n",
        "b1 = torch.randn(100, generator=g)\n",
        "W2 = torch.randn((100,27),generator=g)\n",
        "b2 = torch.randn(27,generator=g)\n",
        "parameters = [C, W1, b1, W2, b2]\n",
        "\n",
        "sum(p.nelement() for p in parameters) # number of parameters in total\n",
        "\n",
        "for p in parameters:\n",
        "  p.requires_grad = True\n",
        "\n",
        "lre = torch.linspace(-3,0,1000)\n",
        "lrs = 10**lre"
      ],
      "metadata": {
        "id": "1ZZcrLmRLPE2"
      },
      "execution_count": 292,
      "outputs": []
    },
    {
      "cell_type": "code",
      "source": [
        "lri = []\n",
        "lossi = []\n",
        "\n",
        "for i in range(1000):\n",
        "  # minibatch construct\n",
        "  ix = torch.randint(0, X.shape[0], (32,))\n",
        "  # forward pass\n",
        "  emb = C[X[ix]] # (32, 3, 2)\n",
        "  h = torch.tanh(emb.view(-1,6) @ W1 + b1) # (32, 100)\n",
        "  logits = h @ W2 + b2 # (32, 27)\n",
        "  loss = F.cross_entropy(logits, Y[ix])\n",
        "  print(loss.item())\n",
        "\n",
        "  # backward pass\n",
        "  for p in parameters:\n",
        "    p.grad = None\n",
        "  loss.backward()\n",
        "\n",
        "  # update\n",
        "  lr = lrs[i]\n",
        "  for p in parameters:\n",
        "    p.data += -lr * p.grad\n",
        "\n",
        "  # track stats\n",
        "  lri.append(lre[i])\n",
        "  lossi.append(loss.item())"
      ],
      "metadata": {
        "colab": {
          "base_uri": "https://localhost:8080/"
        },
        "id": "s6xFenhLLJ0Z",
        "outputId": "73ff28ac-8ee3-4ef0-bfe9-4c6af2554ca7"
      },
      "execution_count": 293,
      "outputs": [
        {
          "output_type": "stream",
          "name": "stdout",
          "text": [
            "14.86767292022705\n",
            "15.864974975585938\n",
            "17.0523738861084\n",
            "14.95516586303711\n",
            "16.506919860839844\n",
            "16.173017501831055\n",
            "16.615312576293945\n",
            "17.884159088134766\n",
            "15.593117713928223\n",
            "15.367817878723145\n",
            "18.320159912109375\n",
            "13.525135040283203\n",
            "16.152725219726562\n",
            "16.733055114746094\n",
            "16.90281867980957\n",
            "17.796846389770508\n",
            "14.40401840209961\n",
            "15.994059562683105\n",
            "16.003225326538086\n",
            "16.585948944091797\n",
            "14.221712112426758\n",
            "14.325373649597168\n",
            "17.31401824951172\n",
            "14.917776107788086\n",
            "14.302827835083008\n",
            "16.680700302124023\n",
            "17.653804779052734\n",
            "14.228597640991211\n",
            "13.861038208007812\n",
            "15.152281761169434\n",
            "15.187108993530273\n",
            "12.131367683410645\n",
            "19.025325775146484\n",
            "14.501827239990234\n",
            "14.916698455810547\n",
            "15.050207138061523\n",
            "15.78813648223877\n",
            "16.11856460571289\n",
            "17.300100326538086\n",
            "15.467761039733887\n",
            "18.121767044067383\n",
            "14.880587577819824\n",
            "14.541187286376953\n",
            "14.6558198928833\n",
            "15.516620635986328\n",
            "14.798907279968262\n",
            "13.885333061218262\n",
            "15.533802032470703\n",
            "15.361006736755371\n",
            "14.638028144836426\n",
            "14.92863655090332\n",
            "13.587728500366211\n",
            "14.664999008178711\n",
            "16.002012252807617\n",
            "14.076669692993164\n",
            "14.348576545715332\n",
            "15.190790176391602\n",
            "13.12276840209961\n",
            "14.499062538146973\n",
            "15.228265762329102\n",
            "16.55732536315918\n",
            "13.765237808227539\n",
            "14.638124465942383\n",
            "14.500619888305664\n",
            "13.486618041992188\n",
            "14.108762741088867\n",
            "15.10887336730957\n",
            "18.955320358276367\n",
            "15.84423828125\n",
            "15.556841850280762\n",
            "13.870161056518555\n",
            "15.78918743133545\n",
            "14.093307495117188\n",
            "12.585143089294434\n",
            "15.273659706115723\n",
            "14.772295951843262\n",
            "13.85610580444336\n",
            "14.70329761505127\n",
            "12.920534133911133\n",
            "14.225959777832031\n",
            "12.879096031188965\n",
            "15.536629676818848\n",
            "17.522705078125\n",
            "14.157888412475586\n",
            "16.090953826904297\n",
            "15.076739311218262\n",
            "15.830897331237793\n",
            "12.123600959777832\n",
            "12.336730003356934\n",
            "14.915223121643066\n",
            "14.468892097473145\n",
            "14.493888854980469\n",
            "12.81401538848877\n",
            "13.661916732788086\n",
            "15.418848991394043\n",
            "14.08686351776123\n",
            "14.834432601928711\n",
            "15.791072845458984\n",
            "15.504021644592285\n",
            "12.812862396240234\n",
            "13.06389045715332\n",
            "11.294560432434082\n",
            "15.094188690185547\n",
            "15.31902027130127\n",
            "13.989784240722656\n",
            "13.781673431396484\n",
            "12.865164756774902\n",
            "11.907584190368652\n",
            "12.603835105895996\n",
            "16.603336334228516\n",
            "11.656326293945312\n",
            "14.544736862182617\n",
            "13.116931915283203\n",
            "14.174615859985352\n",
            "14.293488502502441\n",
            "13.983098030090332\n",
            "13.007962226867676\n",
            "14.573665618896484\n",
            "14.944926261901855\n",
            "15.236089706420898\n",
            "14.724393844604492\n",
            "11.62817096710205\n",
            "11.10196590423584\n",
            "14.142257690429688\n",
            "15.129789352416992\n",
            "12.626228332519531\n",
            "11.240667343139648\n",
            "11.57736587524414\n",
            "11.620567321777344\n",
            "14.892399787902832\n",
            "13.957284927368164\n",
            "13.364341735839844\n",
            "13.354351997375488\n",
            "13.333050727844238\n",
            "13.105708122253418\n",
            "11.682101249694824\n",
            "11.075296401977539\n",
            "12.374902725219727\n",
            "9.863602638244629\n",
            "12.183581352233887\n",
            "15.159622192382812\n",
            "14.175131797790527\n",
            "13.087142944335938\n",
            "11.703462600708008\n",
            "12.274296760559082\n",
            "11.154684066772461\n",
            "13.514832496643066\n",
            "10.612765312194824\n",
            "14.129013061523438\n",
            "12.90500259399414\n",
            "13.794598579406738\n",
            "13.91455078125\n",
            "11.877223014831543\n",
            "11.235408782958984\n",
            "13.072891235351562\n",
            "12.802762031555176\n",
            "12.65419864654541\n",
            "11.822900772094727\n",
            "14.209973335266113\n",
            "13.171834945678711\n",
            "14.077055931091309\n",
            "12.664281845092773\n",
            "12.402772903442383\n",
            "12.472321510314941\n",
            "11.237751007080078\n",
            "12.37954044342041\n",
            "13.084770202636719\n",
            "11.645064353942871\n",
            "12.880206108093262\n",
            "11.07963752746582\n",
            "12.256603240966797\n",
            "12.692489624023438\n",
            "11.278650283813477\n",
            "11.783541679382324\n",
            "12.710304260253906\n",
            "12.278766632080078\n",
            "11.701372146606445\n",
            "9.651714324951172\n",
            "12.365530967712402\n",
            "13.31222915649414\n",
            "11.577856063842773\n",
            "8.890493392944336\n",
            "11.807533264160156\n",
            "11.429999351501465\n",
            "11.41438102722168\n",
            "11.797555923461914\n",
            "13.39039134979248\n",
            "12.197967529296875\n",
            "12.757074356079102\n",
            "12.459945678710938\n",
            "9.40983772277832\n",
            "12.596708297729492\n",
            "13.646533012390137\n",
            "12.580925941467285\n",
            "12.090858459472656\n",
            "14.250402450561523\n",
            "12.601359367370605\n",
            "11.396419525146484\n",
            "10.131876945495605\n",
            "9.224002838134766\n",
            "10.533699989318848\n",
            "12.585199356079102\n",
            "12.778511047363281\n",
            "8.967555046081543\n",
            "11.620634078979492\n",
            "10.82250690460205\n",
            "11.92513656616211\n",
            "12.017516136169434\n",
            "10.956592559814453\n",
            "11.089675903320312\n",
            "13.186495780944824\n",
            "9.713203430175781\n",
            "9.702262878417969\n",
            "10.440590858459473\n",
            "9.29842472076416\n",
            "12.851694107055664\n",
            "10.486501693725586\n",
            "11.347683906555176\n",
            "10.154062271118164\n",
            "13.011544227600098\n",
            "11.184492111206055\n",
            "10.78914737701416\n",
            "10.005597114562988\n",
            "9.413497924804688\n",
            "12.799498558044434\n",
            "10.966663360595703\n",
            "11.177315711975098\n",
            "9.008237838745117\n",
            "10.829007148742676\n",
            "10.101031303405762\n",
            "10.637033462524414\n",
            "11.88187313079834\n",
            "11.209129333496094\n",
            "9.347920417785645\n",
            "9.841411590576172\n",
            "9.705423355102539\n",
            "9.789327621459961\n",
            "9.209236145019531\n",
            "9.922547340393066\n",
            "9.415905952453613\n",
            "10.066608428955078\n",
            "10.94668960571289\n",
            "9.621587753295898\n",
            "9.203520774841309\n",
            "9.385603904724121\n",
            "11.200286865234375\n",
            "8.876952171325684\n",
            "10.620848655700684\n",
            "10.683445930480957\n",
            "9.195245742797852\n",
            "9.13212776184082\n",
            "10.061077117919922\n",
            "7.225358963012695\n",
            "10.935955047607422\n",
            "11.460329055786133\n",
            "10.778522491455078\n",
            "9.520206451416016\n",
            "11.02588939666748\n",
            "9.449755668640137\n",
            "9.639680862426758\n",
            "11.964434623718262\n",
            "10.104836463928223\n",
            "9.725004196166992\n",
            "8.969914436340332\n",
            "9.54646110534668\n",
            "9.321418762207031\n",
            "10.390734672546387\n",
            "9.7025728225708\n",
            "8.630760192871094\n",
            "9.84701919555664\n",
            "8.343443870544434\n",
            "9.956055641174316\n",
            "8.637445449829102\n",
            "10.664481163024902\n",
            "10.052603721618652\n",
            "6.344942569732666\n",
            "9.698446273803711\n",
            "8.466211318969727\n",
            "8.800158500671387\n",
            "9.265621185302734\n",
            "9.086670875549316\n",
            "9.36223030090332\n",
            "7.435524940490723\n",
            "8.589213371276855\n",
            "9.285874366760254\n",
            "10.940549850463867\n",
            "8.915534019470215\n",
            "10.201427459716797\n",
            "9.929113388061523\n",
            "8.263444900512695\n",
            "8.21155071258545\n",
            "9.496763229370117\n",
            "8.931340217590332\n",
            "9.56472110748291\n",
            "8.242578506469727\n",
            "9.40084171295166\n",
            "7.434032440185547\n",
            "9.702890396118164\n",
            "8.744089126586914\n",
            "8.556485176086426\n",
            "9.159989356994629\n",
            "8.172204971313477\n",
            "9.198511123657227\n",
            "7.602499008178711\n",
            "7.002788543701172\n",
            "8.405355453491211\n",
            "7.501697540283203\n",
            "9.918033599853516\n",
            "7.978658199310303\n",
            "7.182877063751221\n",
            "9.272329330444336\n",
            "6.874438285827637\n",
            "8.899333953857422\n",
            "7.407244682312012\n",
            "6.5858378410339355\n",
            "8.000336647033691\n",
            "9.471061706542969\n",
            "7.48244047164917\n",
            "8.302677154541016\n",
            "7.685715675354004\n",
            "10.39784049987793\n",
            "7.883052825927734\n",
            "9.902012825012207\n",
            "8.521888732910156\n",
            "7.326570510864258\n",
            "7.972053050994873\n",
            "7.7985405921936035\n",
            "7.507199764251709\n",
            "8.449483871459961\n",
            "8.415180206298828\n",
            "6.831867694854736\n",
            "7.148486137390137\n",
            "8.001800537109375\n",
            "9.974005699157715\n",
            "6.6293487548828125\n",
            "7.970890522003174\n",
            "6.542104721069336\n",
            "7.381025314331055\n",
            "10.183910369873047\n",
            "7.6139726638793945\n",
            "7.497711658477783\n",
            "7.7535176277160645\n",
            "6.616703033447266\n",
            "8.729736328125\n",
            "8.475337982177734\n",
            "7.917299270629883\n",
            "7.773923397064209\n",
            "8.016976356506348\n",
            "8.687980651855469\n",
            "6.91754150390625\n",
            "8.01456069946289\n",
            "8.141242027282715\n",
            "7.545238018035889\n",
            "9.331440925598145\n",
            "8.312176704406738\n",
            "6.445929050445557\n",
            "7.19190788269043\n",
            "6.8276472091674805\n",
            "5.445620059967041\n",
            "7.730955123901367\n",
            "7.924160480499268\n",
            "6.094067573547363\n",
            "7.730556011199951\n",
            "6.289262294769287\n",
            "6.1541056632995605\n",
            "5.877248287200928\n",
            "7.1409077644348145\n",
            "8.19646167755127\n",
            "5.986910820007324\n",
            "8.321171760559082\n",
            "9.031576156616211\n",
            "7.159740447998047\n",
            "8.315384864807129\n",
            "4.970135688781738\n",
            "6.470496654510498\n",
            "6.710339546203613\n",
            "5.717011451721191\n",
            "6.4611077308654785\n",
            "6.0025129318237305\n",
            "6.927816867828369\n",
            "6.640391826629639\n",
            "7.284196853637695\n",
            "6.34039306640625\n",
            "7.641977787017822\n",
            "5.747134685516357\n",
            "5.41221809387207\n",
            "6.652985095977783\n",
            "4.549727916717529\n",
            "5.714156150817871\n",
            "6.385075092315674\n",
            "6.309515476226807\n",
            "6.391504287719727\n",
            "4.865993976593018\n",
            "5.4241251945495605\n",
            "5.383697986602783\n",
            "6.055480480194092\n",
            "6.708113670349121\n",
            "6.1109418869018555\n",
            "7.351707458496094\n",
            "6.894741058349609\n",
            "5.03956413269043\n",
            "5.121236801147461\n",
            "5.783631801605225\n",
            "5.900787830352783\n",
            "5.045264720916748\n",
            "5.486673831939697\n",
            "5.299996376037598\n",
            "4.5284013748168945\n",
            "5.444926738739014\n",
            "4.2400970458984375\n",
            "5.362551212310791\n",
            "6.0119757652282715\n",
            "5.076329231262207\n",
            "4.973762512207031\n",
            "4.93222188949585\n",
            "4.997914791107178\n",
            "4.146252632141113\n",
            "5.137819766998291\n",
            "6.338596343994141\n",
            "5.6600518226623535\n",
            "4.70441198348999\n",
            "5.155275344848633\n",
            "5.94190788269043\n",
            "5.3287353515625\n",
            "4.929754257202148\n",
            "4.100514888763428\n",
            "3.9237520694732666\n",
            "4.3492536544799805\n",
            "6.345702648162842\n",
            "5.726037502288818\n",
            "5.778701305389404\n",
            "5.838335037231445\n",
            "4.72861909866333\n",
            "5.011831760406494\n",
            "5.642514705657959\n",
            "5.115721225738525\n",
            "5.724103927612305\n",
            "4.250493049621582\n",
            "4.222925186157227\n",
            "5.721275329589844\n",
            "5.571945667266846\n",
            "4.339077949523926\n",
            "4.373664379119873\n",
            "5.737908363342285\n",
            "5.358311176300049\n",
            "5.48599100112915\n",
            "5.027537822723389\n",
            "5.057568073272705\n",
            "4.536055564880371\n",
            "5.1751227378845215\n",
            "5.1350789070129395\n",
            "4.190377712249756\n",
            "4.700735092163086\n",
            "4.67459774017334\n",
            "3.963545083999634\n",
            "4.458543300628662\n",
            "5.4478020668029785\n",
            "5.123832702636719\n",
            "4.315206527709961\n",
            "5.155398368835449\n",
            "3.695929527282715\n",
            "5.533438205718994\n",
            "4.154146194458008\n",
            "5.152638912200928\n",
            "4.398799896240234\n",
            "4.283990383148193\n",
            "4.67153787612915\n",
            "5.250541687011719\n",
            "5.5999016761779785\n",
            "4.366876602172852\n",
            "3.4832863807678223\n",
            "4.86372709274292\n",
            "4.71754789352417\n",
            "3.7997679710388184\n",
            "3.7067668437957764\n",
            "3.259308099746704\n",
            "4.3054280281066895\n",
            "4.703099250793457\n",
            "3.5412135124206543\n",
            "4.089633941650391\n",
            "3.8076698780059814\n",
            "3.9692249298095703\n",
            "4.110222816467285\n",
            "4.244325637817383\n",
            "4.170705318450928\n",
            "3.5841145515441895\n",
            "3.815067768096924\n",
            "3.915923833847046\n",
            "4.653321743011475\n",
            "3.9900803565979004\n",
            "5.269839763641357\n",
            "3.2472105026245117\n",
            "3.8948042392730713\n",
            "3.5145504474639893\n",
            "4.276559352874756\n",
            "3.9747395515441895\n",
            "3.841062068939209\n",
            "3.753006935119629\n",
            "3.6581521034240723\n",
            "3.3355414867401123\n",
            "3.4635355472564697\n",
            "3.348259925842285\n",
            "3.891594171524048\n",
            "3.404116630554199\n",
            "3.7572004795074463\n",
            "4.132951736450195\n",
            "4.609625816345215\n",
            "3.872551441192627\n",
            "4.284289836883545\n",
            "3.6618924140930176\n",
            "3.653900623321533\n",
            "3.7401771545410156\n",
            "3.8515048027038574\n",
            "2.793513059616089\n",
            "4.167636394500732\n",
            "3.0291004180908203\n",
            "4.169877529144287\n",
            "3.242427349090576\n",
            "3.8830008506774902\n",
            "3.170966148376465\n",
            "3.953472375869751\n",
            "3.2832844257354736\n",
            "3.600231885910034\n",
            "3.074944496154785\n",
            "3.8694727420806885\n",
            "3.72178053855896\n",
            "3.6534922122955322\n",
            "2.7726733684539795\n",
            "3.39039945602417\n",
            "3.4155149459838867\n",
            "3.642925977706909\n",
            "3.8791391849517822\n",
            "3.5229623317718506\n",
            "4.162408828735352\n",
            "3.489748001098633\n",
            "3.749013662338257\n",
            "3.6063449382781982\n",
            "3.0513365268707275\n",
            "3.0208323001861572\n",
            "3.1235527992248535\n",
            "3.1563832759857178\n",
            "3.1680564880371094\n",
            "3.5206637382507324\n",
            "3.46866512298584\n",
            "3.201514482498169\n",
            "4.891716480255127\n",
            "3.4191808700561523\n",
            "3.50510573387146\n",
            "3.319634437561035\n",
            "3.0620276927948\n",
            "3.5047545433044434\n",
            "3.2989511489868164\n",
            "3.53338623046875\n",
            "2.7978713512420654\n",
            "2.7055320739746094\n",
            "2.54577374458313\n",
            "3.363173007965088\n",
            "4.2851715087890625\n",
            "3.2962002754211426\n",
            "3.6984031200408936\n",
            "3.4087369441986084\n",
            "3.470036745071411\n",
            "3.5896687507629395\n",
            "3.5920934677124023\n",
            "4.274275302886963\n",
            "3.2215914726257324\n",
            "3.3662633895874023\n",
            "3.58673095703125\n",
            "3.927919864654541\n",
            "2.819227695465088\n",
            "3.6232101917266846\n",
            "3.1833388805389404\n",
            "3.7488205432891846\n",
            "2.8886327743530273\n",
            "3.692011594772339\n",
            "2.7078332901000977\n",
            "2.910198450088501\n",
            "3.1518967151641846\n",
            "3.071838855743408\n",
            "2.7516958713531494\n",
            "3.588615894317627\n",
            "3.752634048461914\n",
            "3.6201722621917725\n",
            "3.47686505317688\n",
            "2.559077024459839\n",
            "3.415175437927246\n",
            "3.318639039993286\n",
            "2.984849214553833\n",
            "3.637146472930908\n",
            "3.8619632720947266\n",
            "3.457627534866333\n",
            "3.3824076652526855\n",
            "2.823380470275879\n",
            "3.602233409881592\n",
            "3.3507652282714844\n",
            "3.4125688076019287\n",
            "3.2269601821899414\n",
            "2.4150023460388184\n",
            "2.419895648956299\n",
            "3.4914462566375732\n",
            "2.7057316303253174\n",
            "2.9781103134155273\n",
            "3.2877073287963867\n",
            "2.8329179286956787\n",
            "3.209669351577759\n",
            "3.547074794769287\n",
            "3.0161380767822266\n",
            "3.21344256401062\n",
            "2.9236583709716797\n",
            "3.0953760147094727\n",
            "2.9919161796569824\n",
            "2.6246838569641113\n",
            "3.155113458633423\n",
            "2.7645022869110107\n",
            "2.9998576641082764\n",
            "3.4380459785461426\n",
            "2.8803446292877197\n",
            "2.8799872398376465\n",
            "3.4777674674987793\n",
            "2.8264589309692383\n",
            "2.2894158363342285\n",
            "3.080023765563965\n",
            "3.3994297981262207\n",
            "3.4644570350646973\n",
            "3.2932252883911133\n",
            "3.2448694705963135\n",
            "3.4205305576324463\n",
            "2.6960902214050293\n",
            "3.538022994995117\n",
            "2.8371810913085938\n",
            "2.9627981185913086\n",
            "2.9921932220458984\n",
            "3.145204782485962\n",
            "2.882704496383667\n",
            "2.7679901123046875\n",
            "3.38193941116333\n",
            "2.8303892612457275\n",
            "3.3510117530822754\n",
            "2.7765347957611084\n",
            "3.623844623565674\n",
            "2.426852226257324\n",
            "3.419205665588379\n",
            "3.088843584060669\n",
            "3.099703311920166\n",
            "3.211411714553833\n",
            "2.3930275440216064\n",
            "3.1039974689483643\n",
            "2.8119375705718994\n",
            "3.2466790676116943\n",
            "2.7301361560821533\n",
            "3.011828660964966\n",
            "3.0468063354492188\n",
            "3.0454583168029785\n",
            "3.159470558166504\n",
            "2.8780324459075928\n",
            "2.9899957180023193\n",
            "3.127284526824951\n",
            "3.004568099975586\n",
            "2.6575779914855957\n",
            "3.4173531532287598\n",
            "2.2997827529907227\n",
            "3.6984455585479736\n",
            "3.3489551544189453\n",
            "3.2366385459899902\n",
            "3.6292452812194824\n",
            "3.2434821128845215\n",
            "2.591444492340088\n",
            "3.274890422821045\n",
            "3.2151007652282715\n",
            "2.8927793502807617\n",
            "2.9622159004211426\n",
            "2.98333740234375\n",
            "2.928520679473877\n",
            "3.2385823726654053\n",
            "3.3931939601898193\n",
            "2.864971399307251\n",
            "3.0277674198150635\n",
            "2.414638042449951\n",
            "2.607839584350586\n",
            "3.207305669784546\n",
            "2.6552374362945557\n",
            "2.741243362426758\n",
            "3.385976791381836\n",
            "2.951209545135498\n",
            "3.0263278484344482\n",
            "3.146296977996826\n",
            "3.065612316131592\n",
            "3.0408828258514404\n",
            "2.809157133102417\n",
            "2.6190578937530518\n",
            "2.9616360664367676\n",
            "2.999070644378662\n",
            "3.0273826122283936\n",
            "3.0144448280334473\n",
            "2.7523560523986816\n",
            "3.1400980949401855\n",
            "3.0902137756347656\n",
            "2.869621992111206\n",
            "3.381781578063965\n",
            "3.1077823638916016\n",
            "2.7335753440856934\n",
            "2.6671688556671143\n",
            "3.451154947280884\n",
            "3.2940142154693604\n",
            "3.508007526397705\n",
            "2.973024606704712\n",
            "3.2163259983062744\n",
            "3.2180840969085693\n",
            "2.9452388286590576\n",
            "2.691793441772461\n",
            "2.769820213317871\n",
            "3.45088267326355\n",
            "3.266587495803833\n",
            "3.2344863414764404\n",
            "2.7709665298461914\n",
            "3.3283932209014893\n",
            "3.2533674240112305\n",
            "2.7758941650390625\n",
            "2.785804033279419\n",
            "3.155273914337158\n",
            "2.7636356353759766\n",
            "3.413172721862793\n",
            "3.134389638900757\n",
            "3.684771776199341\n",
            "3.164045572280884\n",
            "3.239729642868042\n",
            "3.3789868354797363\n",
            "2.768232583999634\n",
            "3.0374293327331543\n",
            "2.9080042839050293\n",
            "2.7105441093444824\n",
            "2.802788496017456\n",
            "2.995914936065674\n",
            "2.797682046890259\n",
            "3.279306411743164\n",
            "2.702418565750122\n",
            "3.416475772857666\n",
            "3.614701747894287\n",
            "3.28841233253479\n",
            "3.0083420276641846\n",
            "2.8964600563049316\n",
            "2.830134391784668\n",
            "3.2600977420806885\n",
            "3.6656415462493896\n",
            "3.36936616897583\n",
            "3.3004653453826904\n",
            "3.066864013671875\n",
            "3.1433334350585938\n",
            "3.0700936317443848\n",
            "3.2174785137176514\n",
            "3.1317760944366455\n",
            "3.3326456546783447\n",
            "3.0058016777038574\n",
            "3.1443264484405518\n",
            "3.301959753036499\n",
            "3.5093703269958496\n",
            "3.05155348777771\n",
            "3.16878604888916\n",
            "3.174854040145874\n",
            "2.899909019470215\n",
            "3.075627565383911\n",
            "3.5487418174743652\n",
            "3.728806734085083\n",
            "3.8523635864257812\n",
            "3.67907452583313\n",
            "3.0998787879943848\n",
            "3.304037094116211\n",
            "4.336511611938477\n",
            "3.8969852924346924\n",
            "3.1855218410491943\n",
            "3.108983278274536\n",
            "3.331559419631958\n",
            "2.9178948402404785\n",
            "2.9507899284362793\n",
            "2.9813504219055176\n",
            "3.3618111610412598\n",
            "2.8755574226379395\n",
            "3.800122022628784\n",
            "3.3723506927490234\n",
            "3.628100633621216\n",
            "4.421599864959717\n",
            "3.17183256149292\n",
            "4.013612270355225\n",
            "4.446101188659668\n",
            "2.649592876434326\n",
            "3.5670347213745117\n",
            "3.5879299640655518\n",
            "3.5687873363494873\n",
            "3.679410696029663\n",
            "3.7359402179718018\n",
            "3.102015256881714\n",
            "2.940535068511963\n",
            "3.6908233165740967\n",
            "2.9704031944274902\n",
            "3.37136173248291\n",
            "3.4309921264648438\n",
            "3.2136011123657227\n",
            "3.18031907081604\n",
            "3.356525182723999\n",
            "4.243683815002441\n",
            "4.10161018371582\n",
            "3.466888189315796\n",
            "3.96293568611145\n",
            "3.9592576026916504\n",
            "3.1090338230133057\n",
            "3.777287006378174\n",
            "4.359323501586914\n",
            "3.133469820022583\n",
            "2.7941551208496094\n",
            "3.5991621017456055\n",
            "3.2044904232025146\n",
            "3.771932601928711\n",
            "4.219168186187744\n",
            "4.780639171600342\n",
            "4.926710605621338\n",
            "6.761481285095215\n",
            "4.7587127685546875\n",
            "5.374558925628662\n",
            "4.597622394561768\n",
            "4.207192420959473\n",
            "3.8316750526428223\n",
            "3.227189064025879\n",
            "3.352431058883667\n",
            "2.385848045349121\n",
            "3.275402545928955\n",
            "3.2261717319488525\n",
            "2.9440340995788574\n",
            "2.9623236656188965\n",
            "3.6360414028167725\n",
            "3.4919302463531494\n",
            "4.3099846839904785\n",
            "4.321369171142578\n",
            "4.501244068145752\n",
            "4.217467308044434\n",
            "4.293996334075928\n",
            "3.6809186935424805\n",
            "3.1786134243011475\n",
            "3.892127752304077\n",
            "3.987671375274658\n",
            "4.350329399108887\n",
            "5.206209182739258\n",
            "4.843822956085205\n",
            "5.285199165344238\n",
            "4.279306888580322\n",
            "3.9367446899414062\n",
            "4.172117710113525\n",
            "4.164875507354736\n",
            "3.7008705139160156\n",
            "4.082859516143799\n",
            "4.075186252593994\n",
            "5.366960525512695\n",
            "5.060297966003418\n",
            "4.32031774520874\n",
            "3.928380250930786\n",
            "5.84320592880249\n",
            "6.517872333526611\n",
            "7.360544681549072\n",
            "6.56889533996582\n",
            "4.876664638519287\n",
            "5.00801944732666\n",
            "3.936236619949341\n",
            "4.464100360870361\n",
            "4.494253635406494\n",
            "4.371432781219482\n",
            "4.462991237640381\n",
            "3.923365354537964\n",
            "4.315006732940674\n",
            "4.775543689727783\n",
            "4.864780902862549\n",
            "5.833733558654785\n",
            "4.391390323638916\n",
            "5.241426467895508\n",
            "5.563796043395996\n",
            "5.841404914855957\n",
            "4.952056407928467\n",
            "5.887948036193848\n",
            "6.576176166534424\n",
            "5.636484146118164\n",
            "5.177840232849121\n",
            "3.7528371810913086\n",
            "4.453057765960693\n",
            "4.750965595245361\n",
            "6.218650817871094\n",
            "5.153975486755371\n",
            "6.012371063232422\n",
            "6.470266342163086\n",
            "5.981760025024414\n",
            "4.911019802093506\n",
            "6.015404224395752\n",
            "5.282514572143555\n",
            "4.984059810638428\n",
            "5.094649791717529\n",
            "4.12360954284668\n",
            "5.028024673461914\n",
            "4.508702754974365\n",
            "4.618139743804932\n",
            "5.79626989364624\n",
            "3.9145028591156006\n",
            "4.551976680755615\n",
            "4.275827884674072\n",
            "4.6554155349731445\n",
            "5.489628314971924\n",
            "5.151972770690918\n",
            "6.8401994705200195\n",
            "5.517565727233887\n",
            "4.73761510848999\n",
            "3.4828498363494873\n",
            "5.384866237640381\n",
            "4.901824951171875\n",
            "6.523143291473389\n",
            "6.662843227386475\n",
            "5.243042469024658\n",
            "6.679714679718018\n",
            "7.5393500328063965\n",
            "6.766273498535156\n",
            "6.401197910308838\n",
            "7.085968494415283\n",
            "4.328413963317871\n",
            "5.181146144866943\n",
            "5.497027397155762\n",
            "4.16837739944458\n",
            "6.2030110359191895\n",
            "7.350197792053223\n",
            "4.889204978942871\n",
            "4.434715270996094\n",
            "5.0588531494140625\n",
            "6.16810941696167\n",
            "4.1838860511779785\n",
            "5.654101371765137\n",
            "5.103476047515869\n",
            "4.058705806732178\n",
            "6.080859661102295\n",
            "7.10245418548584\n",
            "7.061873435974121\n",
            "7.408003330230713\n",
            "5.731565475463867\n",
            "5.270266532897949\n",
            "7.9428019523620605\n",
            "6.5379533767700195\n",
            "5.370161533355713\n",
            "6.127445697784424\n",
            "4.756804943084717\n",
            "5.301817893981934\n",
            "5.448678970336914\n",
            "5.2343010902404785\n",
            "7.284677982330322\n",
            "7.14756965637207\n",
            "5.836492538452148\n",
            "9.620589256286621\n",
            "5.331809997558594\n",
            "7.50266695022583\n",
            "7.466000080108643\n",
            "5.991953372955322\n",
            "5.807194232940674\n",
            "5.790755748748779\n",
            "8.560308456420898\n",
            "10.288126945495605\n",
            "8.140825271606445\n",
            "6.0544047355651855\n",
            "5.003722190856934\n",
            "8.514046669006348\n",
            "4.796217441558838\n",
            "6.4801554679870605\n",
            "8.785476684570312\n",
            "6.935948371887207\n",
            "6.211615085601807\n",
            "5.149956226348877\n",
            "7.7366838455200195\n",
            "5.4434123039245605\n",
            "6.707695960998535\n",
            "7.565216541290283\n",
            "6.8690948486328125\n",
            "4.809716701507568\n",
            "6.193602085113525\n",
            "4.204044818878174\n",
            "7.450361728668213\n",
            "6.727025985717773\n",
            "5.92384147644043\n",
            "5.191143035888672\n",
            "7.392469882965088\n",
            "6.78139591217041\n",
            "5.993101119995117\n",
            "5.0447821617126465\n",
            "4.178232669830322\n",
            "6.375393390655518\n",
            "8.871125221252441\n",
            "6.5430521965026855\n",
            "7.843914031982422\n",
            "4.142147541046143\n",
            "6.672714710235596\n",
            "7.297589302062988\n",
            "6.775516510009766\n",
            "7.742702960968018\n",
            "11.356704711914062\n",
            "9.681999206542969\n",
            "10.237625122070312\n",
            "8.331023216247559\n",
            "8.51540756225586\n",
            "10.595012664794922\n",
            "7.557621479034424\n"
          ]
        }
      ]
    },
    {
      "cell_type": "code",
      "source": [
        "plt.plot(lri,lossi)"
      ],
      "metadata": {
        "colab": {
          "base_uri": "https://localhost:8080/",
          "height": 447
        },
        "id": "d7x38ZcNLSjY",
        "outputId": "b3da7623-90ca-4568-b195-963f8f416447"
      },
      "execution_count": 294,
      "outputs": [
        {
          "output_type": "execute_result",
          "data": {
            "text/plain": [
              "[<matplotlib.lines.Line2D at 0x7a80d8d6f250>]"
            ]
          },
          "metadata": {},
          "execution_count": 294
        },
        {
          "output_type": "display_data",
          "data": {
            "text/plain": [
              "<Figure size 640x480 with 1 Axes>"
            ],
            "image/png": "[encoded data removed]"
          },
          "metadata": {}
        }
      ]
    },
    {
      "cell_type": "code",
      "source": [
        "g = torch.Generator().manual_seed(2147484767) # for reproducability\n",
        "C = torch.randn((27,2), generator=g)\n",
        "W1 = torch.randn((6,100), generator=g)\n",
        "b1 = torch.randn(100, generator=g)\n",
        "W2 = torch.randn((100,27),generator=g)\n",
        "b2 = torch.randn(27,generator=g)\n",
        "parameters = [C, W1, b1, W2, b2]\n",
        "\n",
        "sum(p.nelement() for p in parameters) # number of parameters in total\n",
        "\n",
        "for p in parameters:\n",
        "  p.requires_grad = True\n",
        "\n",
        "lre = torch.linspace(-3,0,1000)\n",
        "lrs = 10**lre"
      ],
      "metadata": {
        "id": "R_1bNQYzMVZ2"
      },
      "execution_count": 295,
      "outputs": []
    },
    {
      "cell_type": "code",
      "source": [
        "lri = []\n",
        "lossi = []\n",
        "\n",
        "for i in range(10000):\n",
        "  # minibatch construct\n",
        "  ix = torch.randint(0, X.shape[0], (32,))\n",
        "  # forward pass\n",
        "  emb = C[X[ix]] # (32, 3, 2)\n",
        "  h = torch.tanh(emb.view(-1,6) @ W1 + b1) # (32, 100)\n",
        "  logits = h @ W2 + b2 # (32, 27)\n",
        "  loss = F.cross_entropy(logits, Y[ix])\n",
        "  # print(loss.item())\n",
        "\n",
        "  # backward pass\n",
        "  for p in parameters:\n",
        "    p.grad = None\n",
        "  loss.backward()\n",
        "\n",
        "  # update\n",
        "  # lr = lrs[i]\n",
        "  lr = 0.1\n",
        "  for p in parameters:\n",
        "    p.data += -lr * p.grad\n",
        "\n",
        "  # # track stats\n",
        "  # lri.append(lre[i])\n",
        "  # lossi.append(loss.item())"
      ],
      "metadata": {
        "id": "PEzU9l7eL7Qx"
      },
      "execution_count": 296,
      "outputs": []
    },
    {
      "cell_type": "code",
      "source": [
        "emb = C[X] # (32, 3, 2)\n",
        "h = torch.tanh(emb.view(-1,6) @ W1 + b1) # (32, 100)\n",
        "logits = h @ W2 + b2 # (32, 27)\n",
        "loss = F.cross_entropy(logits, Y)\n",
        "loss"
      ],
      "metadata": {
        "colab": {
          "base_uri": "https://localhost:8080/"
        },
        "id": "zC_ockA5MbBF",
        "outputId": "005f9abb-0529-48d2-ccb2-95fa05864052"
      },
      "execution_count": 297,
      "outputs": [
        {
          "output_type": "execute_result",
          "data": {
            "text/plain": [
              "tensor(2.4950, grad_fn=<NllLossBackward0>)"
            ]
          },
          "metadata": {},
          "execution_count": 297
        }
      ]
    },
    {
      "cell_type": "code",
      "source": [
        "lri = []\n",
        "lossi = []\n",
        "\n",
        "for i in range(10000):\n",
        "  # minibatch construct\n",
        "  ix = torch.randint(0, X.shape[0], (32,))\n",
        "  # forward pass\n",
        "  emb = C[X[ix]] # (32, 3, 2)\n",
        "  h = torch.tanh(emb.view(-1,6) @ W1 + b1) # (32, 100)\n",
        "  logits = h @ W2 + b2 # (32, 27)\n",
        "  loss = F.cross_entropy(logits, Y[ix])\n",
        "  # print(loss.item())\n",
        "\n",
        "  # backward pass\n",
        "  for p in parameters:\n",
        "    p.grad = None\n",
        "  loss.backward()\n",
        "\n",
        "  # update\n",
        "  # lr = lrs[i]\n",
        "  lr = 0.1\n",
        "  for p in parameters:\n",
        "    p.data += -lr * p.grad\n",
        "\n",
        "  # # track stats\n",
        "  # lri.append(lre[i])\n",
        "  # lossi.append(loss.item())"
      ],
      "metadata": {
        "id": "6hjyk9b9MmQe"
      },
      "execution_count": 298,
      "outputs": []
    },
    {
      "cell_type": "code",
      "source": [
        "emb = C[X] # (32, 3, 2)\n",
        "h = torch.tanh(emb.view(-1,6) @ W1 + b1) # (32, 100)\n",
        "logits = h @ W2 + b2 # (32, 27)\n",
        "loss = F.cross_entropy(logits, Y)\n",
        "loss"
      ],
      "metadata": {
        "colab": {
          "base_uri": "https://localhost:8080/"
        },
        "id": "8eM65Tz8Mpsf",
        "outputId": "80c5d686-eaef-4e57-87c3-cecbc7a9a865"
      },
      "execution_count": 299,
      "outputs": [
        {
          "output_type": "execute_result",
          "data": {
            "text/plain": [
              "tensor(2.4366, grad_fn=<NllLossBackward0>)"
            ]
          },
          "metadata": {},
          "execution_count": 299
        }
      ]
    },
    {
      "cell_type": "code",
      "source": [
        "lri = []\n",
        "lossi = []\n",
        "\n",
        "for i in range(10000):\n",
        "  # minibatch construct\n",
        "  ix = torch.randint(0, X.shape[0], (32,))\n",
        "  # forward pass\n",
        "  emb = C[X[ix]] # (32, 3, 2)\n",
        "  h = torch.tanh(emb.view(-1,6) @ W1 + b1) # (32, 100)\n",
        "  logits = h @ W2 + b2 # (32, 27)\n",
        "  loss = F.cross_entropy(logits, Y[ix])\n",
        "  # print(loss.item())\n",
        "\n",
        "  # backward pass\n",
        "  for p in parameters:\n",
        "    p.grad = None\n",
        "  loss.backward()\n",
        "\n",
        "  # update\n",
        "  # lr = lrs[i]\n",
        "  lr = 0.1\n",
        "  for p in parameters:\n",
        "    p.data += -lr * p.grad\n",
        "\n",
        "  # # track stats\n",
        "  # lri.append(lre[i])\n",
        "  # lossi.append(loss.item())"
      ],
      "metadata": {
        "id": "xjN_-osUMsii"
      },
      "execution_count": 300,
      "outputs": []
    },
    {
      "cell_type": "code",
      "source": [
        "emb = C[X] # (32, 3, 2)\n",
        "h = torch.tanh(emb.view(-1,6) @ W1 + b1) # (32, 100)\n",
        "logits = h @ W2 + b2 # (32, 27)\n",
        "loss = F.cross_entropy(logits, Y)\n",
        "loss"
      ],
      "metadata": {
        "colab": {
          "base_uri": "https://localhost:8080/"
        },
        "id": "KQtKzTshMwvH",
        "outputId": "cd1a0e0a-8711-4023-b592-cc90d600fd12"
      },
      "execution_count": 301,
      "outputs": [
        {
          "output_type": "execute_result",
          "data": {
            "text/plain": [
              "tensor(2.3892, grad_fn=<NllLossBackward0>)"
            ]
          },
          "metadata": {},
          "execution_count": 301
        }
      ]
    },
    {
      "cell_type": "code",
      "source": [
        "lri = []\n",
        "lossi = []\n",
        "\n",
        "for i in range(10000):\n",
        "  # minibatch construct\n",
        "  ix = torch.randint(0, X.shape[0], (32,))\n",
        "  # forward pass\n",
        "  emb = C[X[ix]] # (32, 3, 2)\n",
        "  h = torch.tanh(emb.view(-1,6) @ W1 + b1) # (32, 100)\n",
        "  logits = h @ W2 + b2 # (32, 27)\n",
        "  loss = F.cross_entropy(logits, Y[ix])\n",
        "  # print(loss.item())\n",
        "\n",
        "  # backward pass\n",
        "  for p in parameters:\n",
        "    p.grad = None\n",
        "  loss.backward()\n",
        "\n",
        "  # update\n",
        "  # lr = lrs[i]\n",
        "  lr = 0.1\n",
        "  for p in parameters:\n",
        "    p.data += -lr * p.grad\n",
        "\n",
        "  # # track stats\n",
        "  # lri.append(lre[i])\n",
        "  # lossi.append(loss.item())\n",
        "\n",
        "emb = C[X] # (32, 3, 2)\n",
        "h = torch.tanh(emb.view(-1,6) @ W1 + b1) # (32, 100)\n",
        "logits = h @ W2 + b2 # (32, 27)\n",
        "loss = F.cross_entropy(logits, Y)\n",
        "loss"
      ],
      "metadata": {
        "colab": {
          "base_uri": "https://localhost:8080/"
        },
        "id": "McidxJQXM2yQ",
        "outputId": "5104c4b0-abe6-4b92-d24a-331dc65340fc"
      },
      "execution_count": 302,
      "outputs": [
        {
          "output_type": "execute_result",
          "data": {
            "text/plain": [
              "tensor(2.3776, grad_fn=<NllLossBackward0>)"
            ]
          },
          "metadata": {},
          "execution_count": 302
        }
      ]
    },
    {
      "cell_type": "code",
      "source": [
        "lri = []\n",
        "lossi = []\n",
        "\n",
        "for i in range(10000):\n",
        "  # minibatch construct\n",
        "  ix = torch.randint(0, X.shape[0], (32,))\n",
        "  # forward pass\n",
        "  emb = C[X[ix]] # (32, 3, 2)\n",
        "  h = torch.tanh(emb.view(-1,6) @ W1 + b1) # (32, 100)\n",
        "  logits = h @ W2 + b2 # (32, 27)\n",
        "  loss = F.cross_entropy(logits, Y[ix])\n",
        "  # print(loss.item())\n",
        "\n",
        "  # backward pass\n",
        "  for p in parameters:\n",
        "    p.grad = None\n",
        "  loss.backward()\n",
        "\n",
        "  # update\n",
        "  # lr = lrs[i]\n",
        "  lr = 0.01\n",
        "  for p in parameters:\n",
        "    p.data += -lr * p.grad\n",
        "\n",
        "  # # track stats\n",
        "  # lri.append(lre[i])\n",
        "  # lossi.append(loss.item())\n",
        "\n",
        "emb = C[X] # (32, 3, 2)\n",
        "h = torch.tanh(emb.view(-1,6) @ W1 + b1) # (32, 100)\n",
        "logits = h @ W2 + b2 # (32, 27)\n",
        "loss = F.cross_entropy(logits, Y)\n",
        "loss"
      ],
      "metadata": {
        "colab": {
          "base_uri": "https://localhost:8080/"
        },
        "id": "11rCZR-8NCI8",
        "outputId": "bbcf48e6-e965-4f90-aa49-39b80be19cf1"
      },
      "execution_count": 303,
      "outputs": [
        {
          "output_type": "execute_result",
          "data": {
            "text/plain": [
              "tensor(2.3174, grad_fn=<NllLossBackward0>)"
            ]
          },
          "metadata": {},
          "execution_count": 303
        }
      ]
    },
    {
      "cell_type": "code",
      "source": [
        "lri = []\n",
        "lossi = []\n",
        "\n",
        "for i in range(10000):\n",
        "  # minibatch construct\n",
        "  ix = torch.randint(0, X.shape[0], (32,))\n",
        "  # forward pass\n",
        "  emb = C[X[ix]] # (32, 3, 2)\n",
        "  h = torch.tanh(emb.view(-1,6) @ W1 + b1) # (32, 100)\n",
        "  logits = h @ W2 + b2 # (32, 27)\n",
        "  loss = F.cross_entropy(logits, Y[ix])\n",
        "  # print(loss.item())\n",
        "\n",
        "  # backward pass\n",
        "  for p in parameters:\n",
        "    p.grad = None\n",
        "  loss.backward()\n",
        "\n",
        "  # update\n",
        "  # lr = lrs[i]\n",
        "  lr = 0.01\n",
        "  for p in parameters:\n",
        "    p.data += -lr * p.grad\n",
        "\n",
        "  # # track stats\n",
        "  # lri.append(lre[i])\n",
        "  # lossi.append(loss.item())\n",
        "\n",
        "emb = C[X] # (32, 3, 2)\n",
        "h = torch.tanh(emb.view(-1,6) @ W1 + b1) # (32, 100)\n",
        "logits = h @ W2 + b2 # (32, 27)\n",
        "loss = F.cross_entropy(logits, Y)\n",
        "loss"
      ],
      "metadata": {
        "colab": {
          "base_uri": "https://localhost:8080/"
        },
        "id": "nznRfX_ENHYO",
        "outputId": "9bd6b22b-0b2d-46e4-ca62-82930c3d1c24"
      },
      "execution_count": 304,
      "outputs": [
        {
          "output_type": "execute_result",
          "data": {
            "text/plain": [
              "tensor(2.3160, grad_fn=<NllLossBackward0>)"
            ]
          },
          "metadata": {},
          "execution_count": 304
        }
      ]
    },
    {
      "cell_type": "code",
      "source": [
        "lri = []\n",
        "lossi = []\n",
        "\n",
        "for i in range(10000):\n",
        "  # minibatch construct\n",
        "  ix = torch.randint(0, X.shape[0], (32,))\n",
        "  # forward pass\n",
        "  emb = C[X[ix]] # (32, 3, 2)\n",
        "  h = torch.tanh(emb.view(-1,6) @ W1 + b1) # (32, 100)\n",
        "  logits = h @ W2 + b2 # (32, 27)\n",
        "  loss = F.cross_entropy(logits, Y[ix])\n",
        "  # print(loss.item())\n",
        "\n",
        "  # backward pass\n",
        "  for p in parameters:\n",
        "    p.grad = None\n",
        "  loss.backward()\n",
        "\n",
        "  # update\n",
        "  # lr = lrs[i]\n",
        "  lr = 0.01\n",
        "  for p in parameters:\n",
        "    p.data += -lr * p.grad\n",
        "\n",
        "  # # track stats\n",
        "  # lri.append(lre[i])\n",
        "  # lossi.append(loss.item())\n",
        "\n",
        "emb = C[X] # (32, 3, 2)\n",
        "h = torch.tanh(emb.view(-1,6) @ W1 + b1) # (32, 100)\n",
        "logits = h @ W2 + b2 # (32, 27)\n",
        "loss = F.cross_entropy(logits, Y)\n",
        "loss"
      ],
      "metadata": {
        "colab": {
          "base_uri": "https://localhost:8080/"
        },
        "id": "jEfrMQpRNj-e",
        "outputId": "15b7f94b-a086-4451-ed81-a238db08f3a1"
      },
      "execution_count": 305,
      "outputs": [
        {
          "output_type": "execute_result",
          "data": {
            "text/plain": [
              "tensor(2.3121, grad_fn=<NllLossBackward0>)"
            ]
          },
          "metadata": {},
          "execution_count": 305
        }
      ]
    },
    {
      "cell_type": "code",
      "source": [
        "lri = []\n",
        "lossi = []\n",
        "\n",
        "for i in range(10000):\n",
        "  # minibatch construct\n",
        "  ix = torch.randint(0, X.shape[0], (32,))\n",
        "  # forward pass\n",
        "  emb = C[X[ix]] # (32, 3, 2)\n",
        "  h = torch.tanh(emb.view(-1,6) @ W1 + b1) # (32, 100)\n",
        "  logits = h @ W2 + b2 # (32, 27)\n",
        "  loss = F.cross_entropy(logits, Y[ix])\n",
        "  # print(loss.item())\n",
        "\n",
        "  # backward pass\n",
        "  for p in parameters:\n",
        "    p.grad = None\n",
        "  loss.backward()\n",
        "\n",
        "  # update\n",
        "  # lr = lrs[i]\n",
        "  lr = 0.01\n",
        "  for p in parameters:\n",
        "    p.data += -lr * p.grad\n",
        "\n",
        "  # # track stats\n",
        "  # lri.append(lre[i])\n",
        "  # lossi.append(loss.item())\n",
        "\n",
        "emb = C[X] # (32, 3, 2)\n",
        "h = torch.tanh(emb.view(-1,6) @ W1 + b1) # (32, 100)\n",
        "logits = h @ W2 + b2 # (32, 27)\n",
        "loss = F.cross_entropy(logits, Y)\n",
        "loss"
      ],
      "metadata": {
        "colab": {
          "base_uri": "https://localhost:8080/"
        },
        "id": "3QWN2XZvNnsC",
        "outputId": "d766930e-96ff-44ab-a3dd-d4c625e188db"
      },
      "execution_count": 306,
      "outputs": [
        {
          "output_type": "execute_result",
          "data": {
            "text/plain": [
              "tensor(2.3152, grad_fn=<NllLossBackward0>)"
            ]
          },
          "metadata": {},
          "execution_count": 306
        }
      ]
    },
    {
      "cell_type": "code",
      "source": [
        "lri = []\n",
        "lossi = []\n",
        "\n",
        "for i in range(10000):\n",
        "  # minibatch construct\n",
        "  ix = torch.randint(0, X.shape[0], (32,))\n",
        "  # forward pass\n",
        "  emb = C[X[ix]] # (32, 3, 2)\n",
        "  h = torch.tanh(emb.view(-1,6) @ W1 + b1) # (32, 100)\n",
        "  logits = h @ W2 + b2 # (32, 27)\n",
        "  loss = F.cross_entropy(logits, Y[ix])\n",
        "  # print(loss.item())\n",
        "\n",
        "  # backward pass\n",
        "  for p in parameters:\n",
        "    p.grad = None\n",
        "  loss.backward()\n",
        "\n",
        "  # update\n",
        "  # lr = lrs[i]\n",
        "  lr = 0.01\n",
        "  for p in parameters:\n",
        "    p.data += -lr * p.grad\n",
        "\n",
        "  # # track stats\n",
        "  # lri.append(lre[i])\n",
        "  # lossi.append(loss.item())\n",
        "\n",
        "emb = C[X] # (32, 3, 2)\n",
        "h = torch.tanh(emb.view(-1,6) @ W1 + b1) # (32, 100)\n",
        "logits = h @ W2 + b2 # (32, 27)\n",
        "loss = F.cross_entropy(logits, Y)\n",
        "loss"
      ],
      "metadata": {
        "colab": {
          "base_uri": "https://localhost:8080/"
        },
        "id": "QI7JUypMOc1q",
        "outputId": "1b2c4c2d-1f71-40ef-d303-cc238ff473db"
      },
      "execution_count": 307,
      "outputs": [
        {
          "output_type": "execute_result",
          "data": {
            "text/plain": [
              "tensor(2.3108, grad_fn=<NllLossBackward0>)"
            ]
          },
          "metadata": {},
          "execution_count": 307
        }
      ]
    },
    {
      "cell_type": "code",
      "source": [
        "# training split, dev/validation split, test split\n",
        "# 80%, 10%, 10%"
      ],
      "metadata": {
        "id": "PkneNPXFOgyf"
      },
      "execution_count": 308,
      "outputs": []
    },
    {
      "cell_type": "code",
      "source": [
        "# build the dataset\n",
        "\n",
        "def build_dataset(words):\n",
        "  block_size = 3 # context length : how many characters do we take to predict the next one?\n",
        "  X, Y = [], []\n",
        "  for w in words:\n",
        "    # print(w)\n",
        "    context = [0] * block_size\n",
        "    for ch in w + '.':\n",
        "      ix = stoi[ch]\n",
        "      X.append(context)\n",
        "      Y.append(ix)\n",
        "      # print(''.join(itos[i] for i in context), '--->', itos[ix])\n",
        "      context = context[1:] + [ix] # crop and append\n",
        "\n",
        "  X = torch.tensor(X)\n",
        "  Y = torch.tensor(Y)\n",
        "  print(X.shape, Y.shape)\n",
        "  return X, Y\n",
        "\n",
        "import random\n",
        "random.seed(42)\n",
        "random.shuffle(words)\n",
        "n1 = int(0.8*len(words))\n",
        "n2 = int(0.9*len(words))\n",
        "\n",
        "Xtr, Ytr = build_dataset(words[:n1])\n",
        "Xdev, Ydev = build_dataset(words[n1:n2])\n",
        "Xte, Yte = build_dataset(words[n2:])"
      ],
      "metadata": {
        "colab": {
          "base_uri": "https://localhost:8080/"
        },
        "id": "G_mmWmA4PCr5",
        "outputId": "7ce984b0-4125-43a6-b751-e3fcce635278"
      },
      "execution_count": 309,
      "outputs": [
        {
          "output_type": "stream",
          "name": "stdout",
          "text": [
            "torch.Size([182625, 3]) torch.Size([182625])\n",
            "torch.Size([22655, 3]) torch.Size([22655])\n",
            "torch.Size([22866, 3]) torch.Size([22866])\n"
          ]
        }
      ]
    },
    {
      "cell_type": "code",
      "source": [
        "len(words)"
      ],
      "metadata": {
        "colab": {
          "base_uri": "https://localhost:8080/"
        },
        "id": "TgEy6N_QQIY5",
        "outputId": "5e3a98f1-42fc-48c1-96a3-52d096ebcd84"
      },
      "execution_count": 310,
      "outputs": [
        {
          "output_type": "execute_result",
          "data": {
            "text/plain": [
              "32033"
            ]
          },
          "metadata": {},
          "execution_count": 310
        }
      ]
    },
    {
      "cell_type": "code",
      "source": [
        "n1"
      ],
      "metadata": {
        "colab": {
          "base_uri": "https://localhost:8080/"
        },
        "id": "XjqjSrBEQJ32",
        "outputId": "a0729f33-34cb-471a-f9af-83193b0e11c5"
      },
      "execution_count": 311,
      "outputs": [
        {
          "output_type": "execute_result",
          "data": {
            "text/plain": [
              "25626"
            ]
          },
          "metadata": {},
          "execution_count": 311
        }
      ]
    },
    {
      "cell_type": "code",
      "source": [
        "n2"
      ],
      "metadata": {
        "colab": {
          "base_uri": "https://localhost:8080/"
        },
        "id": "hg6WSuGJQL0N",
        "outputId": "8c9a26f4-4c02-494b-950a-82f8d46ec854"
      },
      "execution_count": 312,
      "outputs": [
        {
          "output_type": "execute_result",
          "data": {
            "text/plain": [
              "28829"
            ]
          },
          "metadata": {},
          "execution_count": 312
        }
      ]
    },
    {
      "cell_type": "code",
      "source": [
        "n2 - n1"
      ],
      "metadata": {
        "colab": {
          "base_uri": "https://localhost:8080/"
        },
        "id": "pUQn3rptQeVE",
        "outputId": "ba447bb0-0491-43ac-d8c7-96b2bc85e6b9"
      },
      "execution_count": 313,
      "outputs": [
        {
          "output_type": "execute_result",
          "data": {
            "text/plain": [
              "3203"
            ]
          },
          "metadata": {},
          "execution_count": 313
        }
      ]
    },
    {
      "cell_type": "code",
      "source": [
        "len(words) - n2"
      ],
      "metadata": {
        "colab": {
          "base_uri": "https://localhost:8080/"
        },
        "id": "aE3a6RhOQh2u",
        "outputId": "b51d3db1-c1ed-4844-d0c0-42944e634196"
      },
      "execution_count": 314,
      "outputs": [
        {
          "output_type": "execute_result",
          "data": {
            "text/plain": [
              "3204"
            ]
          },
          "metadata": {},
          "execution_count": 314
        }
      ]
    },
    {
      "cell_type": "code",
      "source": [
        "# ------"
      ],
      "metadata": {
        "id": "eftpcv8HQp38"
      },
      "execution_count": 315,
      "outputs": []
    },
    {
      "cell_type": "code",
      "source": [
        "Xtr.shape, Ytr.shape # dataset"
      ],
      "metadata": {
        "colab": {
          "base_uri": "https://localhost:8080/"
        },
        "id": "7oqLSYvaQsnZ",
        "outputId": "579350e0-fd48-4083-e326-a8877b98c03d"
      },
      "execution_count": 316,
      "outputs": [
        {
          "output_type": "execute_result",
          "data": {
            "text/plain": [
              "(torch.Size([182625, 3]), torch.Size([182625]))"
            ]
          },
          "metadata": {},
          "execution_count": 316
        }
      ]
    },
    {
      "cell_type": "code",
      "source": [
        "g = torch.Generator().manual_seed(2147484767) # for reproducability\n",
        "C = torch.randn((27,2), generator=g)\n",
        "W1 = torch.randn((6,100), generator=g)\n",
        "b1 = torch.randn(100, generator=g)\n",
        "W2 = torch.randn((100,27),generator=g)\n",
        "b2 = torch.randn(27,generator=g)\n",
        "parameters = [C, W1, b1, W2, b2]\n",
        "\n",
        "sum(p.nelement() for p in parameters) # number of parameters in total\n",
        "\n",
        "for p in parameters:\n",
        "  p.requires_grad = True\n",
        "\n",
        "lre = torch.linspace(-3,0,1000)\n",
        "lrs = 10**lre"
      ],
      "metadata": {
        "id": "PrCYQZYeQwTE"
      },
      "execution_count": 317,
      "outputs": []
    },
    {
      "cell_type": "code",
      "source": [
        "lri = []\n",
        "lossi = []\n",
        "\n",
        "for i in range(10000):\n",
        "  # minibatch construct\n",
        "  ix = torch.randint(0, Xtr.shape[0], (32,))\n",
        "  # forward pass\n",
        "  emb = C[Xtr[ix]] # (32, 3, 2)\n",
        "  h = torch.tanh(emb.view(-1,6) @ W1 + b1) # (32, 100)\n",
        "  logits = h @ W2 + b2 # (32, 27)\n",
        "  loss = F.cross_entropy(logits, Ytr[ix])\n",
        "  # print(loss.item())\n",
        "\n",
        "  # backward pass\n",
        "  for p in parameters:\n",
        "    p.grad = None\n",
        "  loss.backward()\n",
        "\n",
        "  # update\n",
        "  # lr = lrs[i]\n",
        "  lr = 0.01\n",
        "  for p in parameters:\n",
        "    p.data += -lr * p.grad\n",
        "\n",
        "  # # track stats\n",
        "  # lri.append(lre[i])\n",
        "  # lossi.append(loss.item())\n"
      ],
      "metadata": {
        "id": "ORDLvgMaRO8B"
      },
      "execution_count": 318,
      "outputs": []
    },
    {
      "cell_type": "code",
      "source": [
        "print(loss.item())"
      ],
      "metadata": {
        "colab": {
          "base_uri": "https://localhost:8080/"
        },
        "id": "b63QiNOBRAlH",
        "outputId": "5c5cdf68-a81e-438a-cfd3-dc4e4618d49d"
      },
      "execution_count": 319,
      "outputs": [
        {
          "output_type": "stream",
          "name": "stdout",
          "text": [
            "2.2727787494659424\n"
          ]
        }
      ]
    },
    {
      "cell_type": "code",
      "source": [
        "lri = []\n",
        "lossi = []\n",
        "\n",
        "for i in range(10000):\n",
        "  # minibatch construct\n",
        "  ix = torch.randint(0, Xtr.shape[0], (32,))\n",
        "  # forward pass\n",
        "  emb = C[Xtr[ix]] # (32, 3, 2)\n",
        "  h = torch.tanh(emb.view(-1,6) @ W1 + b1) # (32, 100)\n",
        "  logits = h @ W2 + b2 # (32, 27)\n",
        "  loss = F.cross_entropy(logits, Ytr[ix])\n",
        "  # print(loss.item())\n",
        "\n",
        "  # backward pass\n",
        "  for p in parameters:\n",
        "    p.grad = None\n",
        "  loss.backward()\n",
        "\n",
        "  # update\n",
        "  # lr = lrs[i]\n",
        "  lr = 0.01\n",
        "  for p in parameters:\n",
        "    p.data += -lr * p.grad\n",
        "\n",
        "  # # track stats\n",
        "  # lri.append(lre[i])\n",
        "  # lossi.append(loss.item())\n"
      ],
      "metadata": {
        "id": "h4Kjgt53Wm3d"
      },
      "execution_count": 320,
      "outputs": []
    },
    {
      "cell_type": "code",
      "source": [
        "print(loss.item())"
      ],
      "metadata": {
        "colab": {
          "base_uri": "https://localhost:8080/"
        },
        "id": "pbOLYw-oWojM",
        "outputId": "873e0bc6-e9f6-4a9e-9803-d48c60f8b7d3"
      },
      "execution_count": 321,
      "outputs": [
        {
          "output_type": "stream",
          "name": "stdout",
          "text": [
            "2.560300827026367\n"
          ]
        }
      ]
    },
    {
      "cell_type": "code",
      "source": [
        "lri = []\n",
        "lossi = []\n",
        "\n",
        "for i in range(30000):\n",
        "  # minibatch construct\n",
        "  ix = torch.randint(0, Xtr.shape[0], (32,))\n",
        "  # forward pass\n",
        "  emb = C[Xtr[ix]] # (32, 3, 2)\n",
        "  h = torch.tanh(emb.view(-1,6) @ W1 + b1) # (32, 100)\n",
        "  logits = h @ W2 + b2 # (32, 27)\n",
        "  loss = F.cross_entropy(logits, Ytr[ix])\n",
        "  # print(loss.item())\n",
        "\n",
        "  # backward pass\n",
        "  for p in parameters:\n",
        "    p.grad = None\n",
        "  loss.backward()\n",
        "\n",
        "  # update\n",
        "  # lr = lrs[i]\n",
        "  lr = 0.01\n",
        "  for p in parameters:\n",
        "    p.data += -lr * p.grad\n",
        "\n",
        "  # # track stats\n",
        "  # lri.append(lre[i])\n",
        "  # lossi.append(loss.item())\n"
      ],
      "metadata": {
        "id": "KoI86IC4Q46H"
      },
      "execution_count": 322,
      "outputs": []
    },
    {
      "cell_type": "code",
      "source": [
        "print(loss.item())"
      ],
      "metadata": {
        "colab": {
          "base_uri": "https://localhost:8080/"
        },
        "id": "J14ZmV7aRT7G",
        "outputId": "76dc9962-e1ee-415f-901b-03a121a0be4d"
      },
      "execution_count": 323,
      "outputs": [
        {
          "output_type": "stream",
          "name": "stdout",
          "text": [
            "2.4023022651672363\n"
          ]
        }
      ]
    },
    {
      "cell_type": "code",
      "source": [
        "lri = []\n",
        "lossi = []\n",
        "\n",
        "for i in range(30000):\n",
        "  # minibatch construct\n",
        "  ix = torch.randint(0, Xtr.shape[0], (32,))\n",
        "  # forward pass\n",
        "  emb = C[Xtr[ix]] # (32, 3, 2)\n",
        "  h = torch.tanh(emb.view(-1,6) @ W1 + b1) # (32, 100)\n",
        "  logits = h @ W2 + b2 # (32, 27)\n",
        "  loss = F.cross_entropy(logits, Ytr[ix])\n",
        "  # print(loss.item())\n",
        "\n",
        "  # backward pass\n",
        "  for p in parameters:\n",
        "    p.grad = None\n",
        "  loss.backward()\n",
        "\n",
        "  # update\n",
        "  # lr = lrs[i]\n",
        "  lr = 0.01\n",
        "  for p in parameters:\n",
        "    p.data += -lr * p.grad\n",
        "\n",
        "  # # track stats\n",
        "  # lri.append(lre[i])\n",
        "  # lossi.append(loss.item())"
      ],
      "metadata": {
        "id": "szAamiN2T7l5"
      },
      "execution_count": 324,
      "outputs": []
    },
    {
      "cell_type": "code",
      "source": [
        "print(loss.item())"
      ],
      "metadata": {
        "colab": {
          "base_uri": "https://localhost:8080/"
        },
        "id": "TnpWOjRyT8TJ",
        "outputId": "87bd6396-c44e-4396-fb8f-25eb56ee3aab"
      },
      "execution_count": 325,
      "outputs": [
        {
          "output_type": "stream",
          "name": "stdout",
          "text": [
            "2.575364589691162\n"
          ]
        }
      ]
    },
    {
      "cell_type": "code",
      "source": [
        "lri = []\n",
        "lossi = []\n",
        "\n",
        "for i in range(30000):\n",
        "  # minibatch construct\n",
        "  ix = torch.randint(0, Xtr.shape[0], (32,))\n",
        "  # forward pass\n",
        "  emb = C[Xtr[ix]] # (32, 3, 2)\n",
        "  h = torch.tanh(emb.view(-1,6) @ W1 + b1) # (32, 100)\n",
        "  logits = h @ W2 + b2 # (32, 27)\n",
        "  loss = F.cross_entropy(logits, Ytr[ix])\n",
        "  # print(loss.item())\n",
        "\n",
        "  # backward pass\n",
        "  for p in parameters:\n",
        "    p.grad = None\n",
        "  loss.backward()\n",
        "\n",
        "  # update\n",
        "  # lr = lrs[i]\n",
        "  lr = 0.01\n",
        "  for p in parameters:\n",
        "    p.data += -lr * p.grad\n",
        "\n",
        "  # # track stats\n",
        "  # lri.append(lre[i])\n",
        "  # lossi.append(loss.item())\n",
        "\n",
        "print(loss.item())"
      ],
      "metadata": {
        "colab": {
          "base_uri": "https://localhost:8080/"
        },
        "id": "oswW71oBWzhF",
        "outputId": "736a6616-c9d7-4695-9210-20a859e3574e"
      },
      "execution_count": 326,
      "outputs": [
        {
          "output_type": "stream",
          "name": "stdout",
          "text": [
            "2.2641942501068115\n"
          ]
        }
      ]
    },
    {
      "cell_type": "code",
      "source": [
        "\n",
        "emb = C[X] # (32, 3, 2)\n",
        "h = torch.tanh(emb.view(-1,6) @ W1 + b1) # (32, 100)\n",
        "logits = h @ W2 + b2 # (32, 27)\n",
        "loss = F.cross_entropy(logits, Y)\n",
        "loss"
      ],
      "metadata": {
        "colab": {
          "base_uri": "https://localhost:8080/"
        },
        "id": "Nxq0hvdHQ_Dt",
        "outputId": "5334b979-16ba-43c8-cf8c-facf58324efc"
      },
      "execution_count": 327,
      "outputs": [
        {
          "output_type": "execute_result",
          "data": {
            "text/plain": [
              "tensor(2.4208, grad_fn=<NllLossBackward0>)"
            ]
          },
          "metadata": {},
          "execution_count": 327
        }
      ]
    },
    {
      "cell_type": "code",
      "source": [
        "g = torch.Generator().manual_seed(2147484767) # for reproducability\n",
        "C = torch.randn((27,2), generator=g)\n",
        "W1 = torch.randn((6,100), generator=g)\n",
        "b1 = torch.randn(100, generator=g)\n",
        "W2 = torch.randn((100,27),generator=g)\n",
        "b2 = torch.randn(27,generator=g)\n",
        "parameters = [C, W1, b1, W2, b2]\n",
        "\n",
        "sum(p.nelement() for p in parameters) # number of parameters in total\n",
        "\n",
        "for p in parameters:\n",
        "  p.requires_grad = True\n",
        "\n",
        "lre = torch.linspace(-3,0,1000)\n",
        "lrs = 10**lre"
      ],
      "metadata": {
        "id": "eJO4uo3-Rdg-"
      },
      "execution_count": 328,
      "outputs": []
    },
    {
      "cell_type": "code",
      "source": [
        "lri = []\n",
        "lossi = []\n",
        "\n",
        "for i in range(20000):\n",
        "  # minibatch construct\n",
        "  ix = torch.randint(0, Xtr.shape[0], (32,))\n",
        "  # forward pass\n",
        "  emb = C[Xtr[ix]] # (32, 3, 2)\n",
        "  h = torch.tanh(emb.view(-1,6) @ W1 + b1) # (32, 100)\n",
        "  logits = h @ W2 + b2 # (32, 27)\n",
        "  loss = F.cross_entropy(logits, Ytr[ix])\n",
        "  # print(loss.item())\n",
        "\n",
        "  # backward pass\n",
        "  for p in parameters:\n",
        "    p.grad = None\n",
        "  loss.backward()\n",
        "\n",
        "  # update\n",
        "  # lr = lrs[i]\n",
        "  lr = 0.01\n",
        "  for p in parameters:\n",
        "    p.data += -lr * p.grad\n",
        "\n",
        "  # # track stats\n",
        "  # lri.append(lre[i])\n",
        "  # lossi.append(loss.item())"
      ],
      "metadata": {
        "id": "z1D5TQ21RjXX"
      },
      "execution_count": 329,
      "outputs": []
    },
    {
      "cell_type": "code",
      "source": [
        "print(loss.item())"
      ],
      "metadata": {
        "colab": {
          "base_uri": "https://localhost:8080/"
        },
        "id": "WSKQ9FCdRrUS",
        "outputId": "df9e4e25-e467-4e1f-8ce5-505e26c90188"
      },
      "execution_count": 330,
      "outputs": [
        {
          "output_type": "stream",
          "name": "stdout",
          "text": [
            "2.370497941970825\n"
          ]
        }
      ]
    },
    {
      "cell_type": "code",
      "source": [
        "emb = C[Xtr] # (32, 3, 2)\n",
        "h = torch.tanh(emb.view(-1,6) @ W1 + b1) # (32, 100)\n",
        "logits = h @ W2 + b2 # (32, 27)\n",
        "loss = F.cross_entropy(logits, Ytr)\n",
        "loss"
      ],
      "metadata": {
        "colab": {
          "base_uri": "https://localhost:8080/"
        },
        "id": "2TA7vUbISDeL",
        "outputId": "af27177e-10ea-4c87-cb68-c77f372264d2"
      },
      "execution_count": 331,
      "outputs": [
        {
          "output_type": "execute_result",
          "data": {
            "text/plain": [
              "tensor(2.4987, grad_fn=<NllLossBackward0>)"
            ]
          },
          "metadata": {},
          "execution_count": 331
        }
      ]
    },
    {
      "cell_type": "code",
      "source": [
        "emb = C[Xdev] # (32, 3, 2)\n",
        "h = torch.tanh(emb.view(-1,6) @ W1 + b1) # (32, 100)\n",
        "logits = h @ W2 + b2 # (32, 27)\n",
        "loss = F.cross_entropy(logits, Ydev)\n",
        "loss"
      ],
      "metadata": {
        "colab": {
          "base_uri": "https://localhost:8080/"
        },
        "id": "Gun7m49mR6e8",
        "outputId": "49142f82-5108-485d-d95f-1e98d0c6ebe0"
      },
      "execution_count": 332,
      "outputs": [
        {
          "output_type": "execute_result",
          "data": {
            "text/plain": [
              "tensor(2.4904, grad_fn=<NllLossBackward0>)"
            ]
          },
          "metadata": {},
          "execution_count": 332
        }
      ]
    },
    {
      "cell_type": "code",
      "source": [
        "lri = []\n",
        "lossi = []\n",
        "\n",
        "for i in range(10000):\n",
        "  # minibatch construct\n",
        "  ix = torch.randint(0, Xtr.shape[0], (32,))\n",
        "  # forward pass\n",
        "  emb = C[Xtr[ix]] # (32, 3, 2)\n",
        "  h = torch.tanh(emb.view(-1,6) @ W1 + b1) # (32, 100)\n",
        "  logits = h @ W2 + b2 # (32, 27)\n",
        "  loss = F.cross_entropy(logits, Ytr[ix])\n",
        "  # print(loss.item())\n",
        "\n",
        "  # backward pass\n",
        "  for p in parameters:\n",
        "    p.grad = None\n",
        "  loss.backward()\n",
        "\n",
        "  # update\n",
        "  # lr = lrs[i]\n",
        "  lr = 0.01\n",
        "  for p in parameters:\n",
        "    p.data += -lr * p.grad\n",
        "\n",
        "  # # track stats\n",
        "  # lri.append(lre[i])\n",
        "  # lossi.append(loss.item())"
      ],
      "metadata": {
        "id": "zyxhvEK1XlDt"
      },
      "execution_count": 333,
      "outputs": []
    },
    {
      "cell_type": "code",
      "source": [
        "lri = []\n",
        "lossi = []\n",
        "\n",
        "for i in range(10000):\n",
        "  # minibatch construct\n",
        "  ix = torch.randint(0, Xtr.shape[0], (32,))\n",
        "  # forward pass\n",
        "  emb = C[Xtr[ix]] # (32, 3, 2)\n",
        "  h = torch.tanh(emb.view(-1,6) @ W1 + b1) # (32, 100)\n",
        "  logits = h @ W2 + b2 # (32, 27)\n",
        "  loss = F.cross_entropy(logits, Ytr[ix])\n",
        "  # print(loss.item())\n",
        "\n",
        "  # backward pass\n",
        "  for p in parameters:\n",
        "    p.grad = None\n",
        "  loss.backward()\n",
        "\n",
        "  # update\n",
        "  # lr = lrs[i]\n",
        "  lr = 0.01\n",
        "  for p in parameters:\n",
        "    p.data += -lr * p.grad\n",
        "\n",
        "  # # track stats\n",
        "  # lri.append(lre[i])\n",
        "  # lossi.append(loss.item())"
      ],
      "metadata": {
        "id": "VFp8hLwQXt4a"
      },
      "execution_count": 334,
      "outputs": []
    },
    {
      "cell_type": "code",
      "source": [
        "print(loss.item())"
      ],
      "metadata": {
        "colab": {
          "base_uri": "https://localhost:8080/"
        },
        "id": "X1DGekWWXoA7",
        "outputId": "ca582324-3ed2-4220-858a-807adea6e0ba"
      },
      "execution_count": 335,
      "outputs": [
        {
          "output_type": "stream",
          "name": "stdout",
          "text": [
            "2.6909966468811035\n"
          ]
        }
      ]
    },
    {
      "cell_type": "code",
      "source": [
        "lri = []\n",
        "lossi = []\n",
        "\n",
        "for i in range(10000):\n",
        "  # minibatch construct\n",
        "  ix = torch.randint(0, Xtr.shape[0], (32,))\n",
        "  # forward pass\n",
        "  emb = C[Xtr[ix]] # (32, 3, 2)\n",
        "  h = torch.tanh(emb.view(-1,6) @ W1 + b1) # (32, 100)\n",
        "  logits = h @ W2 + b2 # (32, 27)\n",
        "  loss = F.cross_entropy(logits, Ytr[ix])\n",
        "  # print(loss.item())\n",
        "\n",
        "  # backward pass\n",
        "  for p in parameters:\n",
        "    p.grad = None\n",
        "  loss.backward()\n",
        "\n",
        "  # update\n",
        "  # lr = lrs[i]\n",
        "  lr = 0.01\n",
        "  for p in parameters:\n",
        "    p.data += -lr * p.grad\n",
        "\n",
        "  # # track stats\n",
        "  # lri.append(lre[i])\n",
        "  # lossi.append(loss.item())\n",
        "\n",
        "print(loss.item())"
      ],
      "metadata": {
        "colab": {
          "base_uri": "https://localhost:8080/"
        },
        "id": "I-FeU1Q7YzEa",
        "outputId": "129734dd-d6c0-47e0-959c-3d1cc2dfc345"
      },
      "execution_count": 343,
      "outputs": [
        {
          "output_type": "stream",
          "name": "stdout",
          "text": [
            "2.6325697898864746\n"
          ]
        }
      ]
    },
    {
      "cell_type": "code",
      "source": [
        "lri = []\n",
        "lossi = []\n",
        "\n",
        "for i in range(10000):\n",
        "  # minibatch construct\n",
        "  ix = torch.randint(0, Xtr.shape[0], (32,))\n",
        "  # forward pass\n",
        "  emb = C[Xtr[ix]] # (32, 3, 2)\n",
        "  h = torch.tanh(emb.view(-1,6) @ W1 + b1) # (32, 100)\n",
        "  logits = h @ W2 + b2 # (32, 27)\n",
        "  loss = F.cross_entropy(logits, Ytr[ix])\n",
        "  # print(loss.item())\n",
        "\n",
        "  # backward pass\n",
        "  for p in parameters:\n",
        "    p.grad = None\n",
        "  loss.backward()\n",
        "\n",
        "  # update\n",
        "  # lr = lrs[i]\n",
        "  lr = 0.01\n",
        "  for p in parameters:\n",
        "    p.data += -lr * p.grad\n",
        "\n",
        "  # # track stats\n",
        "  # lri.append(lre[i])\n",
        "  # lossi.append(loss.item())\n",
        "\n",
        "print(loss.item())"
      ],
      "metadata": {
        "colab": {
          "base_uri": "https://localhost:8080/"
        },
        "id": "sI7qDKROY6nF",
        "outputId": "9c16b207-96e9-41b0-9818-f5b8d12dbbf5"
      },
      "execution_count": 344,
      "outputs": [
        {
          "output_type": "stream",
          "name": "stdout",
          "text": [
            "2.204033374786377\n"
          ]
        }
      ]
    },
    {
      "cell_type": "code",
      "source": [
        "emb = C[Xtr] # (32, 3, 2)\n",
        "h = torch.tanh(emb.view(-1,6) @ W1 + b1) # (32, 100)\n",
        "logits = h @ W2 + b2 # (32, 27)\n",
        "loss = F.cross_entropy(logits, Ytr)\n",
        "loss"
      ],
      "metadata": {
        "colab": {
          "base_uri": "https://localhost:8080/"
        },
        "id": "gxcaabODX6pC",
        "outputId": "954f8ff2-d03c-4595-9ea5-a245679364e8"
      },
      "execution_count": 345,
      "outputs": [
        {
          "output_type": "execute_result",
          "data": {
            "text/plain": [
              "tensor(2.3139, grad_fn=<NllLossBackward0>)"
            ]
          },
          "metadata": {},
          "execution_count": 345
        }
      ]
    },
    {
      "cell_type": "code",
      "source": [
        "emb = C[Xdev] # (32, 3, 2)\n",
        "h = torch.tanh(emb.view(-1,6) @ W1 + b1) # (32, 100)\n",
        "logits = h @ W2 + b2 # (32, 27)\n",
        "loss = F.cross_entropy(logits, Ydev)\n",
        "loss"
      ],
      "metadata": {
        "colab": {
          "base_uri": "https://localhost:8080/"
        },
        "id": "KlK4FrQQX4p9",
        "outputId": "aa7756d5-e7fe-4732-ffd6-bc62e173bb5f"
      },
      "execution_count": 346,
      "outputs": [
        {
          "output_type": "execute_result",
          "data": {
            "text/plain": [
              "tensor(2.3152, grad_fn=<NllLossBackward0>)"
            ]
          },
          "metadata": {},
          "execution_count": 346
        }
      ]
    },
    {
      "cell_type": "code",
      "source": [
        "g = torch.Generator().manual_seed(2147484767) # for reproducability\n",
        "C = torch.randn((27,2), generator=g)\n",
        "W1 = torch.randn((6,300), generator=g)\n",
        "b1 = torch.randn(300, generator=g)\n",
        "W2 = torch.randn((300,27),generator=g)\n",
        "b2 = torch.randn(27,generator=g)\n",
        "parameters = [C, W1, b1, W2, b2]\n",
        "\n"
      ],
      "metadata": {
        "id": "DnQrvkwGSSt1"
      },
      "execution_count": 347,
      "outputs": []
    },
    {
      "cell_type": "code",
      "source": [
        "sum(p.nelement() for p in parameters) # number of parameters in total\n"
      ],
      "metadata": {
        "colab": {
          "base_uri": "https://localhost:8080/"
        },
        "id": "fBe2yA9WTo0Q",
        "outputId": "1d384b44-a8b7-433d-c3ce-e7058e9f175b"
      },
      "execution_count": 348,
      "outputs": [
        {
          "output_type": "execute_result",
          "data": {
            "text/plain": [
              "10281"
            ]
          },
          "metadata": {},
          "execution_count": 348
        }
      ]
    },
    {
      "cell_type": "code",
      "source": [
        "\n",
        "for p in parameters:\n",
        "  p.requires_grad = True\n",
        "\n",
        "lre = torch.linspace(-3,0,1000)\n",
        "lrs = 10**lre"
      ],
      "metadata": {
        "id": "qjrHANreTp6t"
      },
      "execution_count": 349,
      "outputs": []
    },
    {
      "cell_type": "code",
      "source": [
        "lri = []\n",
        "lossi = []\n",
        "stepi = []\n",
        "for i in range(30000):\n",
        "  # minibatch construct\n",
        "  ix = torch.randint(0, Xtr.shape[0], (32,))\n",
        "  # forward pass\n",
        "  emb = C[Xtr[ix]] # (32, 3, 2)\n",
        "  h = torch.tanh(emb.view(-1,6) @ W1 + b1) # (32, 100)\n",
        "  logits = h @ W2 + b2 # (32, 27)\n",
        "  loss = F.cross_entropy(logits, Ytr[ix])\n",
        "  # print(loss.item())\n",
        "\n",
        "  # backward pass\n",
        "  for p in parameters:\n",
        "    p.grad = None\n",
        "  loss.backward()\n",
        "\n",
        "  # update\n",
        "  # lr = lrs[i]\n",
        "  lr = 0.1\n",
        "  for p in parameters:\n",
        "    p.data += -lr * p.grad\n",
        "\n",
        "  # track stats\n",
        "  # lri.append(lre[i])\n",
        "  stepi.append(i)\n",
        "  lossi.append(loss.item())"
      ],
      "metadata": {
        "id": "Bm6viKCdSfuO"
      },
      "execution_count": 350,
      "outputs": []
    },
    {
      "cell_type": "code",
      "source": [
        "plt.plot(stepi, lossi)"
      ],
      "metadata": {
        "colab": {
          "base_uri": "https://localhost:8080/",
          "height": 447
        },
        "id": "6FHnsMuQTBv7",
        "outputId": "03ed27ef-964a-4f52-e52e-b99d74a57cde"
      },
      "execution_count": 351,
      "outputs": [
        {
          "output_type": "execute_result",
          "data": {
            "text/plain": [
              "[<matplotlib.lines.Line2D at 0x7a80d9988610>]"
            ]
          },
          "metadata": {},
          "execution_count": 351
        },
        {
          "output_type": "display_data",
          "data": {
            "text/plain": [
              "<Figure size 640x480 with 1 Axes>"
            ],
            "image/png": "[encoded data removed]"
          },
          "metadata": {}
        }
      ]
    },
    {
      "cell_type": "code",
      "source": [
        "emb = C[Xtr] # (32, 3, 2)\n",
        "h = torch.tanh(emb.view(-1,6) @ W1 + b1) # (32, 100)\n",
        "logits = h @ W2 + b2 # (32, 27)\n",
        "loss = F.cross_entropy(logits, Ytr)\n",
        "loss"
      ],
      "metadata": {
        "colab": {
          "base_uri": "https://localhost:8080/"
        },
        "id": "58zVy4iJZU2u",
        "outputId": "1cc2aba0-5c12-4ba4-b7b5-d94f0a651371"
      },
      "execution_count": 352,
      "outputs": [
        {
          "output_type": "execute_result",
          "data": {
            "text/plain": [
              "tensor(2.5443, grad_fn=<NllLossBackward0>)"
            ]
          },
          "metadata": {},
          "execution_count": 352
        }
      ]
    },
    {
      "cell_type": "code",
      "source": [
        "emb = C[Xdev] # (32, 3, 2)\n",
        "h = torch.tanh(emb.view(-1,6) @ W1 + b1) # (32, 100)\n",
        "logits = h @ W2 + b2 # (32, 27)\n",
        "loss = F.cross_entropy(logits, Ydev)\n",
        "loss"
      ],
      "metadata": {
        "colab": {
          "base_uri": "https://localhost:8080/"
        },
        "id": "N_e7WlqDZWsM",
        "outputId": "798b3184-b24a-4065-bacf-844ff1e141c6"
      },
      "execution_count": 353,
      "outputs": [
        {
          "output_type": "execute_result",
          "data": {
            "text/plain": [
              "tensor(2.5382, grad_fn=<NllLossBackward0>)"
            ]
          },
          "metadata": {},
          "execution_count": 353
        }
      ]
    },
    {
      "cell_type": "markdown",
      "source": [
        "\n",
        "\n",
        "```\n",
        "lets continue training\n",
        "```\n",
        "\n"
      ],
      "metadata": {
        "id": "PA7LqGkGZkOt"
      }
    },
    {
      "cell_type": "code",
      "source": [
        "lri = []\n",
        "lossi = []\n",
        "stepi = []\n",
        "for i in range(30000):\n",
        "  # minibatch construct\n",
        "  ix = torch.randint(0, Xtr.shape[0], (32,))\n",
        "  # forward pass\n",
        "  emb = C[Xtr[ix]] # (32, 3, 2)\n",
        "  h = torch.tanh(emb.view(-1,6) @ W1 + b1) # (32, 100)\n",
        "  logits = h @ W2 + b2 # (32, 27)\n",
        "  loss = F.cross_entropy(logits, Ytr[ix])\n",
        "  # print(loss.item())\n",
        "\n",
        "  # backward pass\n",
        "  for p in parameters:\n",
        "    p.grad = None\n",
        "  loss.backward()\n",
        "\n",
        "  # update\n",
        "  # lr = lrs[i]\n",
        "  lr = 0.1\n",
        "  for p in parameters:\n",
        "    p.data += -lr * p.grad\n",
        "\n",
        "  # track stats\n",
        "  # lri.append(lre[i])\n",
        "  stepi.append(i)\n",
        "  lossi.append(loss.item())"
      ],
      "metadata": {
        "id": "mR91XC7zZpF4"
      },
      "execution_count": 354,
      "outputs": []
    },
    {
      "cell_type": "markdown",
      "source": [
        "\n",
        "\n",
        "```\n",
        "one possibility is that the batch size is so low\n",
        "```\n",
        "\n"
      ],
      "metadata": {
        "id": "I6J5UMQWZw4U"
      }
    },
    {
      "cell_type": "code",
      "source": [
        "plt.plot(stepi, lossi)"
      ],
      "metadata": {
        "colab": {
          "base_uri": "https://localhost:8080/",
          "height": 447
        },
        "id": "b-Vh4C5AZwCz",
        "outputId": "b9470734-6733-4dd2-ac69-f8c64d83fe75"
      },
      "execution_count": 355,
      "outputs": [
        {
          "output_type": "execute_result",
          "data": {
            "text/plain": [
              "[<matplotlib.lines.Line2D at 0x7a8081654130>]"
            ]
          },
          "metadata": {},
          "execution_count": 355
        },
        {
          "output_type": "display_data",
          "data": {
            "text/plain": [
              "<Figure size 640x480 with 1 Axes>"
            ],
            "image/png": "[encoded data removed]"
          },
          "metadata": {}
        }
      ]
    },
    {
      "cell_type": "code",
      "source": [
        "emb = C[Xtr] # (32, 3, 2)\n",
        "h = torch.tanh(emb.view(-1,6) @ W1 + b1) # (32, 100)\n",
        "logits = h @ W2 + b2 # (32, 27)\n",
        "loss = F.cross_entropy(logits, Ytr)\n",
        "loss"
      ],
      "metadata": {
        "colab": {
          "base_uri": "https://localhost:8080/"
        },
        "id": "3jYv0rfyaGAS",
        "outputId": "ac007e5d-b347-40b8-b635-7c3c6e34ba9c"
      },
      "execution_count": 356,
      "outputs": [
        {
          "output_type": "execute_result",
          "data": {
            "text/plain": [
              "tensor(2.4380, grad_fn=<NllLossBackward0>)"
            ]
          },
          "metadata": {},
          "execution_count": 356
        }
      ]
    },
    {
      "cell_type": "code",
      "source": [
        "emb = C[Xdev] # (32, 3, 2)\n",
        "h = torch.tanh(emb.view(-1,6) @ W1 + b1) # (32, 100)\n",
        "logits = h @ W2 + b2 # (32, 27)\n",
        "loss = F.cross_entropy(logits, Ydev)\n",
        "loss"
      ],
      "metadata": {
        "colab": {
          "base_uri": "https://localhost:8080/"
        },
        "id": "9t9OVBmkaHYS",
        "outputId": "1d75b679-f293-45e8-9aae-0700236fe818"
      },
      "execution_count": 357,
      "outputs": [
        {
          "output_type": "execute_result",
          "data": {
            "text/plain": [
              "tensor(2.4362, grad_fn=<NllLossBackward0>)"
            ]
          },
          "metadata": {},
          "execution_count": 357
        }
      ]
    },
    {
      "cell_type": "code",
      "source": [
        "lri = []\n",
        "lossi = []\n",
        "stepi = []\n",
        "for i in range(30000):\n",
        "  # minibatch construct\n",
        "  ix = torch.randint(0, Xtr.shape[0], (32,))\n",
        "  # forward pass\n",
        "  emb = C[Xtr[ix]] # (32, 3, 2)\n",
        "  h = torch.tanh(emb.view(-1,6) @ W1 + b1) # (32, 100)\n",
        "  logits = h @ W2 + b2 # (32, 27)\n",
        "  loss = F.cross_entropy(logits, Ytr[ix])\n",
        "  # print(loss.item())\n",
        "\n",
        "  # backward pass\n",
        "  for p in parameters:\n",
        "    p.grad = None\n",
        "  loss.backward()\n",
        "\n",
        "  # update\n",
        "  # lr = lrs[i]\n",
        "  lr = 0.05\n",
        "  for p in parameters:\n",
        "    p.data += -lr * p.grad\n",
        "\n",
        "  # track stats\n",
        "  # lri.append(lre[i])\n",
        "  stepi.append(i)\n",
        "  lossi.append(loss.item())"
      ],
      "metadata": {
        "id": "rhACGfPWaLZ4"
      },
      "execution_count": 358,
      "outputs": []
    },
    {
      "cell_type": "code",
      "source": [
        "emb = C[Xtr] # (32, 3, 2)\n",
        "h = torch.tanh(emb.view(-1,6) @ W1 + b1) # (32, 100)\n",
        "logits = h @ W2 + b2 # (32, 27)\n",
        "loss = F.cross_entropy(logits, Ytr)\n",
        "loss"
      ],
      "metadata": {
        "colab": {
          "base_uri": "https://localhost:8080/"
        },
        "id": "PRj50ro0aLFx",
        "outputId": "05f8e35d-a9b6-4085-b5fc-6c7a838b1a2b"
      },
      "execution_count": 359,
      "outputs": [
        {
          "output_type": "execute_result",
          "data": {
            "text/plain": [
              "tensor(2.3115, grad_fn=<NllLossBackward0>)"
            ]
          },
          "metadata": {},
          "execution_count": 359
        }
      ]
    },
    {
      "cell_type": "code",
      "source": [
        "emb = C[Xdev] # (32, 3, 2)\n",
        "h = torch.tanh(emb.view(-1,6) @ W1 + b1) # (32, 100)\n",
        "logits = h @ W2 + b2 # (32, 27)\n",
        "loss = F.cross_entropy(logits, Ydev)\n",
        "loss"
      ],
      "metadata": {
        "colab": {
          "base_uri": "https://localhost:8080/"
        },
        "id": "1X7kNtttaXSV",
        "outputId": "435b1437-373d-49bf-84a7-3687e592d63d"
      },
      "execution_count": 360,
      "outputs": [
        {
          "output_type": "execute_result",
          "data": {
            "text/plain": [
              "tensor(2.3174, grad_fn=<NllLossBackward0>)"
            ]
          },
          "metadata": {},
          "execution_count": 360
        }
      ]
    },
    {
      "cell_type": "code",
      "source": [
        "lri = []\n",
        "lossi = []\n",
        "stepi = []\n",
        "for i in range(30000):\n",
        "  # minibatch construct\n",
        "  ix = torch.randint(0, Xtr.shape[0], (32,))\n",
        "  # forward pass\n",
        "  emb = C[Xtr[ix]] # (32, 3, 2)\n",
        "  h = torch.tanh(emb.view(-1,6) @ W1 + b1) # (32, 100)\n",
        "  logits = h @ W2 + b2 # (32, 27)\n",
        "  loss = F.cross_entropy(logits, Ytr[ix])\n",
        "  # print(loss.item())\n",
        "\n",
        "  # backward pass\n",
        "  for p in parameters:\n",
        "    p.grad = None\n",
        "  loss.backward()\n",
        "\n",
        "  # update\n",
        "  # lr = lrs[i]\n",
        "  lr = 0.05\n",
        "  for p in parameters:\n",
        "    p.data += -lr * p.grad\n",
        "\n",
        "  # track stats\n",
        "  # lri.append(lre[i])\n",
        "  stepi.append(i)\n",
        "  lossi.append(loss.item())"
      ],
      "metadata": {
        "id": "EHNqshpMad_u"
      },
      "execution_count": 361,
      "outputs": []
    },
    {
      "cell_type": "code",
      "source": [
        "emb = C[Xtr] # (32, 3, 2)\n",
        "h = torch.tanh(emb.view(-1,6) @ W1 + b1) # (32, 100)\n",
        "logits = h @ W2 + b2 # (32, 27)\n",
        "loss = F.cross_entropy(logits, Ytr)\n",
        "loss"
      ],
      "metadata": {
        "colab": {
          "base_uri": "https://localhost:8080/"
        },
        "id": "EOyeSpNJamuT",
        "outputId": "73016543-335e-4391-b51c-8bf72277c72b"
      },
      "execution_count": 362,
      "outputs": [
        {
          "output_type": "execute_result",
          "data": {
            "text/plain": [
              "tensor(2.3022, grad_fn=<NllLossBackward0>)"
            ]
          },
          "metadata": {},
          "execution_count": 362
        }
      ]
    },
    {
      "cell_type": "code",
      "source": [
        "emb = C[Xdev] # (32, 3, 2)\n",
        "h = torch.tanh(emb.view(-1,6) @ W1 + b1) # (32, 100)\n",
        "logits = h @ W2 + b2 # (32, 27)\n",
        "loss = F.cross_entropy(logits, Ydev)\n",
        "loss"
      ],
      "metadata": {
        "colab": {
          "base_uri": "https://localhost:8080/"
        },
        "id": "lyKMb0xCanKa",
        "outputId": "03e482b4-b3b5-455d-d452-2f91ff1f738a"
      },
      "execution_count": 364,
      "outputs": [
        {
          "output_type": "execute_result",
          "data": {
            "text/plain": [
              "tensor(2.3060, grad_fn=<NllLossBackward0>)"
            ]
          },
          "metadata": {},
          "execution_count": 364
        }
      ]
    },
    {
      "cell_type": "code",
      "source": [
        "lri = []\n",
        "lossi = []\n",
        "stepi = []\n",
        "for i in range(30000):\n",
        "  # minibatch construct\n",
        "  ix = torch.randint(0, Xtr.shape[0], (32,))\n",
        "  # forward pass\n",
        "  emb = C[Xtr[ix]] # (32, 3, 2)\n",
        "  h = torch.tanh(emb.view(-1,6) @ W1 + b1) # (32, 100)\n",
        "  logits = h @ W2 + b2 # (32, 27)\n",
        "  loss = F.cross_entropy(logits, Ytr[ix])\n",
        "  # print(loss.item())\n",
        "\n",
        "  # backward pass\n",
        "  for p in parameters:\n",
        "    p.grad = None\n",
        "  loss.backward()\n",
        "\n",
        "  # update\n",
        "  # lr = lrs[i]\n",
        "  lr = 0.01\n",
        "  for p in parameters:\n",
        "    p.data += -lr * p.grad\n",
        "\n",
        "  # track stats\n",
        "  # lri.append(lre[i])\n",
        "  stepi.append(i)\n",
        "  lossi.append(loss.item())"
      ],
      "metadata": {
        "id": "pm8tVLV5bmzr"
      },
      "execution_count": 366,
      "outputs": []
    },
    {
      "cell_type": "code",
      "source": [
        "emb = C[Xtr] # (32, 3, 2)\n",
        "h = torch.tanh(emb.view(-1,6) @ W1 + b1) # (32, 100)\n",
        "logits = h @ W2 + b2 # (32, 27)\n",
        "loss = F.cross_entropy(logits, Ytr)\n",
        "loss"
      ],
      "metadata": {
        "colab": {
          "base_uri": "https://localhost:8080/"
        },
        "id": "eWi3lkRAb5yh",
        "outputId": "c53176b2-9957-493a-9797-1fc9213a6c67"
      },
      "execution_count": 367,
      "outputs": [
        {
          "output_type": "execute_result",
          "data": {
            "text/plain": [
              "tensor(2.2313, grad_fn=<NllLossBackward0>)"
            ]
          },
          "metadata": {},
          "execution_count": 367
        }
      ]
    },
    {
      "cell_type": "code",
      "source": [
        "emb = C[Xdev] # (32, 3, 2)\n",
        "h = torch.tanh(emb.view(-1,6) @ W1 + b1) # (32, 100)\n",
        "logits = h @ W2 + b2 # (32, 27)\n",
        "loss = F.cross_entropy(logits, Ydev)\n",
        "loss"
      ],
      "metadata": {
        "colab": {
          "base_uri": "https://localhost:8080/"
        },
        "id": "zZ8T5yLJb8XF",
        "outputId": "c9e36c40-50cb-407b-9e6e-89ce051835f7"
      },
      "execution_count": 368,
      "outputs": [
        {
          "output_type": "execute_result",
          "data": {
            "text/plain": [
              "tensor(2.2360, grad_fn=<NllLossBackward0>)"
            ]
          },
          "metadata": {},
          "execution_count": 368
        }
      ]
    },
    {
      "cell_type": "code",
      "source": [
        "# lri = []\n",
        "# lossi = []\n",
        "# stepi = []\n",
        "# for i in range(30000):\n",
        "#   # minibatch construct\n",
        "#   ix = torch.randint(0, Xtr.shape[0], (32,))\n",
        "#   # forward pass\n",
        "#   emb = C[Xtr[ix]] # (32, 3, 2)\n",
        "#   h = torch.tanh(emb.view(-1,6) @ W1 + b1) # (32, 100)\n",
        "#   logits = h @ W2 + b2 # (32, 27)\n",
        "#   loss = F.cross_entropy(logits, Ytr[ix])\n",
        "#   # print(loss.item())\n",
        "\n",
        "#   # backward pass\n",
        "#   for p in parameters:\n",
        "#     p.grad = None\n",
        "#   loss.backward()\n",
        "\n",
        "#   # update\n",
        "#   # lr = lrs[i]\n",
        "#   lr = 0.01\n",
        "#   for p in parameters:\n",
        "#     p.data += -lr * p.grad\n",
        "\n",
        "#   # track stats\n",
        "#   # lri.append(lre[i])\n",
        "#   stepi.append(i)\n",
        "#   lossi.append(loss.item())\n",
        "\n",
        "# emb = C[Xtr] # (32, 3, 2)\n",
        "# h = torch.tanh(emb.view(-1,6) @ W1 + b1) # (32, 100)\n",
        "# logits = h @ W2 + b2 # (32, 27)\n",
        "# loss = F.cross_entropy(logits, Ytr)\n",
        "# loss\n",
        "\n",
        "# tensor(2.2316, grad_fn=<NllLossBackward0>)"
      ],
      "metadata": {
        "id": "vTvBiz0YcDdg"
      },
      "execution_count": 369,
      "outputs": []
    },
    {
      "cell_type": "code",
      "source": [
        "plt.figure(figsize=(8,8))\n",
        "plt.scatter(C[:,0].data, C[:,1].data, s=200)\n",
        "for i in range(C.shape[0]):\n",
        "  plt.text(C[i,0].item(), C[i,1].item(), itos[i], ha='center', va=\"center\", color = 'white')\n",
        "plt.grid('minor')"
      ],
      "metadata": {
        "colab": {
          "base_uri": "https://localhost:8080/",
          "height": 624
        },
        "id": "ZVD0T2fTcYe5",
        "outputId": "e0cfa577-16e7-46c8-adf9-c570f0dae6a3"
      },
      "execution_count": 371,
      "outputs": [
        {
          "output_type": "display_data",
          "data": {
            "text/plain": [
              "<Figure size 800x800 with 1 Axes>"
            ],
            "image/png": "[encoded data removed]"
          },
          "metadata": {}
        }
      ]
    },
    {
      "cell_type": "code",
      "source": [
        "g = torch.Generator().manual_seed(2147484767) # for reproducability\n",
        "C = torch.randn((27,10), generator=g)\n",
        "W1 = torch.randn((30,200), generator=g)\n",
        "b1 = torch.randn(200, generator=g)\n",
        "W2 = torch.randn((200,27),generator=g)\n",
        "b2 = torch.randn(27,generator=g)\n",
        "parameters = [C, W1, b1, W2, b2]"
      ],
      "metadata": {
        "id": "5wE6EcYjdTfq"
      },
      "execution_count": 385,
      "outputs": []
    },
    {
      "cell_type": "code",
      "source": [
        "sum(p.nelement() for p in parameters) # number of parameters in total\n"
      ],
      "metadata": {
        "colab": {
          "base_uri": "https://localhost:8080/"
        },
        "id": "Qj0FdPXbdfMN",
        "outputId": "742883ce-1417-4742-e2dd-d027ef1aca9b"
      },
      "execution_count": 386,
      "outputs": [
        {
          "output_type": "execute_result",
          "data": {
            "text/plain": [
              "11897"
            ]
          },
          "metadata": {},
          "execution_count": 386
        }
      ]
    },
    {
      "cell_type": "code",
      "source": [
        "for p in parameters:\n",
        "  p.requires_grad = True\n",
        "\n",
        "lre = torch.linspace(-3,0,1000)\n",
        "lrs = 10**lre"
      ],
      "metadata": {
        "id": "kUewNPfWdllb"
      },
      "execution_count": 387,
      "outputs": []
    },
    {
      "cell_type": "code",
      "source": [
        "lri = []\n",
        "lossi = []\n",
        "stepi = []"
      ],
      "metadata": {
        "id": "zBe6t4EId2sN"
      },
      "execution_count": 388,
      "outputs": []
    },
    {
      "cell_type": "code",
      "source": [
        "for i in range(50000):\n",
        "  # minibatch construct\n",
        "  ix = torch.randint(0, Xtr.shape[0], (32,))\n",
        "  # forward pass\n",
        "  emb = C[Xtr[ix]] # (32, 3, 2)\n",
        "  h = torch.tanh(emb.view(-1,30) @ W1 + b1) # (32, 100)\n",
        "  logits = h @ W2 + b2 # (32, 27)\n",
        "  loss = F.cross_entropy(logits, Ytr[ix])\n",
        "  # print(loss.item())\n",
        "\n",
        "  # backward pass\n",
        "  for p in parameters:\n",
        "    p.grad = None\n",
        "  loss.backward()\n",
        "\n",
        "  # update\n",
        "  # lr = lrs[i]\n",
        "  lr = 0.1\n",
        "  for p in parameters:\n",
        "    p.data += -lr * p.grad\n",
        "\n",
        "  # track stats\n",
        "  # lri.append(lre[i])\n",
        "  stepi.append(i)\n",
        "  lossi.append(loss.log10().item())"
      ],
      "metadata": {
        "id": "8jsBGxLiduIj"
      },
      "execution_count": 389,
      "outputs": []
    },
    {
      "cell_type": "code",
      "source": [
        "plt.plot(stepi, lossi)"
      ],
      "metadata": {
        "colab": {
          "base_uri": "https://localhost:8080/",
          "height": 447
        },
        "id": "oFb_6ODdeIGo",
        "outputId": "743715e8-f03f-497a-bb8c-5e7d03301a85"
      },
      "execution_count": 390,
      "outputs": [
        {
          "output_type": "execute_result",
          "data": {
            "text/plain": [
              "[<matplotlib.lines.Line2D at 0x7a8081d0b400>]"
            ]
          },
          "metadata": {},
          "execution_count": 390
        },
        {
          "output_type": "display_data",
          "data": {
            "text/plain": [
              "<Figure size 640x480 with 1 Axes>"
            ],
            "image/png": "[encoded data removed]"
          },
          "metadata": {}
        }
      ]
    },
    {
      "cell_type": "code",
      "source": [
        "emb = C[Xtr] # (32, 3, 2)\n",
        "h = torch.tanh(emb.view(-1,30) @ W1 + b1) # (32, 100)\n",
        "logits = h @ W2 + b2 # (32, 27)\n",
        "loss = F.cross_entropy(logits, Ytr)\n",
        "loss"
      ],
      "metadata": {
        "colab": {
          "base_uri": "https://localhost:8080/"
        },
        "id": "zAWqQ76YeMdR",
        "outputId": "e136f31a-c7b4-4185-d04f-55b21f15e4d8"
      },
      "execution_count": 391,
      "outputs": [
        {
          "output_type": "execute_result",
          "data": {
            "text/plain": [
              "tensor(2.3550, grad_fn=<NllLossBackward0>)"
            ]
          },
          "metadata": {},
          "execution_count": 391
        }
      ]
    },
    {
      "cell_type": "code",
      "source": [
        "emb = C[Xdev] # (32, 3, 2)\n",
        "h = torch.tanh(emb.view(-1,30) @ W1 + b1) # (32, 100)\n",
        "logits = h @ W2 + b2 # (32, 27)\n",
        "loss = F.cross_entropy(logits, Ydev)\n",
        "loss"
      ],
      "metadata": {
        "colab": {
          "base_uri": "https://localhost:8080/"
        },
        "id": "YdCRBcDpeVcH",
        "outputId": "189656d8-2bd6-4441-e291-e9f06615a3b5"
      },
      "execution_count": 392,
      "outputs": [
        {
          "output_type": "execute_result",
          "data": {
            "text/plain": [
              "tensor(2.3779, grad_fn=<NllLossBackward0>)"
            ]
          },
          "metadata": {},
          "execution_count": 392
        }
      ]
    },
    {
      "cell_type": "code",
      "source": [
        "for i in range(50000):\n",
        "  # minibatch construct\n",
        "  ix = torch.randint(0, Xtr.shape[0], (32,))\n",
        "  # forward pass\n",
        "  emb = C[Xtr[ix]] # (32, 3, 2)\n",
        "  h = torch.tanh(emb.view(-1,30) @ W1 + b1) # (32, 100)\n",
        "  logits = h @ W2 + b2 # (32, 27)\n",
        "  loss = F.cross_entropy(logits, Ytr[ix])\n",
        "  # print(loss.item())\n",
        "\n",
        "  # backward pass\n",
        "  for p in parameters:\n",
        "    p.grad = None\n",
        "  loss.backward()\n",
        "\n",
        "  # update\n",
        "  # lr = lrs[i]\n",
        "  lr = 0.01\n",
        "  for p in parameters:\n",
        "    p.data += -lr * p.grad\n",
        "\n",
        "  # track stats\n",
        "  # lri.append(lre[i])\n",
        "  stepi.append(i)\n",
        "  lossi.append(loss.log10().item())"
      ],
      "metadata": {
        "id": "M-NnWY6sfCSX"
      },
      "execution_count": 393,
      "outputs": []
    },
    {
      "cell_type": "code",
      "source": [
        "plt.plot(stepi, lossi)"
      ],
      "metadata": {
        "colab": {
          "base_uri": "https://localhost:8080/",
          "height": 447
        },
        "id": "FeEEQbc0fES7",
        "outputId": "fa8c9aba-f3b9-4680-99c2-2649ffb9c618"
      },
      "execution_count": 394,
      "outputs": [
        {
          "output_type": "execute_result",
          "data": {
            "text/plain": [
              "[<matplotlib.lines.Line2D at 0x7a8081556710>]"
            ]
          },
          "metadata": {},
          "execution_count": 394
        },
        {
          "output_type": "display_data",
          "data": {
            "text/plain": [
              "<Figure size 640x480 with 1 Axes>"
            ],
            "image/png": "[encoded data removed]"
          },
          "metadata": {}
        }
      ]
    },
    {
      "cell_type": "code",
      "source": [
        "emb = C[Xtr] # (32, 3, 2)\n",
        "h = torch.tanh(emb.view(-1,30) @ W1 + b1) # (32, 100)\n",
        "logits = h @ W2 + b2 # (32, 27)\n",
        "loss = F.cross_entropy(logits, Ytr)\n",
        "loss"
      ],
      "metadata": {
        "colab": {
          "base_uri": "https://localhost:8080/"
        },
        "id": "ctGAowlEfOcA",
        "outputId": "44b8b1fb-f176-43ec-8db0-6557497b5840"
      },
      "execution_count": 395,
      "outputs": [
        {
          "output_type": "execute_result",
          "data": {
            "text/plain": [
              "tensor(2.1805, grad_fn=<NllLossBackward0>)"
            ]
          },
          "metadata": {},
          "execution_count": 395
        }
      ]
    },
    {
      "cell_type": "code",
      "source": [
        "emb = C[Xdev] # (32, 3, 2)\n",
        "h = torch.tanh(emb.view(-1,30) @ W1 + b1) # (32, 100)\n",
        "logits = h @ W2 + b2 # (32, 27)\n",
        "loss = F.cross_entropy(logits, Ydev)\n",
        "loss"
      ],
      "metadata": {
        "colab": {
          "base_uri": "https://localhost:8080/"
        },
        "id": "kX9hT5W0fPHl",
        "outputId": "87ab7e7a-fbb6-4869-97ab-7e9d8c7e5eb4"
      },
      "execution_count": 396,
      "outputs": [
        {
          "output_type": "execute_result",
          "data": {
            "text/plain": [
              "tensor(2.2052, grad_fn=<NllLossBackward0>)"
            ]
          },
          "metadata": {},
          "execution_count": 396
        }
      ]
    },
    {
      "cell_type": "code",
      "source": [
        "for i in range(50000):\n",
        "  # minibatch construct\n",
        "  ix = torch.randint(0, Xtr.shape[0], (32,))\n",
        "  # forward pass\n",
        "  emb = C[Xtr[ix]] # (32, 3, 2)\n",
        "  h = torch.tanh(emb.view(-1,30) @ W1 + b1) # (32, 100)\n",
        "  logits = h @ W2 + b2 # (32, 27)\n",
        "  loss = F.cross_entropy(logits, Ytr[ix])\n",
        "  # print(loss.item())\n",
        "\n",
        "  # backward pass\n",
        "  for p in parameters:\n",
        "    p.grad = None\n",
        "  loss.backward()\n",
        "\n",
        "  # update\n",
        "  # lr = lrs[i]\n",
        "  lr = 0.01\n",
        "  for p in parameters:\n",
        "    p.data += -lr * p.grad\n",
        "\n",
        "  # track stats\n",
        "  # lri.append(lre[i])\n",
        "  stepi.append(i)\n",
        "  lossi.append(loss.log10().item())"
      ],
      "metadata": {
        "id": "FWoGOGgFfVVQ"
      },
      "execution_count": 397,
      "outputs": []
    },
    {
      "cell_type": "code",
      "source": [
        "plt.plot(stepi, lossi)"
      ],
      "metadata": {
        "colab": {
          "base_uri": "https://localhost:8080/",
          "height": 447
        },
        "id": "T0tgFA8tfYCJ",
        "outputId": "d327aeb1-aef5-490c-eedb-f419194b9762"
      },
      "execution_count": 398,
      "outputs": [
        {
          "output_type": "execute_result",
          "data": {
            "text/plain": [
              "[<matplotlib.lines.Line2D at 0x7a80d8d92ef0>]"
            ]
          },
          "metadata": {},
          "execution_count": 398
        },
        {
          "output_type": "display_data",
          "data": {
            "text/plain": [
              "<Figure size 640x480 with 1 Axes>"
            ],
            "image/png": "[encoded data removed]"
          },
          "metadata": {}
        }
      ]
    },
    {
      "cell_type": "code",
      "source": [
        "emb = C[Xtr] # (32, 3, 2)\n",
        "h = torch.tanh(emb.view(-1,30) @ W1 + b1) # (32, 100)\n",
        "logits = h @ W2 + b2 # (32, 27)\n",
        "loss = F.cross_entropy(logits, Ytr)\n",
        "loss"
      ],
      "metadata": {
        "colab": {
          "base_uri": "https://localhost:8080/"
        },
        "id": "qLWYmOvofZbu",
        "outputId": "2c3a3cd9-f297-4cad-ebd4-2ba4a30a6610"
      },
      "execution_count": 399,
      "outputs": [
        {
          "output_type": "execute_result",
          "data": {
            "text/plain": [
              "tensor(2.1707, grad_fn=<NllLossBackward0>)"
            ]
          },
          "metadata": {},
          "execution_count": 399
        }
      ]
    },
    {
      "cell_type": "code",
      "source": [
        "emb = C[Xdev] # (32, 3, 2)\n",
        "h = torch.tanh(emb.view(-1,30) @ W1 + b1) # (32, 100)\n",
        "logits = h @ W2 + b2 # (32, 27)\n",
        "loss = F.cross_entropy(logits, Ydev)\n",
        "loss"
      ],
      "metadata": {
        "colab": {
          "base_uri": "https://localhost:8080/"
        },
        "id": "crpAOo3vfaqX",
        "outputId": "1a14de2a-6d36-47d7-ad18-6dd0a21848be"
      },
      "execution_count": 400,
      "outputs": [
        {
          "output_type": "execute_result",
          "data": {
            "text/plain": [
              "tensor(2.1956, grad_fn=<NllLossBackward0>)"
            ]
          },
          "metadata": {},
          "execution_count": 400
        }
      ]
    },
    {
      "cell_type": "code",
      "source": [
        "g = torch.Generator().manual_seed(2147484767) # for reproducability\n",
        "C = torch.randn((27,10), generator=g)\n",
        "W1 = torch.randn((30,200), generator=g)\n",
        "b1 = torch.randn(200, generator=g)\n",
        "W2 = torch.randn((200,27),generator=g)\n",
        "b2 = torch.randn(27,generator=g)\n",
        "parameters = [C, W1, b1, W2, b2]"
      ],
      "metadata": {
        "id": "nUoqjwAggjEQ"
      },
      "execution_count": 401,
      "outputs": []
    },
    {
      "cell_type": "code",
      "source": [
        "sum(p.nelement() for p in parameters) # number of parameters in total\n"
      ],
      "metadata": {
        "colab": {
          "base_uri": "https://localhost:8080/"
        },
        "id": "8CE56ft5gnHd",
        "outputId": "8f1e07ab-18cb-4501-eb1a-6c98f011f17c"
      },
      "execution_count": 402,
      "outputs": [
        {
          "output_type": "execute_result",
          "data": {
            "text/plain": [
              "11897"
            ]
          },
          "metadata": {},
          "execution_count": 402
        }
      ]
    },
    {
      "cell_type": "code",
      "source": [
        "for p in parameters:\n",
        "  p.requires_grad = True\n",
        "\n",
        "lre = torch.linspace(-3,0,1000)\n",
        "lrs = 10**lre"
      ],
      "metadata": {
        "id": "OcOUuhwjgrfK"
      },
      "execution_count": 403,
      "outputs": []
    },
    {
      "cell_type": "code",
      "source": [
        "lri = []\n",
        "lossi = []\n",
        "stepi = []"
      ],
      "metadata": {
        "id": "ucKCXMeKgsME"
      },
      "execution_count": 404,
      "outputs": []
    },
    {
      "cell_type": "code",
      "source": [
        "for i in range(200000):\n",
        "  # minibatch construct\n",
        "  ix = torch.randint(0, Xtr.shape[0], (32,))\n",
        "  # forward pass\n",
        "  emb = C[Xtr[ix]] # (32, 3, 2)\n",
        "  h = torch.tanh(emb.view(-1,30) @ W1 + b1) # (32, 100)\n",
        "  logits = h @ W2 + b2 # (32, 27)\n",
        "  loss = F.cross_entropy(logits, Ytr[ix])\n",
        "  # print(loss.item())\n",
        "\n",
        "  # backward pass\n",
        "  for p in parameters:\n",
        "    p.grad = None\n",
        "  loss.backward()\n",
        "\n",
        "  # update\n",
        "  # lr = lrs[i]\n",
        "  lr = 0.1 if i < 100000 else 0.01\n",
        "  for p in parameters:\n",
        "    p.data += -lr * p.grad\n",
        "\n",
        "  # track stats\n",
        "  # lri.append(lre[i])\n",
        "  stepi.append(i)\n",
        "  lossi.append(loss.log10().item())"
      ],
      "metadata": {
        "id": "IKAYLmIxguf9"
      },
      "execution_count": 405,
      "outputs": []
    },
    {
      "cell_type": "code",
      "source": [
        "plt.plot(stepi, lossi)"
      ],
      "metadata": {
        "colab": {
          "base_uri": "https://localhost:8080/",
          "height": 447
        },
        "id": "UTZMW-2ug7HR",
        "outputId": "f14a9a03-9c85-4e16-89d8-c10799b9e272"
      },
      "execution_count": 406,
      "outputs": [
        {
          "output_type": "execute_result",
          "data": {
            "text/plain": [
              "[<matplotlib.lines.Line2D at 0x7a80815d8490>]"
            ]
          },
          "metadata": {},
          "execution_count": 406
        },
        {
          "output_type": "display_data",
          "data": {
            "text/plain": [
              "<Figure size 640x480 with 1 Axes>"
            ],
            "image/png": "[encoded data removed]"
          },
          "metadata": {}
        }
      ]
    },
    {
      "cell_type": "code",
      "source": [
        "emb = C[Xtr] # (32, 3, 2)\n",
        "h = torch.tanh(emb.view(-1,30) @ W1 + b1) # (32, 100)\n",
        "logits = h @ W2 + b2 # (32, 27)\n",
        "loss = F.cross_entropy(logits, Ytr)\n",
        "loss"
      ],
      "metadata": {
        "colab": {
          "base_uri": "https://localhost:8080/"
        },
        "id": "y9N8uPi9g-HS",
        "outputId": "5372f3e9-7135-4f0f-9969-4d3b2c9bc160"
      },
      "execution_count": 407,
      "outputs": [
        {
          "output_type": "execute_result",
          "data": {
            "text/plain": [
              "tensor(2.1211, grad_fn=<NllLossBackward0>)"
            ]
          },
          "metadata": {},
          "execution_count": 407
        }
      ]
    },
    {
      "cell_type": "code",
      "source": [
        "emb = C[Xdev] # (32, 3, 2)\n",
        "h = torch.tanh(emb.view(-1,30) @ W1 + b1) # (32, 100)\n",
        "logits = h @ W2 + b2 # (32, 27)\n",
        "loss = F.cross_entropy(logits, Ydev)\n",
        "loss"
      ],
      "metadata": {
        "colab": {
          "base_uri": "https://localhost:8080/"
        },
        "id": "Mpio74g3hAMY",
        "outputId": "2c9d2df5-4347-413e-b686-c297c2c5cda5"
      },
      "execution_count": 408,
      "outputs": [
        {
          "output_type": "execute_result",
          "data": {
            "text/plain": [
              "tensor(2.1617, grad_fn=<NllLossBackward0>)"
            ]
          },
          "metadata": {},
          "execution_count": 408
        }
      ]
    },
    {
      "cell_type": "code",
      "source": [
        "# sample from the model\n",
        "g = torch.Generator().manual_seed(2147484767 + 10)\n",
        "\n",
        "for _ in range(20):\n",
        "  out = []\n",
        "  context = [0] * block_size # initialize with all ...\n",
        "  while True:\n",
        "    emb = C[torch.tensor([context])] # (1, block_size, d)\n",
        "    h = torch.tanh(emb.view(1, -1) @ W1 + b1)\n",
        "    logits = h @ W2 + b2\n",
        "    probs = F.softmax(logits, dim=1)\n",
        "    ix = torch.multinomial(probs, num_samples=1, generator=g).item()\n",
        "    context = context[1:] + [ix]\n",
        "    out.append(ix)\n",
        "    if ix == 0:\n",
        "      break\n",
        "  print(''.join(itos[i] for i in out))"
      ],
      "metadata": {
        "colab": {
          "base_uri": "https://localhost:8080/"
        },
        "id": "ZAeon7vRh88l",
        "outputId": "ab030b08-9eaa-440e-9da0-3cd3a29c84e8"
      },
      "execution_count": 411,
      "outputs": [
        {
          "output_type": "stream",
          "name": "stdout",
          "text": [
            "madijo.\n",
            "hudwe.\n",
            "ini.\n",
            "jezi.\n",
            "alarerteen.\n",
            "kenausene.\n",
            "aquhlo.\n",
            "per.\n",
            "onati.\n",
            "caperseemarqueen.\n",
            "ameis.\n",
            "dariannishn.\n",
            "lagadlyn.\n",
            "rice.\n",
            "aleia.\n",
            "ahrosson.\n",
            "calondalyn.\n",
            "mahdila.\n",
            "arlakhit.\n",
            "chainei.\n"
          ]
        }
      ]
    }
  ]
}